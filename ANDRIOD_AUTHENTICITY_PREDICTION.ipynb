{
  "nbformat": 4,
  "nbformat_minor": 0,
  "metadata": {
    "colab": {
      "name": "ANDRIOD AUTHENTICITY PREDICTION.ipynb",
      "provenance": [],
      "collapsed_sections": [],
      "include_colab_link": true
    },
    "kernelspec": {
      "name": "python3",
      "display_name": "Python 3"
    },
    "language_info": {
      "name": "python"
    }
  },
  "cells": [
    {
      "cell_type": "markdown",
      "metadata": {
        "id": "view-in-github",
        "colab_type": "text"
      },
      "source": [
        "<a href=\"https://colab.research.google.com/github/DT22179/Android-Authenticity-Prediction/blob/main/ANDRIOD_AUTHENTICITY_PREDICTION.ipynb\" target=\"_parent\"><img src=\"https://colab.research.google.com/assets/colab-badge.svg\" alt=\"Open In Colab\"/></a>"
      ]
    },
    {
      "cell_type": "markdown",
      "metadata": {
        "id": "LGcl5Bv9ed6u"
      },
      "source": [
        "# **Problem Statement**"
      ]
    },
    {
      "cell_type": "markdown",
      "metadata": {
        "id": "8oY8vstDp_uK"
      },
      "source": [
        "This dataset consists of apps needed permissions during installation and run-time. We collect apps from three different sources google play, third-party apps and malware dataset. This file contains more than 30,000 Android apps. features extracted at the time of installation and execution. One file contains the name of the features and others contain .apk file corresponding to it extracted permissions with respective package. Apps are collected from Google's play store, hiapk, app china,  Android,  mumayi , gfan  slideme, and pandaapp.  These .apk files collected from the last three years continuously and contain 81 distinct malware families. But, Here you are only supposed to predict whether the app is benign(0) or malware(1)."
      ]
    },
    {
      "cell_type": "markdown",
      "metadata": {
        "id": "AzGDqdC4fZ-b"
      },
      "source": [
        "# **Attribute Information**"
      ]
    },
    {
      "cell_type": "markdown",
      "metadata": {
        "id": "kJGyhFENyAM4"
      },
      "source": [
        "1 . App :- Name of the App\n",
        " \n",
        "2 . Package :- OBB/Data package installed in root folder\n",
        " \n",
        "3 . Category :-  App Category (eg. Entertainment, Adventure, puzzle, Action, Antivirus, etc.)\n",
        " \n",
        "4 . Description :- App Description\n",
        " \n",
        "5 . Rating :-  Rating out of 5\n",
        " \n",
        "6 . Number of ratings :- No. of Ratings given by users\n",
        " \n",
        "7 . Price :- Price of the App\n",
        " \n",
        "8 . Related apps :-  Apps related to installed App\n",
        " \n",
        "9 . Dangerous **(D)** permissions count :- No. of Dangerous Permissions allowed by user\n",
        " \n",
        "10 . Safe **(S)** permissions count :- No. of Safe Permissions allowed by user\n",
        " \n",
        "11 . Default : Access DRM content. (S) :- 0 : No , 1 : Yes \n",
        " \n",
        "12 . Default : Access Email provider data (S) :- 0 : No , 1 : Yes \n",
        " \n",
        "13 . Default : Access all system downloads (S) :- 0 : No , 1 : Yes \n",
        " \n",
        "14 . Default : Access download manager. (S) :- 0 : No , 1 : Yes \n",
        " \n",
        "15 . Default : Advanced download manager functions. (S) :- 0 : No , 1 : Yes \n",
        " \n",
        "16 . Default : Audio File Access (S) :- 0 : No , 1 : Yes \n",
        " \n",
        "17 . Default : Install DRM content. (S) :- 0 : No , 1 : Yes \n",
        " \n",
        "18 . Default : Modify Google service configuration (S) :- 0 : No , 1 : Yes \n",
        " \n",
        "19 . Default : Modify Google settings (S) :- 0 : No , 1 : Yes \n",
        " \n",
        "20 . Default : Move application resources (S) :- 0 : No , 1 : Yes \n",
        " \n",
        "21 . Default : Read Google settings (S) :- 0 : No , 1 : Yes \n",
        " \n",
        "22 . Default : Send download notifications. (S) :- 0 : No , 1 : Yes \n",
        " \n",
        "23 . Default : Voice Search Shortcuts (S) :- 0 : No , 1 : Yes \n",
        " \n",
        "24 . Default : access SurfaceFlinger (S) :- 0 : No , 1 : Yes \n",
        " \n",
        "25 . Default : access checkin properties (S) :- 0 : No , 1 : Yes \n",
        " \n",
        "26 . Default : access the cache filesystem (S) :- 0 : No , 1 : Yes \n",
        " \n",
        "27 . Default : access to passwords for Google accounts (S) :- 0 : No , 1 : Yes \n",
        " \n",
        "28 . Default : act as an account authenticator (S) :- 0 : No , 1 : Yes \n",
        " \n",
        "29 . Default : bind to a wallpaper (S) :- 0 : No , 1 : Yes \n",
        " \n",
        "30 . Default : bind to an input method (S) :- 0 : No , 1 : Yes \n",
        " \n",
        "31 . Default : change screen orientation (S) :- 0 : No , 1 : Yes \n",
        " \n",
        "32 . Default : coarse (network-based) location (S) :- 0 : No , 1 : Yes \n",
        " \n",
        "33 . Default : control location update notifications (S) :- 0 : No , 1 : Yes \n",
        " \n",
        "34 . Default : control system backup and restore (S) :- 0 : No , 1 : Yes \n",
        " \n",
        "35 . Default : delete applications (S) :- 0 : No , 1 : Yes \n",
        " \n",
        "36 . Default : delete other applications' caches (S) :- 0 : No , 1 : Yes \n",
        " \n",
        "37 . Default : delete other applications' data (S) :- 0 : No , 1 : Yes \n",
        " \n",
        "38 . Default : directly call any phone numbers (S) :- 0 : No , 1 : Yes \n",
        " \n",
        "39 . Default : directly install applications (S) :- 0 : No , 1 : Yes \n",
        " \n",
        "40 . Default : disable or modify status bar (S) :- 0 : No , 1 : Yes \n",
        " \n",
        "41 . Default : discover known accounts (S) :- 0 : No , 1 : Yes \n",
        " \n",
        "42 . Default : display unauthorized windows (S) :- 0 : No , 1 : Yes \n",
        " \n",
        "43 . Default : enable or disable application components (S) :- 0 : No , 1 : Yes \n",
        " \n",
        "44 . Default : force application to close (S) :- 0 : No , 1 : Yes \n",
        " \n",
        "45 . Default : force device reboot (S) :- 0 : No , 1 : Yes \n",
        " \n",
        "46 . Default : full Internet access (S) :- 0 : No , 1 : Yes \n",
        " \n",
        "47 . Default : interact with a device admin (S) :- 0 : No , 1 : Yes \n",
        " \n",
        "48 . Default : manage application tokens (S) :- 0 : No , 1 : Yes \n",
        " \n",
        "49 . Default : mock location sources for testing (S) :- 0 : No , 1 : Yes \n",
        " \n",
        "50 . Default : modify battery statistics (S) :- 0 : No , 1 : Yes \n",
        " \n",
        "51 . Default : modify secure system settings (S) :- 0 : No , 1 : Yes \n",
        " \n",
        "52 . Default : modify the Google services map (S) :- 0 : No , 1 : Yes \n",
        " \n",
        "53 . Default : modify/delete USB storage contents modify/delete SD card contents (S) :- 0 : No , 1 : Yes \n",
        " \n",
        "54 . Default : monitor and control all application launching (S) :- 0 : No , 1 : Yes \n",
        " \n",
        "55 . Default : partial shutdown (S) :- 0 : No , 1 : Yes \n",
        " \n",
        "56 . Default : permanently disable device (S) :- 0 : No , 1 : Yes \n",
        " \n",
        "57 . Default : permission to install a location provider (S) :- 0 : No , 1 : Yes \n",
        " \n",
        "58 . Default : power device on or off (S) :- 0 : No , 1 : Yes \n",
        " \n",
        "59 . Default : press keys and control buttons (S) :- 0 : No , 1 : Yes \n",
        " \n",
        "60 . Default : prevent app switches (S) :- 0 : No , 1 : Yes \n",
        " \n",
        "61 . Default : read frame buffer (S) :- 0 : No , 1 : Yes \n",
        " \n",
        "62 . Default : read instant messages (S) :- 0 : No , 1 : Yes \n",
        " \n",
        "63 . Default : read phone state and identity (S) :- 0 : No , 1 : Yes \n",
        " \n",
        "64 . Default : record what you type and actions you take (S) :- 0 : No , 1 : Yes \n",
        " \n",
        "65 . Default : reset system to factory defaults (S) :- 0 : No , 1 : Yes \n",
        " \n",
        "66 . Default : run in factory test mode (S) :- 0 : No , 1 : Yes \n",
        " \n",
        "67 . Default : set time (S) :- 0 : No , 1 : Yes \n",
        " \n",
        "68 . Default : set wallpaper size hints (S) :- 0 : No , 1 : Yes \n",
        " \n",
        "69 . Default : start IM service (S) :- 0 : No , 1 : Yes \n",
        " \n",
        "70 . Default : update component usage statistics (S) :- 0 : No , 1 : Yes \n",
        " \n",
        "71 . Default : write contact data (S) :- 0 : No , 1 : Yes \n",
        " \n",
        "72 . Default : write instant messages (S) :- 0 : No , 1 : Yes \n",
        " \n",
        "73 . Development tools : enable application debugging (D) :- 0 : No , 1 : Yes \n",
        " \n",
        "74 . Development tools : limit number of running processes (D) :- 0 : No , 1 : Yes \n",
        " \n",
        "75 . Development tools : make all background applications close (D) :- 0 : No , 1 : Yes \n",
        " \n",
        "76 . Development tools : send Linux signals to applications (D) :- 0 : No , 1 : Yes \n",
        " \n",
        "77 . Hardware controls : change your audio settings (D) :- 0 : No , 1 : Yes \n",
        " \n",
        "78 . Hardware controls : control flashlight (S) :- 0 : No , 1 : Yes \n",
        " \n",
        "79 . Hardware controls : control vibrator (S) :- 0 : No , 1 : Yes \n",
        " \n",
        "80 . Hardware controls : record audio (D) :- 0 : No , 1 : Yes \n",
        " \n",
        "81 . Hardware controls : take pictures and videos (D) :- 0 : No , 1 : Yes \n",
        " \n",
        "82 . Hardware controls : test hardware (S) :- 0 : No , 1 : Yes \n",
        " \n",
        "83 . Network communication : Broadcast data messages to applications. (S) :- 0 : No , 1 : Yes \n",
        " \n",
        "84 . Network communication : control Near Field Communication (D) :- 0 : No , 1 : Yes \n",
        " \n",
        "85 . Network communication : create Bluetooth connections (D) :- 0 : No , 1 : Yes \n",
        " \n",
        "86 . Network communication : download files without notification (S) :- 0 : No , 1 : Yes \n",
        " \n",
        "87 . Network communication : full Internet access (D) :- 0 : No , 1 : Yes \n",
        " \n",
        "88 . Network communication : make/receive Internet calls (D) :- 0 : No , 1 : Yes \n",
        " \n",
        "89 . Network communication : receive data from Internet (S) :- 0 : No , 1 : Yes \n",
        " \n",
        "90 . Network communication : view Wi-Fi state (S) :- 0 : No , 1 : Yes \n",
        " \n",
        "91 . Network communication : view network state (S) :- 0 : No , 1 : Yes \n",
        " \n",
        "92 . Phone calls : intercept outgoing calls (D) :- 0 : No , 1 : Yes \n",
        " \n",
        "93 . Phone calls : modify phone state (S) :- 0 : No , 1 : Yes \n",
        " \n",
        "94 . Phone calls : read phone state and identity (D) :- 0 : No , 1 : Yes \n",
        " \n",
        "95 . Services that cost you money : directly call phone numbers (D) :- 0 : No , 1 : Yes \n",
        " \n",
        "96 . Services that cost you money : send SMS messages (D) :- 0 : No , 1 : Yes \n",
        " \n",
        "97 . Storage : modify/delete USB storage contents modify/delete SD card contents (D) :- 0 : No , 1 : Yes \n",
        " \n",
        "98 . System tools : allow Wi-Fi Multicast reception (D) :- 0 : No , 1 : Yes \n",
        " \n",
        "99 . System tools : automatically start at boot (S) :- 0 : No , 1 : Yes \n",
        " \n",
        "100 . System tools : bluetooth administration (D) :- 0 : No , 1 : Yes \n",
        " \n",
        "101 . System tools : change Wi-Fi state (D) :- 0 : No , 1 : Yes \n",
        " \n",
        "102 . System tools : change background data usage setting (S) :- 0 : No , 1 : Yes \n",
        " \n",
        "103 . System tools : change network connectivity (D) :- 0 : No , 1 : Yes \n",
        " \n",
        "104 . System tools : change your UI settings (D) :- 0 : No , 1 : Yes \n",
        " \n",
        "105 . System tools : delete all application cache data (D) :- 0 : No , 1 : Yes \n",
        " \n",
        "106 . System tools : disable keylock (D) :- 0 : No , 1 : Yes \n",
        " \n",
        "107 . System tools : display system-level alerts (D) :- 0 : No , 1 : Yes \n",
        " \n",
        "108 . System tools : expand/collapse status bar (S) :- 0 : No , 1 : Yes \n",
        " \n",
        "109 . System tools : force stop other applications (S) :- 0 : No , 1 : Yes \n",
        " \n",
        "110 . System tools : format external storage (D) :- 0 : No , 1 : Yes \n",
        " \n",
        "111 . System tools : kill background processes (S) :- 0 : No , 1 : Yes \n",
        " \n",
        "112 . System tools : make application always run (D) :- 0 : No , 1 : Yes \n",
        " \n",
        "113 . System tools : measure application storage space (S) :- 0 : No , 1 : Yes \n",
        " \n",
        "114 . System tools : modify global animation speed (D) :- 0 : No , 1 : Yes \n",
        " \n",
        "115 . System tools : modify global system settings (D) :- 0 : No , 1 : Yes \n",
        " \n",
        "116 . System tools : mount and unmount filesystems (D) :- 0 : No , 1 : Yes \n",
        " \n",
        "117 . System tools : prevent device from sleeping (D) :- 0 : No , 1 : Yes \n",
        " \n",
        "118 . System tools : read subscribed feeds (S) :- 0 : No , 1 : Yes \n",
        " \n",
        "119 . System tools : read sync settings (S) :- 0 : No , 1 : Yes \n",
        " \n",
        "120 . System tools : read sync statistics (S) :- 0 : No , 1 : Yes \n",
        " \n",
        "121 . System tools : read/write to resources owned by diag (S) :- 0 : No , 1 : Yes \n",
        " \n",
        "122 . System tools : reorder running applications (D) :- 0 : No , 1 : Yes \n",
        " \n",
        "123 . System tools : retrieve running applications (D) :- 0 : No , 1 : Yes \n",
        " \n",
        "124 . System tools : send package removed broadcast (S) :- 0 : No , 1 : Yes \n",
        " \n",
        "125 . System tools : send sticky broadcast (S) :- 0 : No , 1 : Yes \n",
        " \n",
        "126 . System tools : set preferred applications (S) :- 0 : No , 1 : Yes \n",
        " \n",
        "127 . System tools : set time zone (D) :- 0 : No , 1 : Yes \n",
        " \n",
        "128 . System tools : set wallpaper (S) :- 0 : No , 1 : Yes \n",
        " \n",
        "129 . System tools : set wallpaper size hints (S) :- 0 : No , 1 : Yes \n",
        " \n",
        "130 . System tools : write Access Point Name settings (D) :- 0 : No , 1 : Yes \n",
        " \n",
        "131 . System tools : write subscribed feeds (D) :- 0 : No , 1 : Yes \n",
        " \n",
        "132 . System tools : write sync settings (D) :- 0 : No , 1 : Yes \n",
        " \n",
        "133 . Your accounts : Blogger (D) :- 0 : No , 1 : Yes \n",
        " \n",
        "134 . Your accounts : Google App Engine (D) :- 0 : No , 1 : Yes \n",
        " \n",
        "135 . Your accounts : Google Docs (D) :- 0 : No , 1 : Yes \n",
        " \n",
        "136 . Your accounts : Google Finance (D) :- 0 : No , 1 : Yes \n",
        " \n",
        "137 . Your accounts : Google Maps (D) :- 0 : No , 1 : Yes \n",
        " \n",
        "138 . Your accounts : Google Spreadsheets (D) :- 0 : No , 1 : Yes \n",
        " \n",
        "139 . Your accounts : Google Voice (D) :- 0 : No , 1 : Yes \n",
        " \n",
        "140 . Your accounts : Google mail (D) :- 0 : No , 1 : Yes \n",
        " \n",
        "141 . Your accounts : Picasa Web Albums (D) :- 0 : No , 1 : Yes \n",
        " \n",
        "142 . Your accounts : YouTube (D) :- 0 : No , 1 : Yes \n",
        " \n",
        "143 . Your accounts : YouTube usernames (D) :- 0 : No , 1 : Yes \n",
        " \n",
        "144 . Your accounts : access all Google services (S) :- 0 : No , 1 : Yes \n",
        " \n",
        "145 . Your accounts : access other Google services (D) :- 0 : No , 1 : Yes \n",
        " \n",
        "146 . Your accounts : act as an account authenticator (D) :- 0 : No , 1 : Yes \n",
        " \n",
        "147 . Your accounts : act as the AccountManagerService (S) :- 0 : No , 1 : Yes \n",
        " \n",
        "148 . Your accounts : contacts data in Google accounts (D) :- 0 : No , 1 : Yes \n",
        " \n",
        "149 . Your accounts : discover known accounts (S) :- 0 : No , 1 : Yes \n",
        " \n",
        "150 . Your accounts : manage the accounts list (D) :- 0 : No , 1 : Yes \n",
        " \n",
        "151 . Your accounts : read Google service configuration (S) :- 0 : No , 1 : Yes \n",
        " \n",
        "152 . Your accounts : use the authentication credentials of an account (D) :- 0 : No , 1 : Yes \n",
        " \n",
        "153 . Your accounts : view configured accounts (S) :- 0 : No , 1 : Yes \n",
        " \n",
        "154 . Your location : access extra location provider commands (S) :- 0 : No , 1 : Yes \n",
        " \n",
        "155 . Your location : coarse (network-based) location (D) :- 0 : No , 1 : Yes \n",
        " \n",
        "156 . Your location : fine (GPS) location (D) :- 0 : No , 1 : Yes \n",
        " \n",
        "157 . Your location : mock location sources for testing (D) :- 0 : No , 1 : Yes \n",
        " \n",
        "158 . Your messages : Read Email attachments (D) :- 0 : No , 1 : Yes \n",
        " \n",
        "159 . Your messages : Send Gmail (S) :- 0 : No , 1 : Yes \n",
        " \n",
        "160 . Your messages : edit SMS or MMS (D) :- 0 : No , 1 : Yes \n",
        " \n",
        "161 . Your messages : modify Gmail (D) :- 0 : No , 1 : Yes \n",
        " \n",
        "162 . Your messages : read Gmail (D) :- 0 : No , 1 : Yes \n",
        " \n",
        "163 . Your messages : read Gmail attachment previews (D) :- 0 : No , 1 : Yes \n",
        " \n",
        "164 . Your messages : read SMS or MMS (D) :- 0 : No , 1 : Yes \n",
        " \n",
        "165 . Your messages : read instant messages (D) :- 0 : No , 1 : Yes \n",
        " \n",
        "166 . Your messages : receive MMS (D) :- 0 : No , 1 : Yes \n",
        " \n",
        "167 . Your messages : receive SMS (D) :- 0 : No , 1 : Yes \n",
        " \n",
        "168 . Your messages : receive WAP (D) :- 0 : No , 1 : Yes \n",
        " \n",
        "169 . Your messages : send SMS-received broadcast (S) :- 0 : No , 1 : Yes \n",
        " \n",
        "170 . Your messages : send WAP-PUSH-received broadcast (S) :- 0 : No , 1 : Yes \n",
        " \n",
        "171 . Your messages : write instant messages (D) :- 0 : No , 1 : Yes \n",
        " \n",
        "172 . Your personal information : add or modify calendar events and send email to guests (D) :- 0 : No , 1 : Yes \n",
        " \n",
        "173 . Your personal information : choose widgets (S) :- 0 : No , 1 : Yes \n",
        " \n",
        "174 . Your personal information : read Browser's history and bookmarks (D) :- 0 : No , 1 : Yes \n",
        " \n",
        "175 . Your personal information : read calendar events (D) :- 0 : No , 1 : Yes \n",
        " \n",
        "176 . Your personal information : read contact data (D) :- 0 : No , 1 : Yes \n",
        " \n",
        "177 . Your personal information : read sensitive log data (D) :- 0 : No , 1 : Yes \n",
        " \n",
        "178 . Your personal information : read user defined dictionary (D) :- 0 : No , 1 : Yes \n",
        " \n",
        "179 . Your personal information : retrieve system internal state (S) :- 0 : No , 1 : Yes \n",
        " \n",
        "180 . Your personal information : set alarm in alarm clock (S) :- 0 : No , 1 : Yes \n",
        " \n",
        "181 . Your personal information : write Browser's history and bookmarks (D) :- 0 : No , 1 : Yes \n",
        " \n",
        "182 . Your personal information : write contact data (D) :- 0 : No , 1 : Yes \n",
        " \n",
        "183 . Your personal information : write to user defined dictionary (S) :- 0 : No , 1 : Yes \n",
        " \n",
        "184 . Class :- 0 : Benign , 1 : Malware"
      ]
    },
    {
      "cell_type": "markdown",
      "source": [
        "## Objective - \n",
        "Main objective of our model is to predict wheter the app is benign(genuine) or malware(contains virus)."
      ],
      "metadata": {
        "id": "em21lafZLFJl"
      }
    },
    {
      "cell_type": "markdown",
      "source": [
        "# Let's Begin"
      ],
      "metadata": {
        "id": "TYc9KOZ3LRov"
      }
    },
    {
      "cell_type": "markdown",
      "source": [
        "Importing a drive"
      ],
      "metadata": {
        "id": "DpMrru8Fw-9N"
      }
    },
    {
      "cell_type": "code",
      "source": [
        "from google.colab import drive\n",
        "drive.mount('/content/drive')"
      ],
      "metadata": {
        "colab": {
          "base_uri": "https://localhost:8080/"
        },
        "id": "5pWoFtZQvAO_",
        "outputId": "060f9522-47e2-47b4-a290-8772d4804662"
      },
      "execution_count": 108,
      "outputs": [
        {
          "output_type": "stream",
          "name": "stdout",
          "text": [
            "Drive already mounted at /content/drive; to attempt to forcibly remount, call drive.mount(\"/content/drive\", force_remount=True).\n"
          ]
        }
      ]
    },
    {
      "cell_type": "code",
      "source": [
        "## Importing reuired libraries\n",
        "import pandas as pd\n",
        "import numpy as np\n",
        "import matplotlib.pyplot as plt\n",
        "import seaborn as sns\n",
        "import warnings\n",
        "warnings.filterwarnings('ignore')\n",
        "\n",
        "from scipy import stats"
      ],
      "metadata": {
        "id": "RPxzGKTuvFPY"
      },
      "execution_count": 109,
      "outputs": []
    },
    {
      "cell_type": "code",
      "source": [
        "## Reading the dataset and storing it in df variable\n",
        "df = pd.read_csv('/content/drive/MyDrive/AlmaBetter/Capstone Project/Supervised Learning (Classification)- Capstone Project/ANDRIOD AUTHENTICITY PREDICTION.csv')"
      ],
      "metadata": {
        "id": "X9FPmUWvvVaw"
      },
      "execution_count": 110,
      "outputs": []
    },
    {
      "cell_type": "code",
      "source": [
        "df.head()"
      ],
      "metadata": {
        "colab": {
          "base_uri": "https://localhost:8080/",
          "height": 664
        },
        "id": "NdKFZtb_vYH0",
        "outputId": "e917edbd-8f5e-4861-b0b3-cd21b2a67737"
      },
      "execution_count": 111,
      "outputs": [
        {
          "output_type": "execute_result",
          "data": {
            "text/plain": [
              "                              App                                   Package  \\\n",
              "0         Canada Post Corporation                    com.canadapost.android   \n",
              "1                       Word Farm                 com.realcasualgames.words   \n",
              "2            Fortunes of War FREE                        fortunesofwar.free   \n",
              "3  Better Keyboard: Avatar Purple  com.cc.betterkeyboard.skins.avatarpurple   \n",
              "4                      Boxing Day                indiaNIC.android.BoxingDay   \n",
              "\n",
              "           Category                                        Description  \\\n",
              "0          Business  Canada Post Mobile App gives you access to som...   \n",
              "1    Brain & Puzzle  Speed and strategy combine in this exciting wo...   \n",
              "2    Cards & Casino  Fortunes of War is a fast-paced, easy to learn...   \n",
              "3  Libraries & Demo  Skin for Better Keyboard featuring a glossy fe...   \n",
              "4         Lifestyle  Boxing Day by Christopher Jaymes<p>Based on a ...   \n",
              "\n",
              "   Rating  Number of ratings  Price  \\\n",
              "0     3.1                 77   0.00   \n",
              "1     4.3                199   0.00   \n",
              "2     4.1                243   0.00   \n",
              "3     3.6               2589   0.00   \n",
              "4     0.0                  0   5.99   \n",
              "\n",
              "                                        Related apps  \\\n",
              "0  {com.adaffix.pub.ca.android, com.kevinquan.gas...   \n",
              "1  {air.com.zubawing.FastWordLite, com.joybits.do...   \n",
              "2  {com.kevinquan.condado, hu.monsta.pazaak, net....   \n",
              "3  {eu.gdumoulin.betterandroid.skins.transparent....   \n",
              "4                                                NaN   \n",
              "\n",
              "   Dangerous permissions count  Safe permissions count  ...  \\\n",
              "0                          7.0                       1  ...   \n",
              "1                          3.0                       2  ...   \n",
              "2                          1.0                       1  ...   \n",
              "3                          0.0                       0  ...   \n",
              "4                          1.0                       0  ...   \n",
              "\n",
              "   Your personal information : read calendar events (D)  \\\n",
              "0                                                  0      \n",
              "1                                                  0      \n",
              "2                                                  0      \n",
              "3                                                  0      \n",
              "4                                                  0      \n",
              "\n",
              "   Your personal information : read contact data (D)  \\\n",
              "0                                                  1   \n",
              "1                                                  0   \n",
              "2                                                  0   \n",
              "3                                                  0   \n",
              "4                                                  0   \n",
              "\n",
              "   Your personal information : read sensitive log data (D)  \\\n",
              "0                                                  0         \n",
              "1                                                  0         \n",
              "2                                                  0         \n",
              "3                                                  0         \n",
              "4                                                  0         \n",
              "\n",
              "   Your personal information : read user defined dictionary (D)  \\\n",
              "0                                                  0              \n",
              "1                                                  0              \n",
              "2                                                  0              \n",
              "3                                                  0              \n",
              "4                                                  0              \n",
              "\n",
              "   Your personal information : retrieve system internal state (S)  \\\n",
              "0                                                  0                \n",
              "1                                                  0                \n",
              "2                                                  0                \n",
              "3                                                  0                \n",
              "4                                                  0                \n",
              "\n",
              "   Your personal information : set alarm in alarm clock (S)  \\\n",
              "0                                                  0          \n",
              "1                                                  0          \n",
              "2                                                  0          \n",
              "3                                                  0          \n",
              "4                                                  0          \n",
              "\n",
              "   Your personal information : write Browser's history and bookmarks (D)  \\\n",
              "0                                                  0                       \n",
              "1                                                  0                       \n",
              "2                                                  0                       \n",
              "3                                                  0                       \n",
              "4                                                  0                       \n",
              "\n",
              "   Your personal information : write contact data (D)  \\\n",
              "0                                                  1    \n",
              "1                                                  0    \n",
              "2                                                  0    \n",
              "3                                                  0    \n",
              "4                                                  0    \n",
              "\n",
              "   Your personal information : write to user defined dictionary (S)  Class  \n",
              "0                                                  0                     0  \n",
              "1                                                  0                     0  \n",
              "2                                                  0                     0  \n",
              "3                                                  0                     0  \n",
              "4                                                  0                     1  \n",
              "\n",
              "[5 rows x 184 columns]"
            ],
            "text/html": [
              "\n",
              "  <div id=\"df-13f65043-b11b-43b0-af29-aae0bb9a695a\">\n",
              "    <div class=\"colab-df-container\">\n",
              "      <div>\n",
              "<style scoped>\n",
              "    .dataframe tbody tr th:only-of-type {\n",
              "        vertical-align: middle;\n",
              "    }\n",
              "\n",
              "    .dataframe tbody tr th {\n",
              "        vertical-align: top;\n",
              "    }\n",
              "\n",
              "    .dataframe thead th {\n",
              "        text-align: right;\n",
              "    }\n",
              "</style>\n",
              "<table border=\"1\" class=\"dataframe\">\n",
              "  <thead>\n",
              "    <tr style=\"text-align: right;\">\n",
              "      <th></th>\n",
              "      <th>App</th>\n",
              "      <th>Package</th>\n",
              "      <th>Category</th>\n",
              "      <th>Description</th>\n",
              "      <th>Rating</th>\n",
              "      <th>Number of ratings</th>\n",
              "      <th>Price</th>\n",
              "      <th>Related apps</th>\n",
              "      <th>Dangerous permissions count</th>\n",
              "      <th>Safe permissions count</th>\n",
              "      <th>...</th>\n",
              "      <th>Your personal information : read calendar events (D)</th>\n",
              "      <th>Your personal information : read contact data (D)</th>\n",
              "      <th>Your personal information : read sensitive log data (D)</th>\n",
              "      <th>Your personal information : read user defined dictionary (D)</th>\n",
              "      <th>Your personal information : retrieve system internal state (S)</th>\n",
              "      <th>Your personal information : set alarm in alarm clock (S)</th>\n",
              "      <th>Your personal information : write Browser's history and bookmarks (D)</th>\n",
              "      <th>Your personal information : write contact data (D)</th>\n",
              "      <th>Your personal information : write to user defined dictionary (S)</th>\n",
              "      <th>Class</th>\n",
              "    </tr>\n",
              "  </thead>\n",
              "  <tbody>\n",
              "    <tr>\n",
              "      <th>0</th>\n",
              "      <td>Canada Post Corporation</td>\n",
              "      <td>com.canadapost.android</td>\n",
              "      <td>Business</td>\n",
              "      <td>Canada Post Mobile App gives you access to som...</td>\n",
              "      <td>3.1</td>\n",
              "      <td>77</td>\n",
              "      <td>0.00</td>\n",
              "      <td>{com.adaffix.pub.ca.android, com.kevinquan.gas...</td>\n",
              "      <td>7.0</td>\n",
              "      <td>1</td>\n",
              "      <td>...</td>\n",
              "      <td>0</td>\n",
              "      <td>1</td>\n",
              "      <td>0</td>\n",
              "      <td>0</td>\n",
              "      <td>0</td>\n",
              "      <td>0</td>\n",
              "      <td>0</td>\n",
              "      <td>1</td>\n",
              "      <td>0</td>\n",
              "      <td>0</td>\n",
              "    </tr>\n",
              "    <tr>\n",
              "      <th>1</th>\n",
              "      <td>Word Farm</td>\n",
              "      <td>com.realcasualgames.words</td>\n",
              "      <td>Brain &amp; Puzzle</td>\n",
              "      <td>Speed and strategy combine in this exciting wo...</td>\n",
              "      <td>4.3</td>\n",
              "      <td>199</td>\n",
              "      <td>0.00</td>\n",
              "      <td>{air.com.zubawing.FastWordLite, com.joybits.do...</td>\n",
              "      <td>3.0</td>\n",
              "      <td>2</td>\n",
              "      <td>...</td>\n",
              "      <td>0</td>\n",
              "      <td>0</td>\n",
              "      <td>0</td>\n",
              "      <td>0</td>\n",
              "      <td>0</td>\n",
              "      <td>0</td>\n",
              "      <td>0</td>\n",
              "      <td>0</td>\n",
              "      <td>0</td>\n",
              "      <td>0</td>\n",
              "    </tr>\n",
              "    <tr>\n",
              "      <th>2</th>\n",
              "      <td>Fortunes of War FREE</td>\n",
              "      <td>fortunesofwar.free</td>\n",
              "      <td>Cards &amp; Casino</td>\n",
              "      <td>Fortunes of War is a fast-paced, easy to learn...</td>\n",
              "      <td>4.1</td>\n",
              "      <td>243</td>\n",
              "      <td>0.00</td>\n",
              "      <td>{com.kevinquan.condado, hu.monsta.pazaak, net....</td>\n",
              "      <td>1.0</td>\n",
              "      <td>1</td>\n",
              "      <td>...</td>\n",
              "      <td>0</td>\n",
              "      <td>0</td>\n",
              "      <td>0</td>\n",
              "      <td>0</td>\n",
              "      <td>0</td>\n",
              "      <td>0</td>\n",
              "      <td>0</td>\n",
              "      <td>0</td>\n",
              "      <td>0</td>\n",
              "      <td>0</td>\n",
              "    </tr>\n",
              "    <tr>\n",
              "      <th>3</th>\n",
              "      <td>Better Keyboard: Avatar Purple</td>\n",
              "      <td>com.cc.betterkeyboard.skins.avatarpurple</td>\n",
              "      <td>Libraries &amp; Demo</td>\n",
              "      <td>Skin for Better Keyboard featuring a glossy fe...</td>\n",
              "      <td>3.6</td>\n",
              "      <td>2589</td>\n",
              "      <td>0.00</td>\n",
              "      <td>{eu.gdumoulin.betterandroid.skins.transparent....</td>\n",
              "      <td>0.0</td>\n",
              "      <td>0</td>\n",
              "      <td>...</td>\n",
              "      <td>0</td>\n",
              "      <td>0</td>\n",
              "      <td>0</td>\n",
              "      <td>0</td>\n",
              "      <td>0</td>\n",
              "      <td>0</td>\n",
              "      <td>0</td>\n",
              "      <td>0</td>\n",
              "      <td>0</td>\n",
              "      <td>0</td>\n",
              "    </tr>\n",
              "    <tr>\n",
              "      <th>4</th>\n",
              "      <td>Boxing Day</td>\n",
              "      <td>indiaNIC.android.BoxingDay</td>\n",
              "      <td>Lifestyle</td>\n",
              "      <td>Boxing Day by Christopher Jaymes&lt;p&gt;Based on a ...</td>\n",
              "      <td>0.0</td>\n",
              "      <td>0</td>\n",
              "      <td>5.99</td>\n",
              "      <td>NaN</td>\n",
              "      <td>1.0</td>\n",
              "      <td>0</td>\n",
              "      <td>...</td>\n",
              "      <td>0</td>\n",
              "      <td>0</td>\n",
              "      <td>0</td>\n",
              "      <td>0</td>\n",
              "      <td>0</td>\n",
              "      <td>0</td>\n",
              "      <td>0</td>\n",
              "      <td>0</td>\n",
              "      <td>0</td>\n",
              "      <td>1</td>\n",
              "    </tr>\n",
              "  </tbody>\n",
              "</table>\n",
              "<p>5 rows × 184 columns</p>\n",
              "</div>\n",
              "      <button class=\"colab-df-convert\" onclick=\"convertToInteractive('df-13f65043-b11b-43b0-af29-aae0bb9a695a')\"\n",
              "              title=\"Convert this dataframe to an interactive table.\"\n",
              "              style=\"display:none;\">\n",
              "        \n",
              "  <svg xmlns=\"http://www.w3.org/2000/svg\" height=\"24px\"viewBox=\"0 0 24 24\"\n",
              "       width=\"24px\">\n",
              "    <path d=\"M0 0h24v24H0V0z\" fill=\"none\"/>\n",
              "    <path d=\"M18.56 5.44l.94 2.06.94-2.06 2.06-.94-2.06-.94-.94-2.06-.94 2.06-2.06.94zm-11 1L8.5 8.5l.94-2.06 2.06-.94-2.06-.94L8.5 2.5l-.94 2.06-2.06.94zm10 10l.94 2.06.94-2.06 2.06-.94-2.06-.94-.94-2.06-.94 2.06-2.06.94z\"/><path d=\"M17.41 7.96l-1.37-1.37c-.4-.4-.92-.59-1.43-.59-.52 0-1.04.2-1.43.59L10.3 9.45l-7.72 7.72c-.78.78-.78 2.05 0 2.83L4 21.41c.39.39.9.59 1.41.59.51 0 1.02-.2 1.41-.59l7.78-7.78 2.81-2.81c.8-.78.8-2.07 0-2.86zM5.41 20L4 18.59l7.72-7.72 1.47 1.35L5.41 20z\"/>\n",
              "  </svg>\n",
              "      </button>\n",
              "      \n",
              "  <style>\n",
              "    .colab-df-container {\n",
              "      display:flex;\n",
              "      flex-wrap:wrap;\n",
              "      gap: 12px;\n",
              "    }\n",
              "\n",
              "    .colab-df-convert {\n",
              "      background-color: #E8F0FE;\n",
              "      border: none;\n",
              "      border-radius: 50%;\n",
              "      cursor: pointer;\n",
              "      display: none;\n",
              "      fill: #1967D2;\n",
              "      height: 32px;\n",
              "      padding: 0 0 0 0;\n",
              "      width: 32px;\n",
              "    }\n",
              "\n",
              "    .colab-df-convert:hover {\n",
              "      background-color: #E2EBFA;\n",
              "      box-shadow: 0px 1px 2px rgba(60, 64, 67, 0.3), 0px 1px 3px 1px rgba(60, 64, 67, 0.15);\n",
              "      fill: #174EA6;\n",
              "    }\n",
              "\n",
              "    [theme=dark] .colab-df-convert {\n",
              "      background-color: #3B4455;\n",
              "      fill: #D2E3FC;\n",
              "    }\n",
              "\n",
              "    [theme=dark] .colab-df-convert:hover {\n",
              "      background-color: #434B5C;\n",
              "      box-shadow: 0px 1px 3px 1px rgba(0, 0, 0, 0.15);\n",
              "      filter: drop-shadow(0px 1px 2px rgba(0, 0, 0, 0.3));\n",
              "      fill: #FFFFFF;\n",
              "    }\n",
              "  </style>\n",
              "\n",
              "      <script>\n",
              "        const buttonEl =\n",
              "          document.querySelector('#df-13f65043-b11b-43b0-af29-aae0bb9a695a button.colab-df-convert');\n",
              "        buttonEl.style.display =\n",
              "          google.colab.kernel.accessAllowed ? 'block' : 'none';\n",
              "\n",
              "        async function convertToInteractive(key) {\n",
              "          const element = document.querySelector('#df-13f65043-b11b-43b0-af29-aae0bb9a695a');\n",
              "          const dataTable =\n",
              "            await google.colab.kernel.invokeFunction('convertToInteractive',\n",
              "                                                     [key], {});\n",
              "          if (!dataTable) return;\n",
              "\n",
              "          const docLinkHtml = 'Like what you see? Visit the ' +\n",
              "            '<a target=\"_blank\" href=https://colab.research.google.com/notebooks/data_table.ipynb>data table notebook</a>'\n",
              "            + ' to learn more about interactive tables.';\n",
              "          element.innerHTML = '';\n",
              "          dataTable['output_type'] = 'display_data';\n",
              "          await google.colab.output.renderOutput(dataTable, element);\n",
              "          const docLink = document.createElement('div');\n",
              "          docLink.innerHTML = docLinkHtml;\n",
              "          element.appendChild(docLink);\n",
              "        }\n",
              "      </script>\n",
              "    </div>\n",
              "  </div>\n",
              "  "
            ]
          },
          "metadata": {},
          "execution_count": 111
        }
      ]
    },
    {
      "cell_type": "markdown",
      "source": [
        "**--------------------------------------------------EDA---------------------------------------------------------**"
      ],
      "metadata": {
        "id": "r4ZYmwmDxj3k"
      }
    },
    {
      "cell_type": "markdown",
      "source": [
        "Checking the info of our dataset"
      ],
      "metadata": {
        "id": "pFed54vVxuKD"
      }
    },
    {
      "cell_type": "code",
      "source": [
        "df.info(verbose=True, show_counts=True)"
      ],
      "metadata": {
        "colab": {
          "base_uri": "https://localhost:8080/"
        },
        "id": "i_7gNdEwvawS",
        "outputId": "370f2a86-31cf-4c4e-df13-3faabd1d032e"
      },
      "execution_count": 112,
      "outputs": [
        {
          "output_type": "stream",
          "name": "stdout",
          "text": [
            "<class 'pandas.core.frame.DataFrame'>\n",
            "RangeIndex: 29999 entries, 0 to 29998\n",
            "Data columns (total 184 columns):\n",
            " #    Column                                                                                  Non-Null Count  Dtype  \n",
            "---   ------                                                                                  --------------  -----  \n",
            " 0    App                                                                                     29998 non-null  object \n",
            " 1    Package                                                                                 29999 non-null  object \n",
            " 2    Category                                                                                29999 non-null  object \n",
            " 3    Description                                                                             29996 non-null  object \n",
            " 4    Rating                                                                                  29999 non-null  float64\n",
            " 5    Number of ratings                                                                       29999 non-null  int64  \n",
            " 6    Price                                                                                   29999 non-null  float64\n",
            " 7    Related apps                                                                            29244 non-null  object \n",
            " 8    Dangerous permissions count                                                             29795 non-null  float64\n",
            " 9    Safe permissions count                                                                  29999 non-null  int64  \n",
            " 10   Default : Access DRM content. (S)                                                       29999 non-null  int64  \n",
            " 11   Default : Access Email provider data (S)                                                29999 non-null  int64  \n",
            " 12   Default : Access all system downloads (S)                                               29999 non-null  int64  \n",
            " 13   Default : Access download manager. (S)                                                  29999 non-null  int64  \n",
            " 14   Default : Advanced download manager functions. (S)                                      29999 non-null  int64  \n",
            " 15   Default : Audio File Access (S)                                                         29999 non-null  int64  \n",
            " 16   Default : Install DRM content. (S)                                                      29999 non-null  int64  \n",
            " 17   Default : Modify Google service configuration (S)                                       29999 non-null  int64  \n",
            " 18   Default : Modify Google settings (S)                                                    29999 non-null  int64  \n",
            " 19   Default : Move application resources (S)                                                29999 non-null  int64  \n",
            " 20   Default : Read Google settings (S)                                                      29999 non-null  int64  \n",
            " 21   Default : Send download notifications. (S)                                              29999 non-null  int64  \n",
            " 22   Default : Voice Search Shortcuts (S)                                                    29999 non-null  int64  \n",
            " 23   Default : access SurfaceFlinger (S)                                                     29999 non-null  int64  \n",
            " 24   Default : access checkin properties (S)                                                 29999 non-null  int64  \n",
            " 25   Default : access the cache filesystem (S)                                               29999 non-null  int64  \n",
            " 26   Default : access to passwords for Google accounts (S)                                   29999 non-null  int64  \n",
            " 27   Default : act as an account authenticator (S)                                           29999 non-null  int64  \n",
            " 28   Default : bind to a wallpaper (S)                                                       29999 non-null  int64  \n",
            " 29   Default : bind to an input method (S)                                                   29999 non-null  int64  \n",
            " 30   Default : change screen orientation (S)                                                 29999 non-null  int64  \n",
            " 31   Default : coarse (network-based) location (S)                                           29999 non-null  int64  \n",
            " 32   Default : control location update notifications (S)                                     29999 non-null  int64  \n",
            " 33   Default : control system backup and restore (S)                                         29999 non-null  int64  \n",
            " 34   Default : delete applications (S)                                                       29999 non-null  int64  \n",
            " 35   Default : delete other applications' caches (S)                                         29999 non-null  int64  \n",
            " 36   Default : delete other applications' data (S)                                           29999 non-null  int64  \n",
            " 37   Default : directly call any phone numbers (S)                                           29999 non-null  int64  \n",
            " 38   Default : directly install applications (S)                                             29999 non-null  int64  \n",
            " 39   Default : disable or modify status bar (S)                                              29999 non-null  int64  \n",
            " 40   Default : discover known accounts (S)                                                   29999 non-null  int64  \n",
            " 41   Default : display unauthorized windows (S)                                              29999 non-null  int64  \n",
            " 42   Default : enable or disable application components (S)                                  29999 non-null  int64  \n",
            " 43   Default : force application to close (S)                                                29999 non-null  int64  \n",
            " 44   Default : force device reboot (S)                                                       29999 non-null  int64  \n",
            " 45   Default : full Internet access (S)                                                      29999 non-null  int64  \n",
            " 46   Default : interact with a device admin (S)                                              29999 non-null  int64  \n",
            " 47   Default : manage application tokens (S)                                                 29999 non-null  int64  \n",
            " 48   Default : mock location sources for testing (S)                                         29999 non-null  int64  \n",
            " 49   Default : modify battery statistics (S)                                                 29999 non-null  int64  \n",
            " 50   Default : modify secure system settings (S)                                             29999 non-null  int64  \n",
            " 51   Default : modify the Google services map (S)                                            29999 non-null  int64  \n",
            " 52   Default : modify/delete USB storage contents modify/delete SD card contents (S)         29999 non-null  int64  \n",
            " 53   Default : monitor and control all application launching (S)                             29999 non-null  int64  \n",
            " 54   Default : partial shutdown (S)                                                          29999 non-null  int64  \n",
            " 55   Default : permanently disable device (S)                                                29999 non-null  int64  \n",
            " 56   Default : permission to install a location provider (S)                                 29999 non-null  int64  \n",
            " 57   Default : power device on or off (S)                                                    29999 non-null  int64  \n",
            " 58   Default : press keys and control buttons (S)                                            29999 non-null  int64  \n",
            " 59   Default : prevent app switches (S)                                                      29999 non-null  int64  \n",
            " 60   Default : read frame buffer (S)                                                         29999 non-null  int64  \n",
            " 61   Default : read instant messages (S)                                                     29999 non-null  int64  \n",
            " 62   Default : read phone state and identity (S)                                             29999 non-null  int64  \n",
            " 63   Default : record what you type and actions you take (S)                                 29999 non-null  int64  \n",
            " 64   Default : reset system to factory defaults (S)                                          29999 non-null  int64  \n",
            " 65   Default : run in factory test mode (S)                                                  29999 non-null  int64  \n",
            " 66   Default : set time (S)                                                                  29999 non-null  int64  \n",
            " 67   Default : set wallpaper size hints (S)                                                  29999 non-null  int64  \n",
            " 68   Default : start IM service (S)                                                          29999 non-null  int64  \n",
            " 69   Default : update component usage statistics (S)                                         29999 non-null  int64  \n",
            " 70   Default : write contact data (S)                                                        29999 non-null  int64  \n",
            " 71   Default : write instant messages (S)                                                    29999 non-null  int64  \n",
            " 72   Development tools : enable application debugging (D)                                    29999 non-null  int64  \n",
            " 73   Development tools : limit number of running processes (D)                               29999 non-null  int64  \n",
            " 74   Development tools : make all background applications close (D)                          29999 non-null  int64  \n",
            " 75   Development tools : send Linux signals to applications (D)                              29999 non-null  int64  \n",
            " 76   Hardware controls : change your audio settings (D)                                      29999 non-null  int64  \n",
            " 77   Hardware controls : control flashlight (S)                                              29999 non-null  int64  \n",
            " 78   Hardware controls : control vibrator (S)                                                29999 non-null  int64  \n",
            " 79   Hardware controls : record audio (D)                                                    29999 non-null  int64  \n",
            " 80   Hardware controls : take pictures and videos (D)                                        29999 non-null  int64  \n",
            " 81   Hardware controls : test hardware (S)                                                   29999 non-null  int64  \n",
            " 82   Network communication : Broadcast data messages to applications. (S)                    29999 non-null  int64  \n",
            " 83   Network communication : control Near Field Communication (D)                            29999 non-null  int64  \n",
            " 84   Network communication : create Bluetooth connections (D)                                29999 non-null  int64  \n",
            " 85   Network communication : download files without notification (S)                         29999 non-null  int64  \n",
            " 86   Network communication : full Internet access (D)                                        29999 non-null  int64  \n",
            " 87   Network communication : make/receive Internet calls (D)                                 29999 non-null  int64  \n",
            " 88   Network communication : receive data from Internet (S)                                  29999 non-null  int64  \n",
            " 89   Network communication : view Wi-Fi state (S)                                            29999 non-null  int64  \n",
            " 90   Network communication : view network state (S)                                          29999 non-null  int64  \n",
            " 91   Phone calls : intercept outgoing calls (D)                                              29999 non-null  int64  \n",
            " 92   Phone calls : modify phone state (S)                                                    29999 non-null  int64  \n",
            " 93   Phone calls : read phone state and identity (D)                                         29999 non-null  int64  \n",
            " 94   Services that cost you money : directly call phone numbers (D)                          29999 non-null  int64  \n",
            " 95   Services that cost you money : send SMS messages (D)                                    29999 non-null  int64  \n",
            " 96   Storage : modify/delete USB storage contents modify/delete SD card contents (D)         29999 non-null  int64  \n",
            " 97   System tools : allow Wi-Fi Multicast reception (D)                                      29999 non-null  int64  \n",
            " 98   System tools : automatically start at boot (S)                                          29999 non-null  int64  \n",
            " 99   System tools : bluetooth administration (D)                                             29999 non-null  int64  \n",
            " 100  System tools : change Wi-Fi state (D)                                                   29999 non-null  int64  \n",
            " 101  System tools : change background data usage setting (S)                                 29999 non-null  int64  \n",
            " 102  System tools : change network connectivity (D)                                          29999 non-null  int64  \n",
            " 103  System tools : change your UI settings (D)                                              29999 non-null  int64  \n",
            " 104  System tools : delete all application cache data (D)                                    29999 non-null  int64  \n",
            " 105  System tools : disable keylock (D)                                                      29999 non-null  int64  \n",
            " 106  System tools : display system-level alerts (D)                                          29999 non-null  int64  \n",
            " 107  System tools : expand/collapse status bar (S)                                           29999 non-null  int64  \n",
            " 108  System tools : force stop other applications (S)                                        29999 non-null  int64  \n",
            " 109  System tools : format external storage (D)                                              29999 non-null  int64  \n",
            " 110  System tools : kill background processes (S)                                            29999 non-null  int64  \n",
            " 111  System tools : make application always run (D)                                          29999 non-null  int64  \n",
            " 112  System tools : measure application storage space (S)                                    29999 non-null  int64  \n",
            " 113  System tools : modify global animation speed (D)                                        29999 non-null  int64  \n",
            " 114  System tools : modify global system settings (D)                                        29999 non-null  int64  \n",
            " 115  System tools : mount and unmount filesystems (D)                                        29999 non-null  int64  \n",
            " 116  System tools : prevent device from sleeping (D)                                         29999 non-null  int64  \n",
            " 117  System tools : read subscribed feeds (S)                                                29999 non-null  int64  \n",
            " 118  System tools : read sync settings (S)                                                   29999 non-null  int64  \n",
            " 119  System tools : read sync statistics (S)                                                 29999 non-null  int64  \n",
            " 120  System tools : read/write to resources owned by diag (S)                                29999 non-null  int64  \n",
            " 121  System tools : reorder running applications (D)                                         29999 non-null  int64  \n",
            " 122  System tools : retrieve running applications (D)                                        29999 non-null  int64  \n",
            " 123  System tools : send package removed broadcast (S)                                       29999 non-null  int64  \n",
            " 124  System tools : send sticky broadcast (S)                                                29999 non-null  int64  \n",
            " 125  System tools : set preferred applications (S)                                           29999 non-null  int64  \n",
            " 126  System tools : set time zone (D)                                                        29999 non-null  int64  \n",
            " 127  System tools : set wallpaper (S)                                                        29999 non-null  int64  \n",
            " 128  System tools : set wallpaper size hints (S)                                             29999 non-null  int64  \n",
            " 129  System tools : write Access Point Name settings (D)                                     29999 non-null  int64  \n",
            " 130  System tools : write subscribed feeds (D)                                               29999 non-null  int64  \n",
            " 131  System tools : write sync settings (D)                                                  29999 non-null  int64  \n",
            " 132  Your accounts : Blogger (D)                                                             29999 non-null  int64  \n",
            " 133  Your accounts : Google App Engine (D)                                                   29999 non-null  int64  \n",
            " 134  Your accounts : Google Docs (D)                                                         29999 non-null  int64  \n",
            " 135  Your accounts : Google Finance (D)                                                      29999 non-null  int64  \n",
            " 136  Your accounts : Google Maps (D)                                                         29999 non-null  int64  \n",
            " 137  Your accounts : Google Spreadsheets (D)                                                 29999 non-null  int64  \n",
            " 138  Your accounts : Google Voice (D)                                                        29999 non-null  int64  \n",
            " 139  Your accounts : Google mail (D)                                                         29999 non-null  int64  \n",
            " 140  Your accounts : Picasa Web Albums (D)                                                   29999 non-null  int64  \n",
            " 141  Your accounts : YouTube (D)                                                             29999 non-null  int64  \n",
            " 142  Your accounts : YouTube usernames (D)                                                   29999 non-null  int64  \n",
            " 143  Your accounts : access all Google services (S)                                          29999 non-null  int64  \n",
            " 144  Your accounts : access other Google services (D)                                        29999 non-null  int64  \n",
            " 145  Your accounts : act as an account authenticator (D)                                     29999 non-null  int64  \n",
            " 146  Your accounts : act as the AccountManagerService (S)                                    29999 non-null  int64  \n",
            " 147  Your accounts : contacts data in Google accounts (D)                                    29999 non-null  int64  \n",
            " 148  Your accounts : discover known accounts (S)                                             29999 non-null  int64  \n",
            " 149  Your accounts : manage the accounts list (D)                                            29999 non-null  int64  \n",
            " 150  Your accounts : read Google service configuration (S)                                   29999 non-null  int64  \n",
            " 151  Your accounts : use the authentication credentials of an account (D)                    29999 non-null  int64  \n",
            " 152  Your accounts : view configured accounts (S)                                            29999 non-null  int64  \n",
            " 153  Your location : access extra location provider commands (S)                             29999 non-null  int64  \n",
            " 154  Your location : coarse (network-based) location (D)                                     29999 non-null  int64  \n",
            " 155  Your location : fine (GPS) location (D)                                                 29999 non-null  int64  \n",
            " 156  Your location : mock location sources for testing (D)                                   29999 non-null  int64  \n",
            " 157  Your messages : Read Email attachments (D)                                              29999 non-null  int64  \n",
            " 158  Your messages : Send Gmail (S)                                                          29999 non-null  int64  \n",
            " 159  Your messages : edit SMS or MMS (D)                                                     29999 non-null  int64  \n",
            " 160  Your messages : modify Gmail (D)                                                        29999 non-null  int64  \n",
            " 161  Your messages : read Gmail (D)                                                          29999 non-null  int64  \n",
            " 162  Your messages : read Gmail attachment previews (D)                                      29999 non-null  int64  \n",
            " 163  Your messages : read SMS or MMS (D)                                                     29999 non-null  int64  \n",
            " 164  Your messages : read instant messages (D)                                               29999 non-null  int64  \n",
            " 165  Your messages : receive MMS (D)                                                         29999 non-null  int64  \n",
            " 166  Your messages : receive SMS (D)                                                         29999 non-null  int64  \n",
            " 167  Your messages : receive WAP (D)                                                         29999 non-null  int64  \n",
            " 168  Your messages : send SMS-received broadcast (S)                                         29999 non-null  int64  \n",
            " 169  Your messages : send WAP-PUSH-received broadcast (S)                                    29999 non-null  int64  \n",
            " 170  Your messages : write instant messages (D)                                              29999 non-null  int64  \n",
            " 171  Your personal information : add or modify calendar events and send email to guests (D)  29999 non-null  int64  \n",
            " 172  Your personal information : choose widgets (S)                                          29999 non-null  int64  \n",
            " 173  Your personal information : read Browser's history and bookmarks (D)                    29999 non-null  int64  \n",
            " 174  Your personal information : read calendar events (D)                                    29999 non-null  int64  \n",
            " 175  Your personal information : read contact data (D)                                       29999 non-null  int64  \n",
            " 176  Your personal information : read sensitive log data (D)                                 29999 non-null  int64  \n",
            " 177  Your personal information : read user defined dictionary (D)                            29999 non-null  int64  \n",
            " 178  Your personal information : retrieve system internal state (S)                          29999 non-null  int64  \n",
            " 179  Your personal information : set alarm in alarm clock (S)                                29999 non-null  int64  \n",
            " 180  Your personal information : write Browser's history and bookmarks (D)                   29999 non-null  int64  \n",
            " 181  Your personal information : write contact data (D)                                      29999 non-null  int64  \n",
            " 182  Your personal information : write to user defined dictionary (S)                        29999 non-null  int64  \n",
            " 183  Class                                                                                   29999 non-null  int64  \n",
            "dtypes: float64(3), int64(176), object(5)\n",
            "memory usage: 42.1+ MB\n"
          ]
        }
      ]
    },
    {
      "cell_type": "markdown",
      "source": [
        "*We can observe that we have **3 float** data types, **5 object** data types and **176 int** data types including our target variable*"
      ],
      "metadata": {
        "id": "SG3wS6fFx-eI"
      }
    },
    {
      "cell_type": "markdown",
      "source": [
        "Checking for null values "
      ],
      "metadata": {
        "id": "YhdBS9eLyRNZ"
      }
    },
    {
      "cell_type": "code",
      "source": [
        "# pd.set_option('display.max_rows',None)\n",
        "df.isna().sum()"
      ],
      "metadata": {
        "colab": {
          "base_uri": "https://localhost:8080/"
        },
        "id": "PiKoXgKBvhdv",
        "outputId": "5cf4f7d2-ab2c-441e-bfec-331dc344a98f"
      },
      "execution_count": 113,
      "outputs": [
        {
          "output_type": "execute_result",
          "data": {
            "text/plain": [
              "App                                                                      1\n",
              "Package                                                                  0\n",
              "Category                                                                 0\n",
              "Description                                                              3\n",
              "Rating                                                                   0\n",
              "                                                                        ..\n",
              "Your personal information : set alarm in alarm clock (S)                 0\n",
              "Your personal information : write Browser's history and bookmarks (D)    0\n",
              "Your personal information : write contact data (D)                       0\n",
              "Your personal information : write to user defined dictionary (S)         0\n",
              "Class                                                                    0\n",
              "Length: 184, dtype: int64"
            ]
          },
          "metadata": {},
          "execution_count": 113
        }
      ]
    },
    {
      "cell_type": "markdown",
      "source": [
        "*We can observe 4 columns with null values, but as there are huge number of features let's check with some other method*"
      ],
      "metadata": {
        "id": "DeAdv4Uoy3jO"
      }
    },
    {
      "cell_type": "markdown",
      "source": [
        "Display features containing null values"
      ],
      "metadata": {
        "id": "BJw3Cu6sy_Z1"
      }
    },
    {
      "cell_type": "code",
      "source": [
        "df.columns[df.isna().any()]"
      ],
      "metadata": {
        "colab": {
          "base_uri": "https://localhost:8080/"
        },
        "id": "L87ZdQevvltr",
        "outputId": "eda40383-36c2-4359-dfe1-c3edd7bf4f60"
      },
      "execution_count": 114,
      "outputs": [
        {
          "output_type": "execute_result",
          "data": {
            "text/plain": [
              "Index(['App', 'Description', 'Related apps', 'Dangerous permissions count'], dtype='object')"
            ]
          },
          "metadata": {},
          "execution_count": 114
        }
      ]
    },
    {
      "cell_type": "markdown",
      "source": [
        "We can drop rows which contains null values as there will no be much informartion loss."
      ],
      "metadata": {
        "id": "RESLs0-1YTKi"
      }
    },
    {
      "cell_type": "markdown",
      "source": [
        "*We can confirm that only 4 features have null values*"
      ],
      "metadata": {
        "id": "t0W8uTqDzRDM"
      }
    },
    {
      "cell_type": "code",
      "source": [
        "df.dropna(inplace=True)"
      ],
      "metadata": {
        "id": "UCRwnU0HYfh2"
      },
      "execution_count": 115,
      "outputs": []
    },
    {
      "cell_type": "code",
      "source": [
        "df.shape"
      ],
      "metadata": {
        "colab": {
          "base_uri": "https://localhost:8080/"
        },
        "id": "gNuCJQr2LydH",
        "outputId": "9db51eda-94c4-4473-dd8b-016767825dad"
      },
      "execution_count": 116,
      "outputs": [
        {
          "output_type": "execute_result",
          "data": {
            "text/plain": [
              "(29240, 184)"
            ]
          },
          "metadata": {},
          "execution_count": 116
        }
      ]
    },
    {
      "cell_type": "markdown",
      "source": [
        "Let's check for a null values now"
      ],
      "metadata": {
        "id": "jBoGGr7WY6xM"
      }
    },
    {
      "cell_type": "code",
      "source": [
        "df.columns[df.isna().any()]"
      ],
      "metadata": {
        "colab": {
          "base_uri": "https://localhost:8080/"
        },
        "id": "urp-lfZzY-MH",
        "outputId": "e5b9cda9-706b-47fb-bb45-78a4aad9a536"
      },
      "execution_count": 117,
      "outputs": [
        {
          "output_type": "execute_result",
          "data": {
            "text/plain": [
              "Index([], dtype='object')"
            ]
          },
          "metadata": {},
          "execution_count": 117
        }
      ]
    },
    {
      "cell_type": "markdown",
      "source": [
        "*No null values present now*"
      ],
      "metadata": {
        "id": "1qrkimGAZC70"
      }
    },
    {
      "cell_type": "markdown",
      "source": [
        "Now, lets check for duplicate values"
      ],
      "metadata": {
        "id": "fLbBHWQ817Uu"
      }
    },
    {
      "cell_type": "code",
      "source": [
        "df.duplicated().sum()"
      ],
      "metadata": {
        "colab": {
          "base_uri": "https://localhost:8080/"
        },
        "id": "XCejEt5r1-0i",
        "outputId": "2b136260-b2cf-4de3-c906-711772d860cd"
      },
      "execution_count": 118,
      "outputs": [
        {
          "output_type": "execute_result",
          "data": {
            "text/plain": [
              "2654"
            ]
          },
          "metadata": {},
          "execution_count": 118
        }
      ]
    },
    {
      "cell_type": "markdown",
      "source": [
        "*2654 duplicate values present. Lets drop them*"
      ],
      "metadata": {
        "id": "3ck2S29L2ERe"
      }
    },
    {
      "cell_type": "code",
      "source": [
        "df.drop_duplicates(inplace=True)"
      ],
      "metadata": {
        "id": "KMA0FVUu2JDH"
      },
      "execution_count": 119,
      "outputs": []
    },
    {
      "cell_type": "markdown",
      "source": [
        "Let's check the number of benign apps and malware apps"
      ],
      "metadata": {
        "id": "uB6s3x4T0MaU"
      }
    },
    {
      "cell_type": "code",
      "source": [
        "df['Class'].value_counts()"
      ],
      "metadata": {
        "colab": {
          "base_uri": "https://localhost:8080/"
        },
        "id": "5zdW4HyzzLSS",
        "outputId": "aebcdcc8-21df-45aa-cf86-6ee8752703f7"
      },
      "execution_count": 120,
      "outputs": [
        {
          "output_type": "execute_result",
          "data": {
            "text/plain": [
              "1    17592\n",
              "0     8994\n",
              "Name: Class, dtype: int64"
            ]
          },
          "metadata": {},
          "execution_count": 120
        }
      ]
    },
    {
      "cell_type": "code",
      "source": [
        "print(f\"Malware App % Count {round((df['Class'].value_counts()[1] / len(df['Class']))*100,2)}\")\n",
        "print(f\"Benign App % Count {round((df['Class'].value_counts()[0] / len(df['Class']))*100,2)}\")"
      ],
      "metadata": {
        "colab": {
          "base_uri": "https://localhost:8080/"
        },
        "id": "7j6wEpS7MJkF",
        "outputId": "e10e7651-9399-478a-bcb8-adacfbb1f87c"
      },
      "execution_count": 121,
      "outputs": [
        {
          "output_type": "stream",
          "name": "stdout",
          "text": [
            "Malware App % Count 66.17\n",
            "Benign App % Count 33.83\n"
          ]
        }
      ]
    },
    {
      "cell_type": "markdown",
      "source": [
        "*We can observe that, there are **9999 benign** apps and **20000 malware** apps.*\n",
        "\n",
        "*Also, we can observe that there's a **imbalance of approximately 66%-34% betweeen malware and benign apps** respectively which we will handle in feature engineering part*"
      ],
      "metadata": {
        "id": "9wIW5UlE0hpr"
      }
    },
    {
      "cell_type": "code",
      "source": [
        "sns.countplot(x='Class', data=df)"
      ],
      "metadata": {
        "colab": {
          "base_uri": "https://localhost:8080/",
          "height": 296
        },
        "id": "s9bwVhwkLgav",
        "outputId": "763d042f-c704-4d01-8aba-f63ba7fe29c3"
      },
      "execution_count": 122,
      "outputs": [
        {
          "output_type": "execute_result",
          "data": {
            "text/plain": [
              "<matplotlib.axes._subplots.AxesSubplot at 0x7f4339c924d0>"
            ]
          },
          "metadata": {},
          "execution_count": 122
        },
        {
          "output_type": "display_data",
          "data": {
            "text/plain": [
              "<Figure size 432x288 with 1 Axes>"
            ],
            "image/png": "[encoded data removed]"
          },
          "metadata": {
            "needs_background": "light"
          }
        }
      ]
    },
    {
      "cell_type": "markdown",
      "source": [
        "Summary of our data"
      ],
      "metadata": {
        "id": "qu7FgB5j29ik"
      }
    },
    {
      "cell_type": "code",
      "source": [
        "df.describe().T"
      ],
      "metadata": {
        "colab": {
          "base_uri": "https://localhost:8080/",
          "height": 423
        },
        "id": "w4BrvZA50VLY",
        "outputId": "1ccc8037-9b9f-4935-c459-73dcd078a0ef"
      },
      "execution_count": 123,
      "outputs": [
        {
          "output_type": "execute_result",
          "data": {
            "text/plain": [
              "                                                      count         mean  \\\n",
              "Rating                                              26586.0     3.564493   \n",
              "Number of ratings                                   26586.0  5370.045964   \n",
              "Price                                               26586.0     0.599750   \n",
              "Dangerous permissions count                         26586.0     3.035733   \n",
              "Safe permissions count                              26586.0     1.321447   \n",
              "...                                                     ...          ...   \n",
              "Your personal information : set alarm in alarm ...  26586.0     0.000451   \n",
              "Your personal information : write Browser's his...  26586.0     0.014895   \n",
              "Your personal information : write contact data (D)  26586.0     0.038930   \n",
              "Your personal information : write to user defin...  26586.0     0.001316   \n",
              "Class                                               26586.0     0.661702   \n",
              "\n",
              "                                                             std  min  25%  \\\n",
              "Rating                                                  1.380888  0.0  3.3   \n",
              "Number of ratings                                   43710.135132  0.0  4.0   \n",
              "Price                                                   3.306346  0.0  0.0   \n",
              "Dangerous permissions count                             2.993178  0.0  1.0   \n",
              "Safe permissions count                                  1.495085  0.0  0.0   \n",
              "...                                                          ...  ...  ...   \n",
              "Your personal information : set alarm in alarm ...      0.021241  0.0  0.0   \n",
              "Your personal information : write Browser's his...      0.121135  0.0  0.0   \n",
              "Your personal information : write contact data (D)      0.193432  0.0  0.0   \n",
              "Your personal information : write to user defin...      0.036260  0.0  0.0   \n",
              "Class                                                   0.473140  0.0  0.0   \n",
              "\n",
              "                                                     50%    75%         max  \n",
              "Rating                                               4.0    4.4        5.00  \n",
              "Number of ratings                                   41.0  521.0  1908590.00  \n",
              "Price                                                0.0    0.0      158.07  \n",
              "Dangerous permissions count                          2.0    4.0       30.00  \n",
              "Safe permissions count                               1.0    2.0       16.00  \n",
              "...                                                  ...    ...         ...  \n",
              "Your personal information : set alarm in alarm ...   0.0    0.0        1.00  \n",
              "Your personal information : write Browser's his...   0.0    0.0        1.00  \n",
              "Your personal information : write contact data (D)   0.0    0.0        1.00  \n",
              "Your personal information : write to user defin...   0.0    0.0        1.00  \n",
              "Class                                                1.0    1.0        1.00  \n",
              "\n",
              "[179 rows x 8 columns]"
            ],
            "text/html": [
              "\n",
              "  <div id=\"df-8f1a6fad-5e15-414b-a73f-05e85a6e3724\">\n",
              "    <div class=\"colab-df-container\">\n",
              "      <div>\n",
              "<style scoped>\n",
              "    .dataframe tbody tr th:only-of-type {\n",
              "        vertical-align: middle;\n",
              "    }\n",
              "\n",
              "    .dataframe tbody tr th {\n",
              "        vertical-align: top;\n",
              "    }\n",
              "\n",
              "    .dataframe thead th {\n",
              "        text-align: right;\n",
              "    }\n",
              "</style>\n",
              "<table border=\"1\" class=\"dataframe\">\n",
              "  <thead>\n",
              "    <tr style=\"text-align: right;\">\n",
              "      <th></th>\n",
              "      <th>count</th>\n",
              "      <th>mean</th>\n",
              "      <th>std</th>\n",
              "      <th>min</th>\n",
              "      <th>25%</th>\n",
              "      <th>50%</th>\n",
              "      <th>75%</th>\n",
              "      <th>max</th>\n",
              "    </tr>\n",
              "  </thead>\n",
              "  <tbody>\n",
              "    <tr>\n",
              "      <th>Rating</th>\n",
              "      <td>26586.0</td>\n",
              "      <td>3.564493</td>\n",
              "      <td>1.380888</td>\n",
              "      <td>0.0</td>\n",
              "      <td>3.3</td>\n",
              "      <td>4.0</td>\n",
              "      <td>4.4</td>\n",
              "      <td>5.00</td>\n",
              "    </tr>\n",
              "    <tr>\n",
              "      <th>Number of ratings</th>\n",
              "      <td>26586.0</td>\n",
              "      <td>5370.045964</td>\n",
              "      <td>43710.135132</td>\n",
              "      <td>0.0</td>\n",
              "      <td>4.0</td>\n",
              "      <td>41.0</td>\n",
              "      <td>521.0</td>\n",
              "      <td>1908590.00</td>\n",
              "    </tr>\n",
              "    <tr>\n",
              "      <th>Price</th>\n",
              "      <td>26586.0</td>\n",
              "      <td>0.599750</td>\n",
              "      <td>3.306346</td>\n",
              "      <td>0.0</td>\n",
              "      <td>0.0</td>\n",
              "      <td>0.0</td>\n",
              "      <td>0.0</td>\n",
              "      <td>158.07</td>\n",
              "    </tr>\n",
              "    <tr>\n",
              "      <th>Dangerous permissions count</th>\n",
              "      <td>26586.0</td>\n",
              "      <td>3.035733</td>\n",
              "      <td>2.993178</td>\n",
              "      <td>0.0</td>\n",
              "      <td>1.0</td>\n",
              "      <td>2.0</td>\n",
              "      <td>4.0</td>\n",
              "      <td>30.00</td>\n",
              "    </tr>\n",
              "    <tr>\n",
              "      <th>Safe permissions count</th>\n",
              "      <td>26586.0</td>\n",
              "      <td>1.321447</td>\n",
              "      <td>1.495085</td>\n",
              "      <td>0.0</td>\n",
              "      <td>0.0</td>\n",
              "      <td>1.0</td>\n",
              "      <td>2.0</td>\n",
              "      <td>16.00</td>\n",
              "    </tr>\n",
              "    <tr>\n",
              "      <th>...</th>\n",
              "      <td>...</td>\n",
              "      <td>...</td>\n",
              "      <td>...</td>\n",
              "      <td>...</td>\n",
              "      <td>...</td>\n",
              "      <td>...</td>\n",
              "      <td>...</td>\n",
              "      <td>...</td>\n",
              "    </tr>\n",
              "    <tr>\n",
              "      <th>Your personal information : set alarm in alarm clock (S)</th>\n",
              "      <td>26586.0</td>\n",
              "      <td>0.000451</td>\n",
              "      <td>0.021241</td>\n",
              "      <td>0.0</td>\n",
              "      <td>0.0</td>\n",
              "      <td>0.0</td>\n",
              "      <td>0.0</td>\n",
              "      <td>1.00</td>\n",
              "    </tr>\n",
              "    <tr>\n",
              "      <th>Your personal information : write Browser's history and bookmarks (D)</th>\n",
              "      <td>26586.0</td>\n",
              "      <td>0.014895</td>\n",
              "      <td>0.121135</td>\n",
              "      <td>0.0</td>\n",
              "      <td>0.0</td>\n",
              "      <td>0.0</td>\n",
              "      <td>0.0</td>\n",
              "      <td>1.00</td>\n",
              "    </tr>\n",
              "    <tr>\n",
              "      <th>Your personal information : write contact data (D)</th>\n",
              "      <td>26586.0</td>\n",
              "      <td>0.038930</td>\n",
              "      <td>0.193432</td>\n",
              "      <td>0.0</td>\n",
              "      <td>0.0</td>\n",
              "      <td>0.0</td>\n",
              "      <td>0.0</td>\n",
              "      <td>1.00</td>\n",
              "    </tr>\n",
              "    <tr>\n",
              "      <th>Your personal information : write to user defined dictionary (S)</th>\n",
              "      <td>26586.0</td>\n",
              "      <td>0.001316</td>\n",
              "      <td>0.036260</td>\n",
              "      <td>0.0</td>\n",
              "      <td>0.0</td>\n",
              "      <td>0.0</td>\n",
              "      <td>0.0</td>\n",
              "      <td>1.00</td>\n",
              "    </tr>\n",
              "    <tr>\n",
              "      <th>Class</th>\n",
              "      <td>26586.0</td>\n",
              "      <td>0.661702</td>\n",
              "      <td>0.473140</td>\n",
              "      <td>0.0</td>\n",
              "      <td>0.0</td>\n",
              "      <td>1.0</td>\n",
              "      <td>1.0</td>\n",
              "      <td>1.00</td>\n",
              "    </tr>\n",
              "  </tbody>\n",
              "</table>\n",
              "<p>179 rows × 8 columns</p>\n",
              "</div>\n",
              "      <button class=\"colab-df-convert\" onclick=\"convertToInteractive('df-8f1a6fad-5e15-414b-a73f-05e85a6e3724')\"\n",
              "              title=\"Convert this dataframe to an interactive table.\"\n",
              "              style=\"display:none;\">\n",
              "        \n",
              "  <svg xmlns=\"http://www.w3.org/2000/svg\" height=\"24px\"viewBox=\"0 0 24 24\"\n",
              "       width=\"24px\">\n",
              "    <path d=\"M0 0h24v24H0V0z\" fill=\"none\"/>\n",
              "    <path d=\"M18.56 5.44l.94 2.06.94-2.06 2.06-.94-2.06-.94-.94-2.06-.94 2.06-2.06.94zm-11 1L8.5 8.5l.94-2.06 2.06-.94-2.06-.94L8.5 2.5l-.94 2.06-2.06.94zm10 10l.94 2.06.94-2.06 2.06-.94-2.06-.94-.94-2.06-.94 2.06-2.06.94z\"/><path d=\"M17.41 7.96l-1.37-1.37c-.4-.4-.92-.59-1.43-.59-.52 0-1.04.2-1.43.59L10.3 9.45l-7.72 7.72c-.78.78-.78 2.05 0 2.83L4 21.41c.39.39.9.59 1.41.59.51 0 1.02-.2 1.41-.59l7.78-7.78 2.81-2.81c.8-.78.8-2.07 0-2.86zM5.41 20L4 18.59l7.72-7.72 1.47 1.35L5.41 20z\"/>\n",
              "  </svg>\n",
              "      </button>\n",
              "      \n",
              "  <style>\n",
              "    .colab-df-container {\n",
              "      display:flex;\n",
              "      flex-wrap:wrap;\n",
              "      gap: 12px;\n",
              "    }\n",
              "\n",
              "    .colab-df-convert {\n",
              "      background-color: #E8F0FE;\n",
              "      border: none;\n",
              "      border-radius: 50%;\n",
              "      cursor: pointer;\n",
              "      display: none;\n",
              "      fill: #1967D2;\n",
              "      height: 32px;\n",
              "      padding: 0 0 0 0;\n",
              "      width: 32px;\n",
              "    }\n",
              "\n",
              "    .colab-df-convert:hover {\n",
              "      background-color: #E2EBFA;\n",
              "      box-shadow: 0px 1px 2px rgba(60, 64, 67, 0.3), 0px 1px 3px 1px rgba(60, 64, 67, 0.15);\n",
              "      fill: #174EA6;\n",
              "    }\n",
              "\n",
              "    [theme=dark] .colab-df-convert {\n",
              "      background-color: #3B4455;\n",
              "      fill: #D2E3FC;\n",
              "    }\n",
              "\n",
              "    [theme=dark] .colab-df-convert:hover {\n",
              "      background-color: #434B5C;\n",
              "      box-shadow: 0px 1px 3px 1px rgba(0, 0, 0, 0.15);\n",
              "      filter: drop-shadow(0px 1px 2px rgba(0, 0, 0, 0.3));\n",
              "      fill: #FFFFFF;\n",
              "    }\n",
              "  </style>\n",
              "\n",
              "      <script>\n",
              "        const buttonEl =\n",
              "          document.querySelector('#df-8f1a6fad-5e15-414b-a73f-05e85a6e3724 button.colab-df-convert');\n",
              "        buttonEl.style.display =\n",
              "          google.colab.kernel.accessAllowed ? 'block' : 'none';\n",
              "\n",
              "        async function convertToInteractive(key) {\n",
              "          const element = document.querySelector('#df-8f1a6fad-5e15-414b-a73f-05e85a6e3724');\n",
              "          const dataTable =\n",
              "            await google.colab.kernel.invokeFunction('convertToInteractive',\n",
              "                                                     [key], {});\n",
              "          if (!dataTable) return;\n",
              "\n",
              "          const docLinkHtml = 'Like what you see? Visit the ' +\n",
              "            '<a target=\"_blank\" href=https://colab.research.google.com/notebooks/data_table.ipynb>data table notebook</a>'\n",
              "            + ' to learn more about interactive tables.';\n",
              "          element.innerHTML = '';\n",
              "          dataTable['output_type'] = 'display_data';\n",
              "          await google.colab.output.renderOutput(dataTable, element);\n",
              "          const docLink = document.createElement('div');\n",
              "          docLink.innerHTML = docLinkHtml;\n",
              "          element.appendChild(docLink);\n",
              "        }\n",
              "      </script>\n",
              "    </div>\n",
              "  </div>\n",
              "  "
            ]
          },
          "metadata": {},
          "execution_count": 123
        }
      ]
    },
    {
      "cell_type": "markdown",
      "source": [
        "*From the above summary of our dataset we can observe that there are most of the fetaure which have only 0 as a value. Thus, we will consider dropping those features as it will not have any impact on our model*"
      ],
      "metadata": {
        "id": "hvdpaKC42sYj"
      }
    },
    {
      "cell_type": "markdown",
      "source": [
        "Let's create a list of all the columns where max value is zero."
      ],
      "metadata": {
        "id": "msWt49L4Aqjk"
      }
    },
    {
      "cell_type": "code",
      "source": [
        "## declaring a variable for storing column name \n",
        "max_zero_col = []\n",
        "\n",
        "## Looping through all the column in a dataframe\n",
        "for col in df.columns:\n",
        "    ## checking if a datatype of a column is int\n",
        "    if df[col].dtype == int:\n",
        "        ## checking wheter the max value of column is 0\n",
        "        if df[col].max() == 0:\n",
        "            max_zero_col.append(col)\n",
        "        else:\n",
        "            pass\n",
        "    else:\n",
        "        pass"
      ],
      "metadata": {
        "id": "ZiGAfrkM2IOn"
      },
      "execution_count": 124,
      "outputs": []
    },
    {
      "cell_type": "code",
      "source": [
        "max_zero_col"
      ],
      "metadata": {
        "id": "mPlYgaBa4yyY",
        "colab": {
          "base_uri": "https://localhost:8080/"
        },
        "outputId": "30b5c995-2a59-4366-9609-7d8c78750dac"
      },
      "execution_count": 125,
      "outputs": [
        {
          "output_type": "execute_result",
          "data": {
            "text/plain": [
              "['Default : Access all system downloads (S)',\n",
              " 'Default : Modify Google service configuration (S)',\n",
              " 'Default : access to passwords for Google accounts (S)',\n",
              " 'Default : act as an account authenticator (S)',\n",
              " 'Default : coarse (network-based) location (S)',\n",
              " 'Default : discover known accounts (S)',\n",
              " 'Default : full Internet access (S)',\n",
              " 'Default : mock location sources for testing (S)',\n",
              " 'Default : modify/delete USB storage contents modify/delete SD card contents (S)',\n",
              " 'Default : permanently disable device (S)',\n",
              " 'Default : read instant messages (S)',\n",
              " 'Default : reset system to factory defaults (S)',\n",
              " 'Default : run in factory test mode (S)',\n",
              " 'Default : set wallpaper size hints (S)',\n",
              " 'Default : start IM service (S)',\n",
              " 'Default : write contact data (S)',\n",
              " 'Default : write instant messages (S)',\n",
              " 'Network communication : download files without notification (S)',\n",
              " 'System tools : change background data usage setting (S)',\n",
              " 'Your accounts : Blogger (D)',\n",
              " 'Your messages : read Gmail attachment previews (D)',\n",
              " 'Your messages : write instant messages (D)']"
            ]
          },
          "metadata": {},
          "execution_count": 125
        }
      ]
    },
    {
      "cell_type": "code",
      "source": [
        "len(max_zero_col)"
      ],
      "metadata": {
        "colab": {
          "base_uri": "https://localhost:8080/"
        },
        "id": "KB5eRhRu_mOw",
        "outputId": "b00e7bbd-117f-4f64-f873-81367561e22f"
      },
      "execution_count": 126,
      "outputs": [
        {
          "output_type": "execute_result",
          "data": {
            "text/plain": [
              "22"
            ]
          },
          "metadata": {},
          "execution_count": 126
        }
      ]
    },
    {
      "cell_type": "markdown",
      "source": [
        "*There are 22 features with just one unique value, so we can consider dropping those features*"
      ],
      "metadata": {
        "id": "jEq0aQqjBMq8"
      }
    },
    {
      "cell_type": "code",
      "source": [
        "for col in max_zero_col:\n",
        "    print(df[col].min())"
      ],
      "metadata": {
        "id": "AqAPKBo5BLkX",
        "colab": {
          "base_uri": "https://localhost:8080/"
        },
        "outputId": "970e0b1c-ba6f-4412-c27a-fe03937fb0e2"
      },
      "execution_count": 127,
      "outputs": [
        {
          "output_type": "stream",
          "name": "stdout",
          "text": [
            "0\n",
            "0\n",
            "0\n",
            "0\n",
            "0\n",
            "0\n",
            "0\n",
            "0\n",
            "0\n",
            "0\n",
            "0\n",
            "0\n",
            "0\n",
            "0\n",
            "0\n",
            "0\n",
            "0\n",
            "0\n",
            "0\n",
            "0\n",
            "0\n",
            "0\n"
          ]
        }
      ]
    },
    {
      "cell_type": "code",
      "source": [
        "df = df.drop(max_zero_col, axis=1)"
      ],
      "metadata": {
        "id": "3y6IVyX-BvGo"
      },
      "execution_count": 128,
      "outputs": []
    },
    {
      "cell_type": "code",
      "source": [
        "df.describe().T"
      ],
      "metadata": {
        "colab": {
          "base_uri": "https://localhost:8080/",
          "height": 423
        },
        "id": "Hq9oYJp7N7b8",
        "outputId": "cc6da16d-6cd5-4dac-b26c-9b065541562a"
      },
      "execution_count": 129,
      "outputs": [
        {
          "output_type": "execute_result",
          "data": {
            "text/plain": [
              "                                                      count         mean  \\\n",
              "Rating                                              26586.0     3.564493   \n",
              "Number of ratings                                   26586.0  5370.045964   \n",
              "Price                                               26586.0     0.599750   \n",
              "Dangerous permissions count                         26586.0     3.035733   \n",
              "Safe permissions count                              26586.0     1.321447   \n",
              "...                                                     ...          ...   \n",
              "Your personal information : set alarm in alarm ...  26586.0     0.000451   \n",
              "Your personal information : write Browser's his...  26586.0     0.014895   \n",
              "Your personal information : write contact data (D)  26586.0     0.038930   \n",
              "Your personal information : write to user defin...  26586.0     0.001316   \n",
              "Class                                               26586.0     0.661702   \n",
              "\n",
              "                                                             std  min  25%  \\\n",
              "Rating                                                  1.380888  0.0  3.3   \n",
              "Number of ratings                                   43710.135132  0.0  4.0   \n",
              "Price                                                   3.306346  0.0  0.0   \n",
              "Dangerous permissions count                             2.993178  0.0  1.0   \n",
              "Safe permissions count                                  1.495085  0.0  0.0   \n",
              "...                                                          ...  ...  ...   \n",
              "Your personal information : set alarm in alarm ...      0.021241  0.0  0.0   \n",
              "Your personal information : write Browser's his...      0.121135  0.0  0.0   \n",
              "Your personal information : write contact data (D)      0.193432  0.0  0.0   \n",
              "Your personal information : write to user defin...      0.036260  0.0  0.0   \n",
              "Class                                                   0.473140  0.0  0.0   \n",
              "\n",
              "                                                     50%    75%         max  \n",
              "Rating                                               4.0    4.4        5.00  \n",
              "Number of ratings                                   41.0  521.0  1908590.00  \n",
              "Price                                                0.0    0.0      158.07  \n",
              "Dangerous permissions count                          2.0    4.0       30.00  \n",
              "Safe permissions count                               1.0    2.0       16.00  \n",
              "...                                                  ...    ...         ...  \n",
              "Your personal information : set alarm in alarm ...   0.0    0.0        1.00  \n",
              "Your personal information : write Browser's his...   0.0    0.0        1.00  \n",
              "Your personal information : write contact data (D)   0.0    0.0        1.00  \n",
              "Your personal information : write to user defin...   0.0    0.0        1.00  \n",
              "Class                                                1.0    1.0        1.00  \n",
              "\n",
              "[157 rows x 8 columns]"
            ],
            "text/html": [
              "\n",
              "  <div id=\"df-5727cd06-e951-4e23-a0b3-de2d74d7b161\">\n",
              "    <div class=\"colab-df-container\">\n",
              "      <div>\n",
              "<style scoped>\n",
              "    .dataframe tbody tr th:only-of-type {\n",
              "        vertical-align: middle;\n",
              "    }\n",
              "\n",
              "    .dataframe tbody tr th {\n",
              "        vertical-align: top;\n",
              "    }\n",
              "\n",
              "    .dataframe thead th {\n",
              "        text-align: right;\n",
              "    }\n",
              "</style>\n",
              "<table border=\"1\" class=\"dataframe\">\n",
              "  <thead>\n",
              "    <tr style=\"text-align: right;\">\n",
              "      <th></th>\n",
              "      <th>count</th>\n",
              "      <th>mean</th>\n",
              "      <th>std</th>\n",
              "      <th>min</th>\n",
              "      <th>25%</th>\n",
              "      <th>50%</th>\n",
              "      <th>75%</th>\n",
              "      <th>max</th>\n",
              "    </tr>\n",
              "  </thead>\n",
              "  <tbody>\n",
              "    <tr>\n",
              "      <th>Rating</th>\n",
              "      <td>26586.0</td>\n",
              "      <td>3.564493</td>\n",
              "      <td>1.380888</td>\n",
              "      <td>0.0</td>\n",
              "      <td>3.3</td>\n",
              "      <td>4.0</td>\n",
              "      <td>4.4</td>\n",
              "      <td>5.00</td>\n",
              "    </tr>\n",
              "    <tr>\n",
              "      <th>Number of ratings</th>\n",
              "      <td>26586.0</td>\n",
              "      <td>5370.045964</td>\n",
              "      <td>43710.135132</td>\n",
              "      <td>0.0</td>\n",
              "      <td>4.0</td>\n",
              "      <td>41.0</td>\n",
              "      <td>521.0</td>\n",
              "      <td>1908590.00</td>\n",
              "    </tr>\n",
              "    <tr>\n",
              "      <th>Price</th>\n",
              "      <td>26586.0</td>\n",
              "      <td>0.599750</td>\n",
              "      <td>3.306346</td>\n",
              "      <td>0.0</td>\n",
              "      <td>0.0</td>\n",
              "      <td>0.0</td>\n",
              "      <td>0.0</td>\n",
              "      <td>158.07</td>\n",
              "    </tr>\n",
              "    <tr>\n",
              "      <th>Dangerous permissions count</th>\n",
              "      <td>26586.0</td>\n",
              "      <td>3.035733</td>\n",
              "      <td>2.993178</td>\n",
              "      <td>0.0</td>\n",
              "      <td>1.0</td>\n",
              "      <td>2.0</td>\n",
              "      <td>4.0</td>\n",
              "      <td>30.00</td>\n",
              "    </tr>\n",
              "    <tr>\n",
              "      <th>Safe permissions count</th>\n",
              "      <td>26586.0</td>\n",
              "      <td>1.321447</td>\n",
              "      <td>1.495085</td>\n",
              "      <td>0.0</td>\n",
              "      <td>0.0</td>\n",
              "      <td>1.0</td>\n",
              "      <td>2.0</td>\n",
              "      <td>16.00</td>\n",
              "    </tr>\n",
              "    <tr>\n",
              "      <th>...</th>\n",
              "      <td>...</td>\n",
              "      <td>...</td>\n",
              "      <td>...</td>\n",
              "      <td>...</td>\n",
              "      <td>...</td>\n",
              "      <td>...</td>\n",
              "      <td>...</td>\n",
              "      <td>...</td>\n",
              "    </tr>\n",
              "    <tr>\n",
              "      <th>Your personal information : set alarm in alarm clock (S)</th>\n",
              "      <td>26586.0</td>\n",
              "      <td>0.000451</td>\n",
              "      <td>0.021241</td>\n",
              "      <td>0.0</td>\n",
              "      <td>0.0</td>\n",
              "      <td>0.0</td>\n",
              "      <td>0.0</td>\n",
              "      <td>1.00</td>\n",
              "    </tr>\n",
              "    <tr>\n",
              "      <th>Your personal information : write Browser's history and bookmarks (D)</th>\n",
              "      <td>26586.0</td>\n",
              "      <td>0.014895</td>\n",
              "      <td>0.121135</td>\n",
              "      <td>0.0</td>\n",
              "      <td>0.0</td>\n",
              "      <td>0.0</td>\n",
              "      <td>0.0</td>\n",
              "      <td>1.00</td>\n",
              "    </tr>\n",
              "    <tr>\n",
              "      <th>Your personal information : write contact data (D)</th>\n",
              "      <td>26586.0</td>\n",
              "      <td>0.038930</td>\n",
              "      <td>0.193432</td>\n",
              "      <td>0.0</td>\n",
              "      <td>0.0</td>\n",
              "      <td>0.0</td>\n",
              "      <td>0.0</td>\n",
              "      <td>1.00</td>\n",
              "    </tr>\n",
              "    <tr>\n",
              "      <th>Your personal information : write to user defined dictionary (S)</th>\n",
              "      <td>26586.0</td>\n",
              "      <td>0.001316</td>\n",
              "      <td>0.036260</td>\n",
              "      <td>0.0</td>\n",
              "      <td>0.0</td>\n",
              "      <td>0.0</td>\n",
              "      <td>0.0</td>\n",
              "      <td>1.00</td>\n",
              "    </tr>\n",
              "    <tr>\n",
              "      <th>Class</th>\n",
              "      <td>26586.0</td>\n",
              "      <td>0.661702</td>\n",
              "      <td>0.473140</td>\n",
              "      <td>0.0</td>\n",
              "      <td>0.0</td>\n",
              "      <td>1.0</td>\n",
              "      <td>1.0</td>\n",
              "      <td>1.00</td>\n",
              "    </tr>\n",
              "  </tbody>\n",
              "</table>\n",
              "<p>157 rows × 8 columns</p>\n",
              "</div>\n",
              "      <button class=\"colab-df-convert\" onclick=\"convertToInteractive('df-5727cd06-e951-4e23-a0b3-de2d74d7b161')\"\n",
              "              title=\"Convert this dataframe to an interactive table.\"\n",
              "              style=\"display:none;\">\n",
              "        \n",
              "  <svg xmlns=\"http://www.w3.org/2000/svg\" height=\"24px\"viewBox=\"0 0 24 24\"\n",
              "       width=\"24px\">\n",
              "    <path d=\"M0 0h24v24H0V0z\" fill=\"none\"/>\n",
              "    <path d=\"M18.56 5.44l.94 2.06.94-2.06 2.06-.94-2.06-.94-.94-2.06-.94 2.06-2.06.94zm-11 1L8.5 8.5l.94-2.06 2.06-.94-2.06-.94L8.5 2.5l-.94 2.06-2.06.94zm10 10l.94 2.06.94-2.06 2.06-.94-2.06-.94-.94-2.06-.94 2.06-2.06.94z\"/><path d=\"M17.41 7.96l-1.37-1.37c-.4-.4-.92-.59-1.43-.59-.52 0-1.04.2-1.43.59L10.3 9.45l-7.72 7.72c-.78.78-.78 2.05 0 2.83L4 21.41c.39.39.9.59 1.41.59.51 0 1.02-.2 1.41-.59l7.78-7.78 2.81-2.81c.8-.78.8-2.07 0-2.86zM5.41 20L4 18.59l7.72-7.72 1.47 1.35L5.41 20z\"/>\n",
              "  </svg>\n",
              "      </button>\n",
              "      \n",
              "  <style>\n",
              "    .colab-df-container {\n",
              "      display:flex;\n",
              "      flex-wrap:wrap;\n",
              "      gap: 12px;\n",
              "    }\n",
              "\n",
              "    .colab-df-convert {\n",
              "      background-color: #E8F0FE;\n",
              "      border: none;\n",
              "      border-radius: 50%;\n",
              "      cursor: pointer;\n",
              "      display: none;\n",
              "      fill: #1967D2;\n",
              "      height: 32px;\n",
              "      padding: 0 0 0 0;\n",
              "      width: 32px;\n",
              "    }\n",
              "\n",
              "    .colab-df-convert:hover {\n",
              "      background-color: #E2EBFA;\n",
              "      box-shadow: 0px 1px 2px rgba(60, 64, 67, 0.3), 0px 1px 3px 1px rgba(60, 64, 67, 0.15);\n",
              "      fill: #174EA6;\n",
              "    }\n",
              "\n",
              "    [theme=dark] .colab-df-convert {\n",
              "      background-color: #3B4455;\n",
              "      fill: #D2E3FC;\n",
              "    }\n",
              "\n",
              "    [theme=dark] .colab-df-convert:hover {\n",
              "      background-color: #434B5C;\n",
              "      box-shadow: 0px 1px 3px 1px rgba(0, 0, 0, 0.15);\n",
              "      filter: drop-shadow(0px 1px 2px rgba(0, 0, 0, 0.3));\n",
              "      fill: #FFFFFF;\n",
              "    }\n",
              "  </style>\n",
              "\n",
              "      <script>\n",
              "        const buttonEl =\n",
              "          document.querySelector('#df-5727cd06-e951-4e23-a0b3-de2d74d7b161 button.colab-df-convert');\n",
              "        buttonEl.style.display =\n",
              "          google.colab.kernel.accessAllowed ? 'block' : 'none';\n",
              "\n",
              "        async function convertToInteractive(key) {\n",
              "          const element = document.querySelector('#df-5727cd06-e951-4e23-a0b3-de2d74d7b161');\n",
              "          const dataTable =\n",
              "            await google.colab.kernel.invokeFunction('convertToInteractive',\n",
              "                                                     [key], {});\n",
              "          if (!dataTable) return;\n",
              "\n",
              "          const docLinkHtml = 'Like what you see? Visit the ' +\n",
              "            '<a target=\"_blank\" href=https://colab.research.google.com/notebooks/data_table.ipynb>data table notebook</a>'\n",
              "            + ' to learn more about interactive tables.';\n",
              "          element.innerHTML = '';\n",
              "          dataTable['output_type'] = 'display_data';\n",
              "          await google.colab.output.renderOutput(dataTable, element);\n",
              "          const docLink = document.createElement('div');\n",
              "          docLink.innerHTML = docLinkHtml;\n",
              "          element.appendChild(docLink);\n",
              "        }\n",
              "      </script>\n",
              "    </div>\n",
              "  </div>\n",
              "  "
            ]
          },
          "metadata": {},
          "execution_count": 129
        }
      ]
    },
    {
      "cell_type": "code",
      "source": [
        "df.shape"
      ],
      "metadata": {
        "colab": {
          "base_uri": "https://localhost:8080/"
        },
        "id": "zQT5IxTPN-tz",
        "outputId": "502f5a55-c775-43ee-b4e0-e4a279718c98"
      },
      "execution_count": 130,
      "outputs": [
        {
          "output_type": "execute_result",
          "data": {
            "text/plain": [
              "(26586, 162)"
            ]
          },
          "metadata": {},
          "execution_count": 130
        }
      ]
    },
    {
      "cell_type": "markdown",
      "source": [
        "Univariate Analysis for Categorical Features"
      ],
      "metadata": {
        "id": "tLjsBJ5BMOm5"
      }
    },
    {
      "cell_type": "code",
      "source": [
        "##Creating a variable to store categorical features\n",
        "cat_feature_col = [col for col in df.columns if df[col].dtype == 'object']"
      ],
      "metadata": {
        "id": "twecuMhUOCrr"
      },
      "execution_count": 131,
      "outputs": []
    },
    {
      "cell_type": "code",
      "source": [
        "cat_feature_col"
      ],
      "metadata": {
        "colab": {
          "base_uri": "https://localhost:8080/"
        },
        "id": "j4iQPK9AM2fs",
        "outputId": "b85a1152-b7e3-4f58-d834-643c48da03c7"
      },
      "execution_count": 132,
      "outputs": [
        {
          "output_type": "execute_result",
          "data": {
            "text/plain": [
              "['App', 'Package', 'Category', 'Description', 'Related apps']"
            ]
          },
          "metadata": {},
          "execution_count": 132
        }
      ]
    },
    {
      "cell_type": "code",
      "source": [
        "for col in cat_feature_col:\n",
        "    print(f'{col} : {df[col].nunique()}')"
      ],
      "metadata": {
        "colab": {
          "base_uri": "https://localhost:8080/"
        },
        "id": "qRigOLFfM4Vl",
        "outputId": "71b2be09-8084-4108-877e-f44f4a94e36e"
      },
      "execution_count": 133,
      "outputs": [
        {
          "output_type": "stream",
          "name": "stdout",
          "text": [
            "App : 22176\n",
            "Package : 22815\n",
            "Category : 30\n",
            "Description : 22997\n",
            "Related apps : 23864\n"
          ]
        }
      ]
    },
    {
      "cell_type": "markdown",
      "source": [
        "*From the above dataset we can observe that category have only 30 unique values whereas other object type data type have more than 20K unique values.*"
      ],
      "metadata": {
        "id": "c3jZMlqMUa2J"
      }
    },
    {
      "cell_type": "code",
      "source": [
        "df['Category'].value_counts()"
      ],
      "metadata": {
        "id": "JXclXj1PNIvl",
        "colab": {
          "base_uri": "https://localhost:8080/"
        },
        "outputId": "06b075f0-6977-459f-cc7d-77e06ed2b1f6"
      },
      "execution_count": 134,
      "outputs": [
        {
          "output_type": "execute_result",
          "data": {
            "text/plain": [
              "Entertainment        2458\n",
              "Travel & Local       1901\n",
              "Books & Reference    1736\n",
              "Arcade & Action      1635\n",
              "Brain & Puzzle       1611\n",
              "Casual               1443\n",
              "Personalization      1398\n",
              "Lifestyle            1274\n",
              "Education            1222\n",
              "Tools                1195\n",
              "Communication         986\n",
              "Finance               985\n",
              "Health & Fitness      950\n",
              "Business              891\n",
              "Cards & Casino        765\n",
              "Media & Video         715\n",
              "Productivity          594\n",
              "Sports                576\n",
              "Comics                560\n",
              "Libraries & Demo      550\n",
              "Music & Audio         452\n",
              "News & Magazines      415\n",
              "Transportation        397\n",
              "Social                344\n",
              "Shopping              332\n",
              "Sports Games          291\n",
              "Photography           262\n",
              "Racing                250\n",
              "Medical               248\n",
              "Weather               150\n",
              "Name: Category, dtype: int64"
            ]
          },
          "metadata": {},
          "execution_count": 134
        }
      ]
    },
    {
      "cell_type": "markdown",
      "source": [
        "Let's plot the category feature"
      ],
      "metadata": {
        "id": "1Y9YfMsy4LBj"
      }
    },
    {
      "cell_type": "code",
      "source": [
        "plt.figure(figsize=(10,10))\n",
        "y = df['Category'].value_counts().index\n",
        "x = df['Category'].value_counts()\n",
        "sns.barplot(x=x, y=y)\n",
        "plt.ylabel(\"App Categroy\")\n",
        "plt.xlabel(\"Number of Apps\")\n",
        "plt.show()"
      ],
      "metadata": {
        "colab": {
          "base_uri": "https://localhost:8080/",
          "height": 606
        },
        "id": "ysFvVPfm4KHJ",
        "outputId": "1f723ce2-4560-48cc-ddef-51378223f9be"
      },
      "execution_count": 135,
      "outputs": [
        {
          "output_type": "display_data",
          "data": {
            "text/plain": [
              "<Figure size 720x720 with 1 Axes>"
            ],
            "image/png": "[encoded data removed]"
          },
          "metadata": {
            "needs_background": "light"
          }
        }
      ]
    },
    {
      "cell_type": "markdown",
      "source": [
        "*We can observe that most number of app belongs to Entertainment category while least belongs to the Weather category*"
      ],
      "metadata": {
        "id": "J7rKT4XsVc4x"
      }
    },
    {
      "cell_type": "markdown",
      "source": [
        "Univariate analysis for numerical features"
      ],
      "metadata": {
        "id": "Vh7greFYWLGC"
      }
    },
    {
      "cell_type": "code",
      "source": [
        "numerical_features = [col for col in df.columns if df[col].dtype == 'int' or df[col].dtype == 'float']"
      ],
      "metadata": {
        "id": "V1BMp1HFaTV-"
      },
      "execution_count": 136,
      "outputs": []
    },
    {
      "cell_type": "code",
      "source": [
        "numerical_features"
      ],
      "metadata": {
        "colab": {
          "base_uri": "https://localhost:8080/"
        },
        "id": "7Btjh5iMaiOH",
        "outputId": "314e840f-3162-4a80-f6ac-43ef8b30fac9"
      },
      "execution_count": 137,
      "outputs": [
        {
          "output_type": "execute_result",
          "data": {
            "text/plain": [
              "['Rating',\n",
              " 'Number of ratings',\n",
              " 'Price',\n",
              " 'Dangerous permissions count',\n",
              " 'Safe permissions count',\n",
              " 'Default : Access DRM content. (S)',\n",
              " 'Default : Access Email provider data (S)',\n",
              " 'Default : Access download manager. (S)',\n",
              " 'Default : Advanced download manager functions. (S)',\n",
              " 'Default : Audio File Access (S)',\n",
              " 'Default : Install DRM content. (S)',\n",
              " 'Default : Modify Google settings (S)',\n",
              " 'Default : Move application resources (S)',\n",
              " 'Default : Read Google settings (S)',\n",
              " 'Default : Send download notifications. (S)',\n",
              " 'Default : Voice Search Shortcuts (S)',\n",
              " 'Default : access SurfaceFlinger (S)',\n",
              " 'Default : access checkin properties (S)',\n",
              " 'Default : access the cache filesystem (S)',\n",
              " 'Default : bind to a wallpaper (S)',\n",
              " 'Default : bind to an input method (S)',\n",
              " 'Default : change screen orientation (S)',\n",
              " 'Default : control location update notifications (S)',\n",
              " 'Default : control system backup and restore (S)',\n",
              " 'Default : delete applications (S)',\n",
              " \"Default : delete other applications' caches (S)\",\n",
              " \"Default : delete other applications' data (S)\",\n",
              " 'Default : directly call any phone numbers (S)',\n",
              " 'Default : directly install applications (S)',\n",
              " 'Default : disable or modify status bar (S)',\n",
              " 'Default : display unauthorized windows (S)',\n",
              " 'Default : enable or disable application components (S)',\n",
              " 'Default : force application to close (S)',\n",
              " 'Default : force device reboot (S)',\n",
              " 'Default : interact with a device admin (S)',\n",
              " 'Default : manage application tokens (S)',\n",
              " 'Default : modify battery statistics (S)',\n",
              " 'Default : modify secure system settings (S)',\n",
              " 'Default : modify the Google services map (S)',\n",
              " 'Default : monitor and control all application launching (S)',\n",
              " 'Default : partial shutdown (S)',\n",
              " 'Default : permission to install a location provider (S)',\n",
              " 'Default : power device on or off (S)',\n",
              " 'Default : press keys and control buttons (S)',\n",
              " 'Default : prevent app switches (S)',\n",
              " 'Default : read frame buffer (S)',\n",
              " 'Default : read phone state and identity (S)',\n",
              " 'Default : record what you type and actions you take (S)',\n",
              " 'Default : set time (S)',\n",
              " 'Default : update component usage statistics (S)',\n",
              " 'Development tools : enable application debugging (D)',\n",
              " 'Development tools : limit number of running processes (D)',\n",
              " 'Development tools : make all background applications close (D)',\n",
              " 'Development tools : send Linux signals to applications (D)',\n",
              " 'Hardware controls : change your audio settings (D)',\n",
              " 'Hardware controls : control flashlight (S)',\n",
              " 'Hardware controls : control vibrator (S)',\n",
              " 'Hardware controls : record audio (D)',\n",
              " 'Hardware controls : take pictures and videos (D)',\n",
              " 'Hardware controls : test hardware (S)',\n",
              " 'Network communication : Broadcast data messages to applications. (S)',\n",
              " 'Network communication : control Near Field Communication (D)',\n",
              " 'Network communication : create Bluetooth connections (D)',\n",
              " 'Network communication : full Internet access (D)',\n",
              " 'Network communication : make/receive Internet calls (D)',\n",
              " 'Network communication : receive data from Internet (S)',\n",
              " 'Network communication : view Wi-Fi state (S)',\n",
              " 'Network communication : view network state (S)',\n",
              " 'Phone calls : intercept outgoing calls (D)',\n",
              " 'Phone calls : modify phone state (S)',\n",
              " 'Phone calls : read phone state and identity (D)',\n",
              " 'Services that cost you money : directly call phone numbers (D)',\n",
              " 'Services that cost you money : send SMS messages (D)',\n",
              " 'Storage : modify/delete USB storage contents modify/delete SD card contents (D)',\n",
              " 'System tools : allow Wi-Fi Multicast reception (D)',\n",
              " 'System tools : automatically start at boot (S)',\n",
              " 'System tools : bluetooth administration (D)',\n",
              " 'System tools : change Wi-Fi state (D)',\n",
              " 'System tools : change network connectivity (D)',\n",
              " 'System tools : change your UI settings (D)',\n",
              " 'System tools : delete all application cache data (D)',\n",
              " 'System tools : disable keylock (D)',\n",
              " 'System tools : display system-level alerts (D)',\n",
              " 'System tools : expand/collapse status bar (S)',\n",
              " 'System tools : force stop other applications (S)',\n",
              " 'System tools : format external storage (D)',\n",
              " 'System tools : kill background processes (S)',\n",
              " 'System tools : make application always run (D)',\n",
              " 'System tools : measure application storage space (S)',\n",
              " 'System tools : modify global animation speed (D)',\n",
              " 'System tools : modify global system settings (D)',\n",
              " 'System tools : mount and unmount filesystems (D)',\n",
              " 'System tools : prevent device from sleeping (D)',\n",
              " 'System tools : read subscribed feeds (S)',\n",
              " 'System tools : read sync settings (S)',\n",
              " 'System tools : read sync statistics (S)',\n",
              " 'System tools : read/write to resources owned by diag (S)',\n",
              " 'System tools : reorder running applications (D)',\n",
              " 'System tools : retrieve running applications (D)',\n",
              " 'System tools : send package removed broadcast (S)',\n",
              " 'System tools : send sticky broadcast (S)',\n",
              " 'System tools : set preferred applications (S)',\n",
              " 'System tools : set time zone (D)',\n",
              " 'System tools : set wallpaper (S)',\n",
              " 'System tools : set wallpaper size hints (S)',\n",
              " 'System tools : write Access Point Name settings (D)',\n",
              " 'System tools : write subscribed feeds (D)',\n",
              " 'System tools : write sync settings (D)',\n",
              " 'Your accounts : Google App Engine (D)',\n",
              " 'Your accounts : Google Docs (D)',\n",
              " 'Your accounts : Google Finance (D)',\n",
              " 'Your accounts : Google Maps (D)',\n",
              " 'Your accounts : Google Spreadsheets (D)',\n",
              " 'Your accounts : Google Voice (D)',\n",
              " 'Your accounts : Google mail (D)',\n",
              " 'Your accounts : Picasa Web Albums (D)',\n",
              " 'Your accounts : YouTube (D)',\n",
              " 'Your accounts : YouTube usernames (D)',\n",
              " 'Your accounts : access all Google services (S)',\n",
              " 'Your accounts : access other Google services (D)',\n",
              " 'Your accounts : act as an account authenticator (D)',\n",
              " 'Your accounts : act as the AccountManagerService (S)',\n",
              " 'Your accounts : contacts data in Google accounts (D)',\n",
              " 'Your accounts : discover known accounts (S)',\n",
              " 'Your accounts : manage the accounts list (D)',\n",
              " 'Your accounts : read Google service configuration (S)',\n",
              " 'Your accounts : use the authentication credentials of an account (D)',\n",
              " 'Your accounts : view configured accounts (S)',\n",
              " 'Your location : access extra location provider commands (S)',\n",
              " 'Your location : coarse (network-based) location (D)',\n",
              " 'Your location : fine (GPS) location (D)',\n",
              " 'Your location : mock location sources for testing (D)',\n",
              " 'Your messages : Read Email attachments (D)',\n",
              " 'Your messages : Send Gmail (S)',\n",
              " 'Your messages : edit SMS or MMS (D)',\n",
              " 'Your messages : modify Gmail (D)',\n",
              " 'Your messages : read Gmail (D)',\n",
              " 'Your messages : read SMS or MMS (D)',\n",
              " 'Your messages : read instant messages (D)',\n",
              " 'Your messages : receive MMS (D)',\n",
              " 'Your messages : receive SMS (D)',\n",
              " 'Your messages : receive WAP (D)',\n",
              " 'Your messages : send SMS-received broadcast (S)',\n",
              " 'Your messages : send WAP-PUSH-received broadcast (S)',\n",
              " 'Your personal information : add or modify calendar events and send email to guests (D)',\n",
              " 'Your personal information : choose widgets (S)',\n",
              " \"Your personal information : read Browser's history and bookmarks (D)\",\n",
              " 'Your personal information : read calendar events (D)',\n",
              " 'Your personal information : read contact data (D)',\n",
              " 'Your personal information : read sensitive log data (D)',\n",
              " 'Your personal information : read user defined dictionary (D)',\n",
              " 'Your personal information : retrieve system internal state (S)',\n",
              " 'Your personal information : set alarm in alarm clock (S)',\n",
              " \"Your personal information : write Browser's history and bookmarks (D)\",\n",
              " 'Your personal information : write contact data (D)',\n",
              " 'Your personal information : write to user defined dictionary (S)',\n",
              " 'Class']"
            ]
          },
          "metadata": {},
          "execution_count": 137
        }
      ]
    },
    {
      "cell_type": "code",
      "source": [
        "for col in numerical_features:\n",
        "    if(df[col].nunique() > 2):\n",
        "        print(f'{col} : {df[col].nunique()}')"
      ],
      "metadata": {
        "colab": {
          "base_uri": "https://localhost:8080/"
        },
        "id": "6cXUj9H3vHry",
        "outputId": "a1d3995e-1321-4ba4-d865-834cea18e687"
      },
      "execution_count": 138,
      "outputs": [
        {
          "output_type": "stream",
          "name": "stdout",
          "text": [
            "Rating : 42\n",
            "Number of ratings : 5299\n",
            "Price : 403\n",
            "Dangerous permissions count : 28\n",
            "Safe permissions count : 16\n"
          ]
        }
      ]
    },
    {
      "cell_type": "code",
      "source": [
        "num_cols = [col for col in numerical_features if df[col].nunique() > 2]"
      ],
      "metadata": {
        "id": "aNju4x5TPAeU"
      },
      "execution_count": 139,
      "outputs": []
    },
    {
      "cell_type": "markdown",
      "source": [
        "*We can observe that there are only 5 features which are numerical. Rest of the features are categorical i.e 1 or 0.* "
      ],
      "metadata": {
        "id": "iPoUFmaZwgCV"
      }
    },
    {
      "cell_type": "markdown",
      "source": [
        "Let's start with finding an outliers in this numerical dataset. Will use Z-score method where Z-score is less than 3 an Z-score greater than 3 is considered as an outlier. Let's plot if there are any outliers."
      ],
      "metadata": {
        "id": "aXjuAtjvaGxD"
      }
    },
    {
      "cell_type": "code",
      "source": [
        "fig, axes = plt.subplots(5,2,figsize=(15,20))\n",
        "sns.distplot(df['Rating'], ax=axes[0,0])\n",
        "sns.boxplot(x='Rating',data=df, ax=axes[0,1])\n",
        "sns.distplot(df['Number of ratings'], ax=axes[1,0])\n",
        "sns.boxplot(x='Number of ratings',data=df, ax=axes[1,1])\n",
        "sns.distplot(df['Price'], ax=axes[2,0])\n",
        "sns.boxplot(x='Price',data=df, ax=axes[2,1])\n",
        "sns.distplot(df['Dangerous permissions count'], ax=axes[3,0])\n",
        "sns.boxplot(x='Dangerous permissions count',data=df, ax=axes[3,1])\n",
        "sns.distplot(df['Safe permissions count'], ax=axes[4,0])\n",
        "sns.boxplot(x='Safe permissions count',data=df, ax=axes[4,1])"
      ],
      "metadata": {
        "colab": {
          "base_uri": "https://localhost:8080/",
          "height": 1000
        },
        "id": "FGYGcfcCrgb0",
        "outputId": "b52df88f-9f91-4099-d38d-b6afc8cbe73d"
      },
      "execution_count": 140,
      "outputs": [
        {
          "output_type": "execute_result",
          "data": {
            "text/plain": [
              "<matplotlib.axes._subplots.AxesSubplot at 0x7f4338c4dd50>"
            ]
          },
          "metadata": {},
          "execution_count": 140
        },
        {
          "output_type": "display_data",
          "data": {
            "text/plain": [
              "<Figure size 1080x1440 with 10 Axes>"
            ],
            "image/png": "[encoded data removed]"
          },
          "metadata": {
            "needs_background": "light"
          }
        }
      ]
    },
    {
      "cell_type": "markdown",
      "source": [
        "*From the above plots we can observe that all of our numerical features are not normally distributed and have many outliers. But for ratings feature it may also be possible that the number of person downloading or reviewing that app maybe high. Thus, this outliers might be useful for the prediction, so we cant drop it.Let's explore further to get more insights about the data*"
      ],
      "metadata": {
        "id": "qsftTaL8tS4H"
      }
    },
    {
      "cell_type": "code",
      "source": [
        "df[num_cols].corr()"
      ],
      "metadata": {
        "id": "XN7d4iWlbs-Q",
        "colab": {
          "base_uri": "https://localhost:8080/",
          "height": 206
        },
        "outputId": "2d705b94-d0dd-42cb-e1a5-eca16dcaf7c9"
      },
      "execution_count": 141,
      "outputs": [
        {
          "output_type": "execute_result",
          "data": {
            "text/plain": [
              "                               Rating  Number of ratings     Price  \\\n",
              "Rating                       1.000000           0.068698 -0.104821   \n",
              "Number of ratings            0.068698           1.000000 -0.020122   \n",
              "Price                       -0.104821          -0.020122  1.000000   \n",
              "Dangerous permissions count  0.084872           0.153528  0.021290   \n",
              "Safe permissions count       0.121522           0.164201 -0.014952   \n",
              "\n",
              "                             Dangerous permissions count  \\\n",
              "Rating                                          0.084872   \n",
              "Number of ratings                               0.153528   \n",
              "Price                                           0.021290   \n",
              "Dangerous permissions count                     1.000000   \n",
              "Safe permissions count                          0.722998   \n",
              "\n",
              "                             Safe permissions count  \n",
              "Rating                                     0.121522  \n",
              "Number of ratings                          0.164201  \n",
              "Price                                     -0.014952  \n",
              "Dangerous permissions count                0.722998  \n",
              "Safe permissions count                     1.000000  "
            ],
            "text/html": [
              "\n",
              "  <div id=\"df-24ca5475-455d-43c7-80a0-1913133165d2\">\n",
              "    <div class=\"colab-df-container\">\n",
              "      <div>\n",
              "<style scoped>\n",
              "    .dataframe tbody tr th:only-of-type {\n",
              "        vertical-align: middle;\n",
              "    }\n",
              "\n",
              "    .dataframe tbody tr th {\n",
              "        vertical-align: top;\n",
              "    }\n",
              "\n",
              "    .dataframe thead th {\n",
              "        text-align: right;\n",
              "    }\n",
              "</style>\n",
              "<table border=\"1\" class=\"dataframe\">\n",
              "  <thead>\n",
              "    <tr style=\"text-align: right;\">\n",
              "      <th></th>\n",
              "      <th>Rating</th>\n",
              "      <th>Number of ratings</th>\n",
              "      <th>Price</th>\n",
              "      <th>Dangerous permissions count</th>\n",
              "      <th>Safe permissions count</th>\n",
              "    </tr>\n",
              "  </thead>\n",
              "  <tbody>\n",
              "    <tr>\n",
              "      <th>Rating</th>\n",
              "      <td>1.000000</td>\n",
              "      <td>0.068698</td>\n",
              "      <td>-0.104821</td>\n",
              "      <td>0.084872</td>\n",
              "      <td>0.121522</td>\n",
              "    </tr>\n",
              "    <tr>\n",
              "      <th>Number of ratings</th>\n",
              "      <td>0.068698</td>\n",
              "      <td>1.000000</td>\n",
              "      <td>-0.020122</td>\n",
              "      <td>0.153528</td>\n",
              "      <td>0.164201</td>\n",
              "    </tr>\n",
              "    <tr>\n",
              "      <th>Price</th>\n",
              "      <td>-0.104821</td>\n",
              "      <td>-0.020122</td>\n",
              "      <td>1.000000</td>\n",
              "      <td>0.021290</td>\n",
              "      <td>-0.014952</td>\n",
              "    </tr>\n",
              "    <tr>\n",
              "      <th>Dangerous permissions count</th>\n",
              "      <td>0.084872</td>\n",
              "      <td>0.153528</td>\n",
              "      <td>0.021290</td>\n",
              "      <td>1.000000</td>\n",
              "      <td>0.722998</td>\n",
              "    </tr>\n",
              "    <tr>\n",
              "      <th>Safe permissions count</th>\n",
              "      <td>0.121522</td>\n",
              "      <td>0.164201</td>\n",
              "      <td>-0.014952</td>\n",
              "      <td>0.722998</td>\n",
              "      <td>1.000000</td>\n",
              "    </tr>\n",
              "  </tbody>\n",
              "</table>\n",
              "</div>\n",
              "      <button class=\"colab-df-convert\" onclick=\"convertToInteractive('df-24ca5475-455d-43c7-80a0-1913133165d2')\"\n",
              "              title=\"Convert this dataframe to an interactive table.\"\n",
              "              style=\"display:none;\">\n",
              "        \n",
              "  <svg xmlns=\"http://www.w3.org/2000/svg\" height=\"24px\"viewBox=\"0 0 24 24\"\n",
              "       width=\"24px\">\n",
              "    <path d=\"M0 0h24v24H0V0z\" fill=\"none\"/>\n",
              "    <path d=\"M18.56 5.44l.94 2.06.94-2.06 2.06-.94-2.06-.94-.94-2.06-.94 2.06-2.06.94zm-11 1L8.5 8.5l.94-2.06 2.06-.94-2.06-.94L8.5 2.5l-.94 2.06-2.06.94zm10 10l.94 2.06.94-2.06 2.06-.94-2.06-.94-.94-2.06-.94 2.06-2.06.94z\"/><path d=\"M17.41 7.96l-1.37-1.37c-.4-.4-.92-.59-1.43-.59-.52 0-1.04.2-1.43.59L10.3 9.45l-7.72 7.72c-.78.78-.78 2.05 0 2.83L4 21.41c.39.39.9.59 1.41.59.51 0 1.02-.2 1.41-.59l7.78-7.78 2.81-2.81c.8-.78.8-2.07 0-2.86zM5.41 20L4 18.59l7.72-7.72 1.47 1.35L5.41 20z\"/>\n",
              "  </svg>\n",
              "      </button>\n",
              "      \n",
              "  <style>\n",
              "    .colab-df-container {\n",
              "      display:flex;\n",
              "      flex-wrap:wrap;\n",
              "      gap: 12px;\n",
              "    }\n",
              "\n",
              "    .colab-df-convert {\n",
              "      background-color: #E8F0FE;\n",
              "      border: none;\n",
              "      border-radius: 50%;\n",
              "      cursor: pointer;\n",
              "      display: none;\n",
              "      fill: #1967D2;\n",
              "      height: 32px;\n",
              "      padding: 0 0 0 0;\n",
              "      width: 32px;\n",
              "    }\n",
              "\n",
              "    .colab-df-convert:hover {\n",
              "      background-color: #E2EBFA;\n",
              "      box-shadow: 0px 1px 2px rgba(60, 64, 67, 0.3), 0px 1px 3px 1px rgba(60, 64, 67, 0.15);\n",
              "      fill: #174EA6;\n",
              "    }\n",
              "\n",
              "    [theme=dark] .colab-df-convert {\n",
              "      background-color: #3B4455;\n",
              "      fill: #D2E3FC;\n",
              "    }\n",
              "\n",
              "    [theme=dark] .colab-df-convert:hover {\n",
              "      background-color: #434B5C;\n",
              "      box-shadow: 0px 1px 3px 1px rgba(0, 0, 0, 0.15);\n",
              "      filter: drop-shadow(0px 1px 2px rgba(0, 0, 0, 0.3));\n",
              "      fill: #FFFFFF;\n",
              "    }\n",
              "  </style>\n",
              "\n",
              "      <script>\n",
              "        const buttonEl =\n",
              "          document.querySelector('#df-24ca5475-455d-43c7-80a0-1913133165d2 button.colab-df-convert');\n",
              "        buttonEl.style.display =\n",
              "          google.colab.kernel.accessAllowed ? 'block' : 'none';\n",
              "\n",
              "        async function convertToInteractive(key) {\n",
              "          const element = document.querySelector('#df-24ca5475-455d-43c7-80a0-1913133165d2');\n",
              "          const dataTable =\n",
              "            await google.colab.kernel.invokeFunction('convertToInteractive',\n",
              "                                                     [key], {});\n",
              "          if (!dataTable) return;\n",
              "\n",
              "          const docLinkHtml = 'Like what you see? Visit the ' +\n",
              "            '<a target=\"_blank\" href=https://colab.research.google.com/notebooks/data_table.ipynb>data table notebook</a>'\n",
              "            + ' to learn more about interactive tables.';\n",
              "          element.innerHTML = '';\n",
              "          dataTable['output_type'] = 'display_data';\n",
              "          await google.colab.output.renderOutput(dataTable, element);\n",
              "          const docLink = document.createElement('div');\n",
              "          docLink.innerHTML = docLinkHtml;\n",
              "          element.appendChild(docLink);\n",
              "        }\n",
              "      </script>\n",
              "    </div>\n",
              "  </div>\n",
              "  "
            ]
          },
          "metadata": {},
          "execution_count": 141
        }
      ]
    },
    {
      "cell_type": "code",
      "source": [
        "df[(df['Price'] > 0) & (df['Class'] == 0)] "
      ],
      "metadata": {
        "id": "AU-CyJHgOQdg",
        "colab": {
          "base_uri": "https://localhost:8080/",
          "height": 264
        },
        "outputId": "82119b04-15be-45f5-9c06-8dbabb72aae7"
      },
      "execution_count": 142,
      "outputs": [
        {
          "output_type": "execute_result",
          "data": {
            "text/plain": [
              "Empty DataFrame\n",
              "Columns: [App, Package, Category, Description, Rating, Number of ratings, Price, Related apps, Dangerous permissions count, Safe permissions count, Default : Access DRM content. (S), Default : Access Email provider data (S), Default : Access download manager. (S), Default : Advanced download manager functions. (S), Default : Audio File Access (S), Default : Install DRM content. (S), Default : Modify Google settings (S), Default : Move application resources (S), Default : Read Google settings (S), Default : Send download notifications. (S), Default : Voice Search Shortcuts (S), Default : access SurfaceFlinger (S), Default : access checkin properties (S), Default : access the cache filesystem (S), Default : bind to a wallpaper (S), Default : bind to an input method (S), Default : change screen orientation (S), Default : control location update notifications (S), Default : control system backup and restore (S), Default : delete applications (S), Default : delete other applications' caches (S), Default : delete other applications' data (S), Default : directly call any phone numbers (S), Default : directly install applications (S), Default : disable or modify status bar (S), Default : display unauthorized windows (S), Default : enable or disable application components (S), Default : force application to close (S), Default : force device reboot (S), Default : interact with a device admin (S), Default : manage application tokens (S), Default : modify battery statistics (S), Default : modify secure system settings (S), Default : modify the Google services map (S), Default : monitor and control all application launching (S), Default : partial shutdown (S), Default : permission to install a location provider (S), Default : power device on or off (S), Default : press keys and control buttons (S), Default : prevent app switches (S), Default : read frame buffer (S), Default : read phone state and identity (S), Default : record what you type and actions you take (S), Default : set time (S), Default : update component usage statistics (S), Development tools : enable application debugging (D), Development tools : limit number of running processes (D), Development tools : make all background applications close (D), Development tools : send Linux signals to applications (D), Hardware controls : change your audio settings (D), Hardware controls : control flashlight (S), Hardware controls : control vibrator (S), Hardware controls : record audio (D), Hardware controls : take pictures and videos (D), Hardware controls : test hardware (S), Network communication : Broadcast data messages to applications. (S), Network communication : control Near Field Communication (D), Network communication : create Bluetooth connections (D), Network communication : full Internet access (D), Network communication : make/receive Internet calls (D), Network communication : receive data from Internet (S), Network communication : view Wi-Fi state (S), Network communication : view network state (S), Phone calls : intercept outgoing calls (D), Phone calls : modify phone state (S), Phone calls : read phone state and identity (D), Services that cost you money : directly call phone numbers (D), Services that cost you money : send SMS messages (D), Storage : modify/delete USB storage contents modify/delete SD card contents (D), System tools : allow Wi-Fi Multicast reception (D), System tools : automatically start at boot (S), System tools : bluetooth administration (D), System tools : change Wi-Fi state (D), System tools : change network connectivity (D), System tools : change your UI settings (D), System tools : delete all application cache data (D), System tools : disable keylock (D), System tools : display system-level alerts (D), System tools : expand/collapse status bar (S), System tools : force stop other applications (S), System tools : format external storage (D), System tools : kill background processes (S), System tools : make application always run (D), System tools : measure application storage space (S), System tools : modify global animation speed (D), System tools : modify global system settings (D), System tools : mount and unmount filesystems (D), System tools : prevent device from sleeping (D), System tools : read subscribed feeds (S), System tools : read sync settings (S), ...]\n",
              "Index: []\n",
              "\n",
              "[0 rows x 162 columns]"
            ],
            "text/html": [
              "\n",
              "  <div id=\"df-2861f4c4-a471-4f2e-a86f-2d46512cdd07\">\n",
              "    <div class=\"colab-df-container\">\n",
              "      <div>\n",
              "<style scoped>\n",
              "    .dataframe tbody tr th:only-of-type {\n",
              "        vertical-align: middle;\n",
              "    }\n",
              "\n",
              "    .dataframe tbody tr th {\n",
              "        vertical-align: top;\n",
              "    }\n",
              "\n",
              "    .dataframe thead th {\n",
              "        text-align: right;\n",
              "    }\n",
              "</style>\n",
              "<table border=\"1\" class=\"dataframe\">\n",
              "  <thead>\n",
              "    <tr style=\"text-align: right;\">\n",
              "      <th></th>\n",
              "      <th>App</th>\n",
              "      <th>Package</th>\n",
              "      <th>Category</th>\n",
              "      <th>Description</th>\n",
              "      <th>Rating</th>\n",
              "      <th>Number of ratings</th>\n",
              "      <th>Price</th>\n",
              "      <th>Related apps</th>\n",
              "      <th>Dangerous permissions count</th>\n",
              "      <th>Safe permissions count</th>\n",
              "      <th>...</th>\n",
              "      <th>Your personal information : read calendar events (D)</th>\n",
              "      <th>Your personal information : read contact data (D)</th>\n",
              "      <th>Your personal information : read sensitive log data (D)</th>\n",
              "      <th>Your personal information : read user defined dictionary (D)</th>\n",
              "      <th>Your personal information : retrieve system internal state (S)</th>\n",
              "      <th>Your personal information : set alarm in alarm clock (S)</th>\n",
              "      <th>Your personal information : write Browser's history and bookmarks (D)</th>\n",
              "      <th>Your personal information : write contact data (D)</th>\n",
              "      <th>Your personal information : write to user defined dictionary (S)</th>\n",
              "      <th>Class</th>\n",
              "    </tr>\n",
              "  </thead>\n",
              "  <tbody>\n",
              "  </tbody>\n",
              "</table>\n",
              "<p>0 rows × 162 columns</p>\n",
              "</div>\n",
              "      <button class=\"colab-df-convert\" onclick=\"convertToInteractive('df-2861f4c4-a471-4f2e-a86f-2d46512cdd07')\"\n",
              "              title=\"Convert this dataframe to an interactive table.\"\n",
              "              style=\"display:none;\">\n",
              "        \n",
              "  <svg xmlns=\"http://www.w3.org/2000/svg\" height=\"24px\"viewBox=\"0 0 24 24\"\n",
              "       width=\"24px\">\n",
              "    <path d=\"M0 0h24v24H0V0z\" fill=\"none\"/>\n",
              "    <path d=\"M18.56 5.44l.94 2.06.94-2.06 2.06-.94-2.06-.94-.94-2.06-.94 2.06-2.06.94zm-11 1L8.5 8.5l.94-2.06 2.06-.94-2.06-.94L8.5 2.5l-.94 2.06-2.06.94zm10 10l.94 2.06.94-2.06 2.06-.94-2.06-.94-.94-2.06-.94 2.06-2.06.94z\"/><path d=\"M17.41 7.96l-1.37-1.37c-.4-.4-.92-.59-1.43-.59-.52 0-1.04.2-1.43.59L10.3 9.45l-7.72 7.72c-.78.78-.78 2.05 0 2.83L4 21.41c.39.39.9.59 1.41.59.51 0 1.02-.2 1.41-.59l7.78-7.78 2.81-2.81c.8-.78.8-2.07 0-2.86zM5.41 20L4 18.59l7.72-7.72 1.47 1.35L5.41 20z\"/>\n",
              "  </svg>\n",
              "      </button>\n",
              "      \n",
              "  <style>\n",
              "    .colab-df-container {\n",
              "      display:flex;\n",
              "      flex-wrap:wrap;\n",
              "      gap: 12px;\n",
              "    }\n",
              "\n",
              "    .colab-df-convert {\n",
              "      background-color: #E8F0FE;\n",
              "      border: none;\n",
              "      border-radius: 50%;\n",
              "      cursor: pointer;\n",
              "      display: none;\n",
              "      fill: #1967D2;\n",
              "      height: 32px;\n",
              "      padding: 0 0 0 0;\n",
              "      width: 32px;\n",
              "    }\n",
              "\n",
              "    .colab-df-convert:hover {\n",
              "      background-color: #E2EBFA;\n",
              "      box-shadow: 0px 1px 2px rgba(60, 64, 67, 0.3), 0px 1px 3px 1px rgba(60, 64, 67, 0.15);\n",
              "      fill: #174EA6;\n",
              "    }\n",
              "\n",
              "    [theme=dark] .colab-df-convert {\n",
              "      background-color: #3B4455;\n",
              "      fill: #D2E3FC;\n",
              "    }\n",
              "\n",
              "    [theme=dark] .colab-df-convert:hover {\n",
              "      background-color: #434B5C;\n",
              "      box-shadow: 0px 1px 3px 1px rgba(0, 0, 0, 0.15);\n",
              "      filter: drop-shadow(0px 1px 2px rgba(0, 0, 0, 0.3));\n",
              "      fill: #FFFFFF;\n",
              "    }\n",
              "  </style>\n",
              "\n",
              "      <script>\n",
              "        const buttonEl =\n",
              "          document.querySelector('#df-2861f4c4-a471-4f2e-a86f-2d46512cdd07 button.colab-df-convert');\n",
              "        buttonEl.style.display =\n",
              "          google.colab.kernel.accessAllowed ? 'block' : 'none';\n",
              "\n",
              "        async function convertToInteractive(key) {\n",
              "          const element = document.querySelector('#df-2861f4c4-a471-4f2e-a86f-2d46512cdd07');\n",
              "          const dataTable =\n",
              "            await google.colab.kernel.invokeFunction('convertToInteractive',\n",
              "                                                     [key], {});\n",
              "          if (!dataTable) return;\n",
              "\n",
              "          const docLinkHtml = 'Like what you see? Visit the ' +\n",
              "            '<a target=\"_blank\" href=https://colab.research.google.com/notebooks/data_table.ipynb>data table notebook</a>'\n",
              "            + ' to learn more about interactive tables.';\n",
              "          element.innerHTML = '';\n",
              "          dataTable['output_type'] = 'display_data';\n",
              "          await google.colab.output.renderOutput(dataTable, element);\n",
              "          const docLink = document.createElement('div');\n",
              "          docLink.innerHTML = docLinkHtml;\n",
              "          element.appendChild(docLink);\n",
              "        }\n",
              "      </script>\n",
              "    </div>\n",
              "  </div>\n",
              "  "
            ]
          },
          "metadata": {},
          "execution_count": 142
        }
      ]
    },
    {
      "cell_type": "markdown",
      "source": [
        "*We can observe that there is not even a single app which is paid and benign. Thus we can convert **price** numerical feature into **categorical** feature by having value either paid or unpaid*"
      ],
      "metadata": {
        "id": "y1zx3GT6ZaeD"
      }
    },
    {
      "cell_type": "code",
      "source": [
        "df['Price'] = df['Price'].apply(lambda x: 'Paid' if x > 0 else 'Unpaid')"
      ],
      "metadata": {
        "id": "nNsw2ECuQJt6"
      },
      "execution_count": 143,
      "outputs": []
    },
    {
      "cell_type": "code",
      "source": [
        "df['Price'].value_counts()"
      ],
      "metadata": {
        "colab": {
          "base_uri": "https://localhost:8080/"
        },
        "id": "Eg9LUD8Oaf96",
        "outputId": "3b24b3d2-9ee8-465c-810a-3ead46c12778"
      },
      "execution_count": 144,
      "outputs": [
        {
          "output_type": "execute_result",
          "data": {
            "text/plain": [
              "Unpaid    21741\n",
              "Paid       4845\n",
              "Name: Price, dtype: int64"
            ]
          },
          "metadata": {},
          "execution_count": 144
        }
      ]
    },
    {
      "cell_type": "markdown",
      "source": [
        "*Let's recheck if there's any paid app which is benign*"
      ],
      "metadata": {
        "id": "RLTUoPnUaz8a"
      }
    },
    {
      "cell_type": "code",
      "source": [
        "df[(df['Price'] == 'Paid') & (df['Class'] == 0)]"
      ],
      "metadata": {
        "colab": {
          "base_uri": "https://localhost:8080/",
          "height": 264
        },
        "id": "7qoGk3oMaudj",
        "outputId": "e070dfe5-1e9e-483d-8f2b-980957b96098"
      },
      "execution_count": 145,
      "outputs": [
        {
          "output_type": "execute_result",
          "data": {
            "text/plain": [
              "Empty DataFrame\n",
              "Columns: [App, Package, Category, Description, Rating, Number of ratings, Price, Related apps, Dangerous permissions count, Safe permissions count, Default : Access DRM content. (S), Default : Access Email provider data (S), Default : Access download manager. (S), Default : Advanced download manager functions. (S), Default : Audio File Access (S), Default : Install DRM content. (S), Default : Modify Google settings (S), Default : Move application resources (S), Default : Read Google settings (S), Default : Send download notifications. (S), Default : Voice Search Shortcuts (S), Default : access SurfaceFlinger (S), Default : access checkin properties (S), Default : access the cache filesystem (S), Default : bind to a wallpaper (S), Default : bind to an input method (S), Default : change screen orientation (S), Default : control location update notifications (S), Default : control system backup and restore (S), Default : delete applications (S), Default : delete other applications' caches (S), Default : delete other applications' data (S), Default : directly call any phone numbers (S), Default : directly install applications (S), Default : disable or modify status bar (S), Default : display unauthorized windows (S), Default : enable or disable application components (S), Default : force application to close (S), Default : force device reboot (S), Default : interact with a device admin (S), Default : manage application tokens (S), Default : modify battery statistics (S), Default : modify secure system settings (S), Default : modify the Google services map (S), Default : monitor and control all application launching (S), Default : partial shutdown (S), Default : permission to install a location provider (S), Default : power device on or off (S), Default : press keys and control buttons (S), Default : prevent app switches (S), Default : read frame buffer (S), Default : read phone state and identity (S), Default : record what you type and actions you take (S), Default : set time (S), Default : update component usage statistics (S), Development tools : enable application debugging (D), Development tools : limit number of running processes (D), Development tools : make all background applications close (D), Development tools : send Linux signals to applications (D), Hardware controls : change your audio settings (D), Hardware controls : control flashlight (S), Hardware controls : control vibrator (S), Hardware controls : record audio (D), Hardware controls : take pictures and videos (D), Hardware controls : test hardware (S), Network communication : Broadcast data messages to applications. (S), Network communication : control Near Field Communication (D), Network communication : create Bluetooth connections (D), Network communication : full Internet access (D), Network communication : make/receive Internet calls (D), Network communication : receive data from Internet (S), Network communication : view Wi-Fi state (S), Network communication : view network state (S), Phone calls : intercept outgoing calls (D), Phone calls : modify phone state (S), Phone calls : read phone state and identity (D), Services that cost you money : directly call phone numbers (D), Services that cost you money : send SMS messages (D), Storage : modify/delete USB storage contents modify/delete SD card contents (D), System tools : allow Wi-Fi Multicast reception (D), System tools : automatically start at boot (S), System tools : bluetooth administration (D), System tools : change Wi-Fi state (D), System tools : change network connectivity (D), System tools : change your UI settings (D), System tools : delete all application cache data (D), System tools : disable keylock (D), System tools : display system-level alerts (D), System tools : expand/collapse status bar (S), System tools : force stop other applications (S), System tools : format external storage (D), System tools : kill background processes (S), System tools : make application always run (D), System tools : measure application storage space (S), System tools : modify global animation speed (D), System tools : modify global system settings (D), System tools : mount and unmount filesystems (D), System tools : prevent device from sleeping (D), System tools : read subscribed feeds (S), System tools : read sync settings (S), ...]\n",
              "Index: []\n",
              "\n",
              "[0 rows x 162 columns]"
            ],
            "text/html": [
              "\n",
              "  <div id=\"df-e74a9880-efad-40e1-b0ee-9edac874ac56\">\n",
              "    <div class=\"colab-df-container\">\n",
              "      <div>\n",
              "<style scoped>\n",
              "    .dataframe tbody tr th:only-of-type {\n",
              "        vertical-align: middle;\n",
              "    }\n",
              "\n",
              "    .dataframe tbody tr th {\n",
              "        vertical-align: top;\n",
              "    }\n",
              "\n",
              "    .dataframe thead th {\n",
              "        text-align: right;\n",
              "    }\n",
              "</style>\n",
              "<table border=\"1\" class=\"dataframe\">\n",
              "  <thead>\n",
              "    <tr style=\"text-align: right;\">\n",
              "      <th></th>\n",
              "      <th>App</th>\n",
              "      <th>Package</th>\n",
              "      <th>Category</th>\n",
              "      <th>Description</th>\n",
              "      <th>Rating</th>\n",
              "      <th>Number of ratings</th>\n",
              "      <th>Price</th>\n",
              "      <th>Related apps</th>\n",
              "      <th>Dangerous permissions count</th>\n",
              "      <th>Safe permissions count</th>\n",
              "      <th>...</th>\n",
              "      <th>Your personal information : read calendar events (D)</th>\n",
              "      <th>Your personal information : read contact data (D)</th>\n",
              "      <th>Your personal information : read sensitive log data (D)</th>\n",
              "      <th>Your personal information : read user defined dictionary (D)</th>\n",
              "      <th>Your personal information : retrieve system internal state (S)</th>\n",
              "      <th>Your personal information : set alarm in alarm clock (S)</th>\n",
              "      <th>Your personal information : write Browser's history and bookmarks (D)</th>\n",
              "      <th>Your personal information : write contact data (D)</th>\n",
              "      <th>Your personal information : write to user defined dictionary (S)</th>\n",
              "      <th>Class</th>\n",
              "    </tr>\n",
              "  </thead>\n",
              "  <tbody>\n",
              "  </tbody>\n",
              "</table>\n",
              "<p>0 rows × 162 columns</p>\n",
              "</div>\n",
              "      <button class=\"colab-df-convert\" onclick=\"convertToInteractive('df-e74a9880-efad-40e1-b0ee-9edac874ac56')\"\n",
              "              title=\"Convert this dataframe to an interactive table.\"\n",
              "              style=\"display:none;\">\n",
              "        \n",
              "  <svg xmlns=\"http://www.w3.org/2000/svg\" height=\"24px\"viewBox=\"0 0 24 24\"\n",
              "       width=\"24px\">\n",
              "    <path d=\"M0 0h24v24H0V0z\" fill=\"none\"/>\n",
              "    <path d=\"M18.56 5.44l.94 2.06.94-2.06 2.06-.94-2.06-.94-.94-2.06-.94 2.06-2.06.94zm-11 1L8.5 8.5l.94-2.06 2.06-.94-2.06-.94L8.5 2.5l-.94 2.06-2.06.94zm10 10l.94 2.06.94-2.06 2.06-.94-2.06-.94-.94-2.06-.94 2.06-2.06.94z\"/><path d=\"M17.41 7.96l-1.37-1.37c-.4-.4-.92-.59-1.43-.59-.52 0-1.04.2-1.43.59L10.3 9.45l-7.72 7.72c-.78.78-.78 2.05 0 2.83L4 21.41c.39.39.9.59 1.41.59.51 0 1.02-.2 1.41-.59l7.78-7.78 2.81-2.81c.8-.78.8-2.07 0-2.86zM5.41 20L4 18.59l7.72-7.72 1.47 1.35L5.41 20z\"/>\n",
              "  </svg>\n",
              "      </button>\n",
              "      \n",
              "  <style>\n",
              "    .colab-df-container {\n",
              "      display:flex;\n",
              "      flex-wrap:wrap;\n",
              "      gap: 12px;\n",
              "    }\n",
              "\n",
              "    .colab-df-convert {\n",
              "      background-color: #E8F0FE;\n",
              "      border: none;\n",
              "      border-radius: 50%;\n",
              "      cursor: pointer;\n",
              "      display: none;\n",
              "      fill: #1967D2;\n",
              "      height: 32px;\n",
              "      padding: 0 0 0 0;\n",
              "      width: 32px;\n",
              "    }\n",
              "\n",
              "    .colab-df-convert:hover {\n",
              "      background-color: #E2EBFA;\n",
              "      box-shadow: 0px 1px 2px rgba(60, 64, 67, 0.3), 0px 1px 3px 1px rgba(60, 64, 67, 0.15);\n",
              "      fill: #174EA6;\n",
              "    }\n",
              "\n",
              "    [theme=dark] .colab-df-convert {\n",
              "      background-color: #3B4455;\n",
              "      fill: #D2E3FC;\n",
              "    }\n",
              "\n",
              "    [theme=dark] .colab-df-convert:hover {\n",
              "      background-color: #434B5C;\n",
              "      box-shadow: 0px 1px 3px 1px rgba(0, 0, 0, 0.15);\n",
              "      filter: drop-shadow(0px 1px 2px rgba(0, 0, 0, 0.3));\n",
              "      fill: #FFFFFF;\n",
              "    }\n",
              "  </style>\n",
              "\n",
              "      <script>\n",
              "        const buttonEl =\n",
              "          document.querySelector('#df-e74a9880-efad-40e1-b0ee-9edac874ac56 button.colab-df-convert');\n",
              "        buttonEl.style.display =\n",
              "          google.colab.kernel.accessAllowed ? 'block' : 'none';\n",
              "\n",
              "        async function convertToInteractive(key) {\n",
              "          const element = document.querySelector('#df-e74a9880-efad-40e1-b0ee-9edac874ac56');\n",
              "          const dataTable =\n",
              "            await google.colab.kernel.invokeFunction('convertToInteractive',\n",
              "                                                     [key], {});\n",
              "          if (!dataTable) return;\n",
              "\n",
              "          const docLinkHtml = 'Like what you see? Visit the ' +\n",
              "            '<a target=\"_blank\" href=https://colab.research.google.com/notebooks/data_table.ipynb>data table notebook</a>'\n",
              "            + ' to learn more about interactive tables.';\n",
              "          element.innerHTML = '';\n",
              "          dataTable['output_type'] = 'display_data';\n",
              "          await google.colab.output.renderOutput(dataTable, element);\n",
              "          const docLink = document.createElement('div');\n",
              "          docLink.innerHTML = docLinkHtml;\n",
              "          element.appendChild(docLink);\n",
              "        }\n",
              "      </script>\n",
              "    </div>\n",
              "  </div>\n",
              "  "
            ]
          },
          "metadata": {},
          "execution_count": 145
        }
      ]
    },
    {
      "cell_type": "code",
      "source": [
        "sns.countplot(x='Price', hue='Class', data=df)"
      ],
      "metadata": {
        "colab": {
          "base_uri": "https://localhost:8080/",
          "height": 296
        },
        "id": "QO6zSfxRbFiY",
        "outputId": "42147f00-cedc-4154-a2e1-3b157be49227"
      },
      "execution_count": 146,
      "outputs": [
        {
          "output_type": "execute_result",
          "data": {
            "text/plain": [
              "<matplotlib.axes._subplots.AxesSubplot at 0x7f4338f78a10>"
            ]
          },
          "metadata": {},
          "execution_count": 146
        },
        {
          "output_type": "display_data",
          "data": {
            "text/plain": [
              "<Figure size 432x288 with 1 Axes>"
            ],
            "image/png": "[encoded data removed]"
          },
          "metadata": {
            "needs_background": "light"
          }
        }
      ]
    },
    {
      "cell_type": "markdown",
      "source": [
        "*No paid app whcih is benign*"
      ],
      "metadata": {
        "id": "K5OHGvlLbZ45"
      }
    },
    {
      "cell_type": "code",
      "source": [
        "num_cols = ['Rating', 'Number of ratings', 'Dangerous permissions count', 'Safe permissions count']"
      ],
      "metadata": {
        "id": "Xxt2_I9IY-OS"
      },
      "execution_count": 147,
      "outputs": []
    },
    {
      "cell_type": "markdown",
      "source": [
        "Lets explore for remaing numerical features."
      ],
      "metadata": {
        "id": "h_rKucSKWP4w"
      }
    },
    {
      "cell_type": "code",
      "source": [
        "fig, axes = plt.subplots(2,2,figsize=(15,10))\n",
        "sns.kdeplot(df['Rating'], ax=axes[0,0])\n",
        "sns.kdeplot(df['Number of ratings'], ax=axes[0,1])\n",
        "sns.kdeplot(df['Dangerous permissions count'], ax=axes[1,0])\n",
        "sns.kdeplot(df['Safe permissions count'],ax=axes[1,1])"
      ],
      "metadata": {
        "colab": {
          "base_uri": "https://localhost:8080/",
          "height": 634
        },
        "id": "bqNglHrIW4Bv",
        "outputId": "cdb25b41-8860-4e69-c35b-1dd5ad0d2c9c"
      },
      "execution_count": 148,
      "outputs": [
        {
          "output_type": "execute_result",
          "data": {
            "text/plain": [
              "<matplotlib.axes._subplots.AxesSubplot at 0x7f43388ca050>"
            ]
          },
          "metadata": {},
          "execution_count": 148
        },
        {
          "output_type": "display_data",
          "data": {
            "text/plain": [
              "<Figure size 1080x720 with 4 Axes>"
            ],
            "image/png": "[encoded data removed]"
          },
          "metadata": {
            "needs_background": "light"
          }
        }
      ]
    },
    {
      "cell_type": "code",
      "source": [
        "for col in num_cols:\n",
        "    sns.displot(x=col, data=df, hue='Class', kind=\"kde\")"
      ],
      "metadata": {
        "colab": {
          "base_uri": "https://localhost:8080/",
          "height": 1000
        },
        "id": "y6sWKJhoXVx-",
        "outputId": "39f5ce57-cbb1-4cdc-9755-6590c4d039ba"
      },
      "execution_count": 149,
      "outputs": [
        {
          "output_type": "display_data",
          "data": {
            "text/plain": [
              "<Figure size 402.375x360 with 1 Axes>"
            ],
            "image/png": "[encoded data removed]"
          },
          "metadata": {
            "needs_background": "light"
          }
        },
        {
          "output_type": "display_data",
          "data": {
            "text/plain": [
              "<Figure size 402.375x360 with 1 Axes>"
            ],
            "image/png": "[encoded data removed]"
          },
          "metadata": {
            "needs_background": "light"
          }
        },
        {
          "output_type": "display_data",
          "data": {
            "text/plain": [
              "<Figure size 402.375x360 with 1 Axes>"
            ],
            "image/png": "[encoded data removed]"
          },
          "metadata": {
            "needs_background": "light"
          }
        },
        {
          "output_type": "display_data",
          "data": {
            "text/plain": [
              "<Figure size 402.375x360 with 1 Axes>"
            ],
            "image/png": "[encoded data removed]"
          },
          "metadata": {
            "needs_background": "light"
          }
        }
      ]
    },
    {
      "cell_type": "markdown",
      "source": [
        "*We can observe that the distribution for being malware or benign is aproximately same for every numerical feature*"
      ],
      "metadata": {
        "id": "dYq9UFD9qNoK"
      }
    },
    {
      "cell_type": "markdown",
      "source": [
        "Let's plot Category feature w.r.t. Class"
      ],
      "metadata": {
        "id": "j3FJnfZjsEIi"
      }
    },
    {
      "cell_type": "code",
      "source": [
        "plt.figure(figsize=(15,8))\n",
        "s = sns.histplot(x=df['Category'], hue=df['Class'])\n",
        "plt.xticks(rotation = 90)\n",
        "plt.show()"
      ],
      "metadata": {
        "colab": {
          "base_uri": "https://localhost:8080/",
          "height": 583
        },
        "id": "oaGoeWAkrM9T",
        "outputId": "2c8508e3-a532-4a9e-9be8-1595875d65ed"
      },
      "execution_count": 150,
      "outputs": [
        {
          "output_type": "display_data",
          "data": {
            "text/plain": [
              "<Figure size 1080x576 with 1 Axes>"
            ],
            "image/png": "[encoded data removed]"
          },
          "metadata": {
            "needs_background": "light"
          }
        }
      ]
    },
    {
      "cell_type": "markdown",
      "source": [
        "*We can observe that for some fetures like Business, Cards & Casino, Libraries & Demo, Heatlh/Fitness, Education, Media, Finance, Communication & Comics have most number of benign apps, whereas rest of the features contain most of the malware applications*"
      ],
      "metadata": {
        "id": "pCx2MidEx7fh"
      }
    },
    {
      "cell_type": "markdown",
      "source": [
        "Let's do it in more numeric way"
      ],
      "metadata": {
        "id": "SYXpCCdMSlKa"
      }
    },
    {
      "cell_type": "code",
      "source": [
        "##creating a variable to store percentage of malware apps in every category\n",
        "cat_per_malware = pd.crosstab(df['Category'], df['Class'], normalize='index')"
      ],
      "metadata": {
        "id": "q2XxNcC7RQlJ"
      },
      "execution_count": 151,
      "outputs": []
    },
    {
      "cell_type": "code",
      "source": [
        "cat_per_malware"
      ],
      "metadata": {
        "colab": {
          "base_uri": "https://localhost:8080/",
          "height": 1000
        },
        "id": "W-y_rrqLSrfK",
        "outputId": "00501ef4-021d-4544-c475-6e976dbfaaac"
      },
      "execution_count": 152,
      "outputs": [
        {
          "output_type": "execute_result",
          "data": {
            "text/plain": [
              "Class                     0         1\n",
              "Category                             \n",
              "Arcade & Action    0.335780  0.664220\n",
              "Books & Reference  0.297235  0.702765\n",
              "Brain & Puzzle     0.340782  0.659218\n",
              "Business           0.571268  0.428732\n",
              "Cards & Casino     0.671895  0.328105\n",
              "Casual             0.474705  0.525295\n",
              "Comics             0.891071  0.108929\n",
              "Communication      0.540568  0.459432\n",
              "Education          0.412439  0.587561\n",
              "Entertainment      0.221725  0.778275\n",
              "Finance            0.520812  0.479188\n",
              "Health & Fitness   0.535789  0.464211\n",
              "Libraries & Demo   0.834545  0.165455\n",
              "Lifestyle          0.403454  0.596546\n",
              "Media & Video      0.532867  0.467133\n",
              "Medical            0.012097  0.987903\n",
              "Music & Audio      0.185841  0.814159\n",
              "News & Magazines   0.079518  0.920482\n",
              "Personalization    0.334049  0.665951\n",
              "Photography        0.122137  0.877863\n",
              "Productivity       0.193603  0.806397\n",
              "Racing             0.276000  0.724000\n",
              "Shopping           0.087349  0.912651\n",
              "Social             0.200581  0.799419\n",
              "Sports             0.038194  0.961806\n",
              "Sports Games       0.247423  0.752577\n",
              "Tools              0.127197  0.872803\n",
              "Transportation     0.010076  0.989924\n",
              "Travel & Local     0.017359  0.982641\n",
              "Weather            0.206667  0.793333"
            ],
            "text/html": [
              "\n",
              "  <div id=\"df-94be3cec-c0e4-4335-bb25-1dcd140a438e\">\n",
              "    <div class=\"colab-df-container\">\n",
              "      <div>\n",
              "<style scoped>\n",
              "    .dataframe tbody tr th:only-of-type {\n",
              "        vertical-align: middle;\n",
              "    }\n",
              "\n",
              "    .dataframe tbody tr th {\n",
              "        vertical-align: top;\n",
              "    }\n",
              "\n",
              "    .dataframe thead th {\n",
              "        text-align: right;\n",
              "    }\n",
              "</style>\n",
              "<table border=\"1\" class=\"dataframe\">\n",
              "  <thead>\n",
              "    <tr style=\"text-align: right;\">\n",
              "      <th>Class</th>\n",
              "      <th>0</th>\n",
              "      <th>1</th>\n",
              "    </tr>\n",
              "    <tr>\n",
              "      <th>Category</th>\n",
              "      <th></th>\n",
              "      <th></th>\n",
              "    </tr>\n",
              "  </thead>\n",
              "  <tbody>\n",
              "    <tr>\n",
              "      <th>Arcade &amp; Action</th>\n",
              "      <td>0.335780</td>\n",
              "      <td>0.664220</td>\n",
              "    </tr>\n",
              "    <tr>\n",
              "      <th>Books &amp; Reference</th>\n",
              "      <td>0.297235</td>\n",
              "      <td>0.702765</td>\n",
              "    </tr>\n",
              "    <tr>\n",
              "      <th>Brain &amp; Puzzle</th>\n",
              "      <td>0.340782</td>\n",
              "      <td>0.659218</td>\n",
              "    </tr>\n",
              "    <tr>\n",
              "      <th>Business</th>\n",
              "      <td>0.571268</td>\n",
              "      <td>0.428732</td>\n",
              "    </tr>\n",
              "    <tr>\n",
              "      <th>Cards &amp; Casino</th>\n",
              "      <td>0.671895</td>\n",
              "      <td>0.328105</td>\n",
              "    </tr>\n",
              "    <tr>\n",
              "      <th>Casual</th>\n",
              "      <td>0.474705</td>\n",
              "      <td>0.525295</td>\n",
              "    </tr>\n",
              "    <tr>\n",
              "      <th>Comics</th>\n",
              "      <td>0.891071</td>\n",
              "      <td>0.108929</td>\n",
              "    </tr>\n",
              "    <tr>\n",
              "      <th>Communication</th>\n",
              "      <td>0.540568</td>\n",
              "      <td>0.459432</td>\n",
              "    </tr>\n",
              "    <tr>\n",
              "      <th>Education</th>\n",
              "      <td>0.412439</td>\n",
              "      <td>0.587561</td>\n",
              "    </tr>\n",
              "    <tr>\n",
              "      <th>Entertainment</th>\n",
              "      <td>0.221725</td>\n",
              "      <td>0.778275</td>\n",
              "    </tr>\n",
              "    <tr>\n",
              "      <th>Finance</th>\n",
              "      <td>0.520812</td>\n",
              "      <td>0.479188</td>\n",
              "    </tr>\n",
              "    <tr>\n",
              "      <th>Health &amp; Fitness</th>\n",
              "      <td>0.535789</td>\n",
              "      <td>0.464211</td>\n",
              "    </tr>\n",
              "    <tr>\n",
              "      <th>Libraries &amp; Demo</th>\n",
              "      <td>0.834545</td>\n",
              "      <td>0.165455</td>\n",
              "    </tr>\n",
              "    <tr>\n",
              "      <th>Lifestyle</th>\n",
              "      <td>0.403454</td>\n",
              "      <td>0.596546</td>\n",
              "    </tr>\n",
              "    <tr>\n",
              "      <th>Media &amp; Video</th>\n",
              "      <td>0.532867</td>\n",
              "      <td>0.467133</td>\n",
              "    </tr>\n",
              "    <tr>\n",
              "      <th>Medical</th>\n",
              "      <td>0.012097</td>\n",
              "      <td>0.987903</td>\n",
              "    </tr>\n",
              "    <tr>\n",
              "      <th>Music &amp; Audio</th>\n",
              "      <td>0.185841</td>\n",
              "      <td>0.814159</td>\n",
              "    </tr>\n",
              "    <tr>\n",
              "      <th>News &amp; Magazines</th>\n",
              "      <td>0.079518</td>\n",
              "      <td>0.920482</td>\n",
              "    </tr>\n",
              "    <tr>\n",
              "      <th>Personalization</th>\n",
              "      <td>0.334049</td>\n",
              "      <td>0.665951</td>\n",
              "    </tr>\n",
              "    <tr>\n",
              "      <th>Photography</th>\n",
              "      <td>0.122137</td>\n",
              "      <td>0.877863</td>\n",
              "    </tr>\n",
              "    <tr>\n",
              "      <th>Productivity</th>\n",
              "      <td>0.193603</td>\n",
              "      <td>0.806397</td>\n",
              "    </tr>\n",
              "    <tr>\n",
              "      <th>Racing</th>\n",
              "      <td>0.276000</td>\n",
              "      <td>0.724000</td>\n",
              "    </tr>\n",
              "    <tr>\n",
              "      <th>Shopping</th>\n",
              "      <td>0.087349</td>\n",
              "      <td>0.912651</td>\n",
              "    </tr>\n",
              "    <tr>\n",
              "      <th>Social</th>\n",
              "      <td>0.200581</td>\n",
              "      <td>0.799419</td>\n",
              "    </tr>\n",
              "    <tr>\n",
              "      <th>Sports</th>\n",
              "      <td>0.038194</td>\n",
              "      <td>0.961806</td>\n",
              "    </tr>\n",
              "    <tr>\n",
              "      <th>Sports Games</th>\n",
              "      <td>0.247423</td>\n",
              "      <td>0.752577</td>\n",
              "    </tr>\n",
              "    <tr>\n",
              "      <th>Tools</th>\n",
              "      <td>0.127197</td>\n",
              "      <td>0.872803</td>\n",
              "    </tr>\n",
              "    <tr>\n",
              "      <th>Transportation</th>\n",
              "      <td>0.010076</td>\n",
              "      <td>0.989924</td>\n",
              "    </tr>\n",
              "    <tr>\n",
              "      <th>Travel &amp; Local</th>\n",
              "      <td>0.017359</td>\n",
              "      <td>0.982641</td>\n",
              "    </tr>\n",
              "    <tr>\n",
              "      <th>Weather</th>\n",
              "      <td>0.206667</td>\n",
              "      <td>0.793333</td>\n",
              "    </tr>\n",
              "  </tbody>\n",
              "</table>\n",
              "</div>\n",
              "      <button class=\"colab-df-convert\" onclick=\"convertToInteractive('df-94be3cec-c0e4-4335-bb25-1dcd140a438e')\"\n",
              "              title=\"Convert this dataframe to an interactive table.\"\n",
              "              style=\"display:none;\">\n",
              "        \n",
              "  <svg xmlns=\"http://www.w3.org/2000/svg\" height=\"24px\"viewBox=\"0 0 24 24\"\n",
              "       width=\"24px\">\n",
              "    <path d=\"M0 0h24v24H0V0z\" fill=\"none\"/>\n",
              "    <path d=\"M18.56 5.44l.94 2.06.94-2.06 2.06-.94-2.06-.94-.94-2.06-.94 2.06-2.06.94zm-11 1L8.5 8.5l.94-2.06 2.06-.94-2.06-.94L8.5 2.5l-.94 2.06-2.06.94zm10 10l.94 2.06.94-2.06 2.06-.94-2.06-.94-.94-2.06-.94 2.06-2.06.94z\"/><path d=\"M17.41 7.96l-1.37-1.37c-.4-.4-.92-.59-1.43-.59-.52 0-1.04.2-1.43.59L10.3 9.45l-7.72 7.72c-.78.78-.78 2.05 0 2.83L4 21.41c.39.39.9.59 1.41.59.51 0 1.02-.2 1.41-.59l7.78-7.78 2.81-2.81c.8-.78.8-2.07 0-2.86zM5.41 20L4 18.59l7.72-7.72 1.47 1.35L5.41 20z\"/>\n",
              "  </svg>\n",
              "      </button>\n",
              "      \n",
              "  <style>\n",
              "    .colab-df-container {\n",
              "      display:flex;\n",
              "      flex-wrap:wrap;\n",
              "      gap: 12px;\n",
              "    }\n",
              "\n",
              "    .colab-df-convert {\n",
              "      background-color: #E8F0FE;\n",
              "      border: none;\n",
              "      border-radius: 50%;\n",
              "      cursor: pointer;\n",
              "      display: none;\n",
              "      fill: #1967D2;\n",
              "      height: 32px;\n",
              "      padding: 0 0 0 0;\n",
              "      width: 32px;\n",
              "    }\n",
              "\n",
              "    .colab-df-convert:hover {\n",
              "      background-color: #E2EBFA;\n",
              "      box-shadow: 0px 1px 2px rgba(60, 64, 67, 0.3), 0px 1px 3px 1px rgba(60, 64, 67, 0.15);\n",
              "      fill: #174EA6;\n",
              "    }\n",
              "\n",
              "    [theme=dark] .colab-df-convert {\n",
              "      background-color: #3B4455;\n",
              "      fill: #D2E3FC;\n",
              "    }\n",
              "\n",
              "    [theme=dark] .colab-df-convert:hover {\n",
              "      background-color: #434B5C;\n",
              "      box-shadow: 0px 1px 3px 1px rgba(0, 0, 0, 0.15);\n",
              "      filter: drop-shadow(0px 1px 2px rgba(0, 0, 0, 0.3));\n",
              "      fill: #FFFFFF;\n",
              "    }\n",
              "  </style>\n",
              "\n",
              "      <script>\n",
              "        const buttonEl =\n",
              "          document.querySelector('#df-94be3cec-c0e4-4335-bb25-1dcd140a438e button.colab-df-convert');\n",
              "        buttonEl.style.display =\n",
              "          google.colab.kernel.accessAllowed ? 'block' : 'none';\n",
              "\n",
              "        async function convertToInteractive(key) {\n",
              "          const element = document.querySelector('#df-94be3cec-c0e4-4335-bb25-1dcd140a438e');\n",
              "          const dataTable =\n",
              "            await google.colab.kernel.invokeFunction('convertToInteractive',\n",
              "                                                     [key], {});\n",
              "          if (!dataTable) return;\n",
              "\n",
              "          const docLinkHtml = 'Like what you see? Visit the ' +\n",
              "            '<a target=\"_blank\" href=https://colab.research.google.com/notebooks/data_table.ipynb>data table notebook</a>'\n",
              "            + ' to learn more about interactive tables.';\n",
              "          element.innerHTML = '';\n",
              "          dataTable['output_type'] = 'display_data';\n",
              "          await google.colab.output.renderOutput(dataTable, element);\n",
              "          const docLink = document.createElement('div');\n",
              "          docLink.innerHTML = docLinkHtml;\n",
              "          element.appendChild(docLink);\n",
              "        }\n",
              "      </script>\n",
              "    </div>\n",
              "  </div>\n",
              "  "
            ]
          },
          "metadata": {},
          "execution_count": 152
        }
      ]
    },
    {
      "cell_type": "code",
      "source": [
        "cat_per_malware['Malware Percentage'] = cat_per_malware.apply(lambda x: x[1] * 100, axis=1)"
      ],
      "metadata": {
        "id": "lGTHakhSSvGf"
      },
      "execution_count": 153,
      "outputs": []
    },
    {
      "cell_type": "code",
      "source": [
        "cat_per_malware"
      ],
      "metadata": {
        "colab": {
          "base_uri": "https://localhost:8080/",
          "height": 1000
        },
        "id": "fB1eLZOrTDTM",
        "outputId": "c4b4e654-d876-4417-e635-3e0084aa36a9"
      },
      "execution_count": 154,
      "outputs": [
        {
          "output_type": "execute_result",
          "data": {
            "text/plain": [
              "Class                     0         1  Malware Percentage\n",
              "Category                                                 \n",
              "Arcade & Action    0.335780  0.664220           66.422018\n",
              "Books & Reference  0.297235  0.702765           70.276498\n",
              "Brain & Puzzle     0.340782  0.659218           65.921788\n",
              "Business           0.571268  0.428732           42.873176\n",
              "Cards & Casino     0.671895  0.328105           32.810458\n",
              "Casual             0.474705  0.525295           52.529453\n",
              "Comics             0.891071  0.108929           10.892857\n",
              "Communication      0.540568  0.459432           45.943205\n",
              "Education          0.412439  0.587561           58.756137\n",
              "Entertainment      0.221725  0.778275           77.827502\n",
              "Finance            0.520812  0.479188           47.918782\n",
              "Health & Fitness   0.535789  0.464211           46.421053\n",
              "Libraries & Demo   0.834545  0.165455           16.545455\n",
              "Lifestyle          0.403454  0.596546           59.654631\n",
              "Media & Video      0.532867  0.467133           46.713287\n",
              "Medical            0.012097  0.987903           98.790323\n",
              "Music & Audio      0.185841  0.814159           81.415929\n",
              "News & Magazines   0.079518  0.920482           92.048193\n",
              "Personalization    0.334049  0.665951           66.595136\n",
              "Photography        0.122137  0.877863           87.786260\n",
              "Productivity       0.193603  0.806397           80.639731\n",
              "Racing             0.276000  0.724000           72.400000\n",
              "Shopping           0.087349  0.912651           91.265060\n",
              "Social             0.200581  0.799419           79.941860\n",
              "Sports             0.038194  0.961806           96.180556\n",
              "Sports Games       0.247423  0.752577           75.257732\n",
              "Tools              0.127197  0.872803           87.280335\n",
              "Transportation     0.010076  0.989924           98.992443\n",
              "Travel & Local     0.017359  0.982641           98.264072\n",
              "Weather            0.206667  0.793333           79.333333"
            ],
            "text/html": [
              "\n",
              "  <div id=\"df-624ffc71-63d5-4a6a-8a07-e5f7ce56277a\">\n",
              "    <div class=\"colab-df-container\">\n",
              "      <div>\n",
              "<style scoped>\n",
              "    .dataframe tbody tr th:only-of-type {\n",
              "        vertical-align: middle;\n",
              "    }\n",
              "\n",
              "    .dataframe tbody tr th {\n",
              "        vertical-align: top;\n",
              "    }\n",
              "\n",
              "    .dataframe thead th {\n",
              "        text-align: right;\n",
              "    }\n",
              "</style>\n",
              "<table border=\"1\" class=\"dataframe\">\n",
              "  <thead>\n",
              "    <tr style=\"text-align: right;\">\n",
              "      <th>Class</th>\n",
              "      <th>0</th>\n",
              "      <th>1</th>\n",
              "      <th>Malware Percentage</th>\n",
              "    </tr>\n",
              "    <tr>\n",
              "      <th>Category</th>\n",
              "      <th></th>\n",
              "      <th></th>\n",
              "      <th></th>\n",
              "    </tr>\n",
              "  </thead>\n",
              "  <tbody>\n",
              "    <tr>\n",
              "      <th>Arcade &amp; Action</th>\n",
              "      <td>0.335780</td>\n",
              "      <td>0.664220</td>\n",
              "      <td>66.422018</td>\n",
              "    </tr>\n",
              "    <tr>\n",
              "      <th>Books &amp; Reference</th>\n",
              "      <td>0.297235</td>\n",
              "      <td>0.702765</td>\n",
              "      <td>70.276498</td>\n",
              "    </tr>\n",
              "    <tr>\n",
              "      <th>Brain &amp; Puzzle</th>\n",
              "      <td>0.340782</td>\n",
              "      <td>0.659218</td>\n",
              "      <td>65.921788</td>\n",
              "    </tr>\n",
              "    <tr>\n",
              "      <th>Business</th>\n",
              "      <td>0.571268</td>\n",
              "      <td>0.428732</td>\n",
              "      <td>42.873176</td>\n",
              "    </tr>\n",
              "    <tr>\n",
              "      <th>Cards &amp; Casino</th>\n",
              "      <td>0.671895</td>\n",
              "      <td>0.328105</td>\n",
              "      <td>32.810458</td>\n",
              "    </tr>\n",
              "    <tr>\n",
              "      <th>Casual</th>\n",
              "      <td>0.474705</td>\n",
              "      <td>0.525295</td>\n",
              "      <td>52.529453</td>\n",
              "    </tr>\n",
              "    <tr>\n",
              "      <th>Comics</th>\n",
              "      <td>0.891071</td>\n",
              "      <td>0.108929</td>\n",
              "      <td>10.892857</td>\n",
              "    </tr>\n",
              "    <tr>\n",
              "      <th>Communication</th>\n",
              "      <td>0.540568</td>\n",
              "      <td>0.459432</td>\n",
              "      <td>45.943205</td>\n",
              "    </tr>\n",
              "    <tr>\n",
              "      <th>Education</th>\n",
              "      <td>0.412439</td>\n",
              "      <td>0.587561</td>\n",
              "      <td>58.756137</td>\n",
              "    </tr>\n",
              "    <tr>\n",
              "      <th>Entertainment</th>\n",
              "      <td>0.221725</td>\n",
              "      <td>0.778275</td>\n",
              "      <td>77.827502</td>\n",
              "    </tr>\n",
              "    <tr>\n",
              "      <th>Finance</th>\n",
              "      <td>0.520812</td>\n",
              "      <td>0.479188</td>\n",
              "      <td>47.918782</td>\n",
              "    </tr>\n",
              "    <tr>\n",
              "      <th>Health &amp; Fitness</th>\n",
              "      <td>0.535789</td>\n",
              "      <td>0.464211</td>\n",
              "      <td>46.421053</td>\n",
              "    </tr>\n",
              "    <tr>\n",
              "      <th>Libraries &amp; Demo</th>\n",
              "      <td>0.834545</td>\n",
              "      <td>0.165455</td>\n",
              "      <td>16.545455</td>\n",
              "    </tr>\n",
              "    <tr>\n",
              "      <th>Lifestyle</th>\n",
              "      <td>0.403454</td>\n",
              "      <td>0.596546</td>\n",
              "      <td>59.654631</td>\n",
              "    </tr>\n",
              "    <tr>\n",
              "      <th>Media &amp; Video</th>\n",
              "      <td>0.532867</td>\n",
              "      <td>0.467133</td>\n",
              "      <td>46.713287</td>\n",
              "    </tr>\n",
              "    <tr>\n",
              "      <th>Medical</th>\n",
              "      <td>0.012097</td>\n",
              "      <td>0.987903</td>\n",
              "      <td>98.790323</td>\n",
              "    </tr>\n",
              "    <tr>\n",
              "      <th>Music &amp; Audio</th>\n",
              "      <td>0.185841</td>\n",
              "      <td>0.814159</td>\n",
              "      <td>81.415929</td>\n",
              "    </tr>\n",
              "    <tr>\n",
              "      <th>News &amp; Magazines</th>\n",
              "      <td>0.079518</td>\n",
              "      <td>0.920482</td>\n",
              "      <td>92.048193</td>\n",
              "    </tr>\n",
              "    <tr>\n",
              "      <th>Personalization</th>\n",
              "      <td>0.334049</td>\n",
              "      <td>0.665951</td>\n",
              "      <td>66.595136</td>\n",
              "    </tr>\n",
              "    <tr>\n",
              "      <th>Photography</th>\n",
              "      <td>0.122137</td>\n",
              "      <td>0.877863</td>\n",
              "      <td>87.786260</td>\n",
              "    </tr>\n",
              "    <tr>\n",
              "      <th>Productivity</th>\n",
              "      <td>0.193603</td>\n",
              "      <td>0.806397</td>\n",
              "      <td>80.639731</td>\n",
              "    </tr>\n",
              "    <tr>\n",
              "      <th>Racing</th>\n",
              "      <td>0.276000</td>\n",
              "      <td>0.724000</td>\n",
              "      <td>72.400000</td>\n",
              "    </tr>\n",
              "    <tr>\n",
              "      <th>Shopping</th>\n",
              "      <td>0.087349</td>\n",
              "      <td>0.912651</td>\n",
              "      <td>91.265060</td>\n",
              "    </tr>\n",
              "    <tr>\n",
              "      <th>Social</th>\n",
              "      <td>0.200581</td>\n",
              "      <td>0.799419</td>\n",
              "      <td>79.941860</td>\n",
              "    </tr>\n",
              "    <tr>\n",
              "      <th>Sports</th>\n",
              "      <td>0.038194</td>\n",
              "      <td>0.961806</td>\n",
              "      <td>96.180556</td>\n",
              "    </tr>\n",
              "    <tr>\n",
              "      <th>Sports Games</th>\n",
              "      <td>0.247423</td>\n",
              "      <td>0.752577</td>\n",
              "      <td>75.257732</td>\n",
              "    </tr>\n",
              "    <tr>\n",
              "      <th>Tools</th>\n",
              "      <td>0.127197</td>\n",
              "      <td>0.872803</td>\n",
              "      <td>87.280335</td>\n",
              "    </tr>\n",
              "    <tr>\n",
              "      <th>Transportation</th>\n",
              "      <td>0.010076</td>\n",
              "      <td>0.989924</td>\n",
              "      <td>98.992443</td>\n",
              "    </tr>\n",
              "    <tr>\n",
              "      <th>Travel &amp; Local</th>\n",
              "      <td>0.017359</td>\n",
              "      <td>0.982641</td>\n",
              "      <td>98.264072</td>\n",
              "    </tr>\n",
              "    <tr>\n",
              "      <th>Weather</th>\n",
              "      <td>0.206667</td>\n",
              "      <td>0.793333</td>\n",
              "      <td>79.333333</td>\n",
              "    </tr>\n",
              "  </tbody>\n",
              "</table>\n",
              "</div>\n",
              "      <button class=\"colab-df-convert\" onclick=\"convertToInteractive('df-624ffc71-63d5-4a6a-8a07-e5f7ce56277a')\"\n",
              "              title=\"Convert this dataframe to an interactive table.\"\n",
              "              style=\"display:none;\">\n",
              "        \n",
              "  <svg xmlns=\"http://www.w3.org/2000/svg\" height=\"24px\"viewBox=\"0 0 24 24\"\n",
              "       width=\"24px\">\n",
              "    <path d=\"M0 0h24v24H0V0z\" fill=\"none\"/>\n",
              "    <path d=\"M18.56 5.44l.94 2.06.94-2.06 2.06-.94-2.06-.94-.94-2.06-.94 2.06-2.06.94zm-11 1L8.5 8.5l.94-2.06 2.06-.94-2.06-.94L8.5 2.5l-.94 2.06-2.06.94zm10 10l.94 2.06.94-2.06 2.06-.94-2.06-.94-.94-2.06-.94 2.06-2.06.94z\"/><path d=\"M17.41 7.96l-1.37-1.37c-.4-.4-.92-.59-1.43-.59-.52 0-1.04.2-1.43.59L10.3 9.45l-7.72 7.72c-.78.78-.78 2.05 0 2.83L4 21.41c.39.39.9.59 1.41.59.51 0 1.02-.2 1.41-.59l7.78-7.78 2.81-2.81c.8-.78.8-2.07 0-2.86zM5.41 20L4 18.59l7.72-7.72 1.47 1.35L5.41 20z\"/>\n",
              "  </svg>\n",
              "      </button>\n",
              "      \n",
              "  <style>\n",
              "    .colab-df-container {\n",
              "      display:flex;\n",
              "      flex-wrap:wrap;\n",
              "      gap: 12px;\n",
              "    }\n",
              "\n",
              "    .colab-df-convert {\n",
              "      background-color: #E8F0FE;\n",
              "      border: none;\n",
              "      border-radius: 50%;\n",
              "      cursor: pointer;\n",
              "      display: none;\n",
              "      fill: #1967D2;\n",
              "      height: 32px;\n",
              "      padding: 0 0 0 0;\n",
              "      width: 32px;\n",
              "    }\n",
              "\n",
              "    .colab-df-convert:hover {\n",
              "      background-color: #E2EBFA;\n",
              "      box-shadow: 0px 1px 2px rgba(60, 64, 67, 0.3), 0px 1px 3px 1px rgba(60, 64, 67, 0.15);\n",
              "      fill: #174EA6;\n",
              "    }\n",
              "\n",
              "    [theme=dark] .colab-df-convert {\n",
              "      background-color: #3B4455;\n",
              "      fill: #D2E3FC;\n",
              "    }\n",
              "\n",
              "    [theme=dark] .colab-df-convert:hover {\n",
              "      background-color: #434B5C;\n",
              "      box-shadow: 0px 1px 3px 1px rgba(0, 0, 0, 0.15);\n",
              "      filter: drop-shadow(0px 1px 2px rgba(0, 0, 0, 0.3));\n",
              "      fill: #FFFFFF;\n",
              "    }\n",
              "  </style>\n",
              "\n",
              "      <script>\n",
              "        const buttonEl =\n",
              "          document.querySelector('#df-624ffc71-63d5-4a6a-8a07-e5f7ce56277a button.colab-df-convert');\n",
              "        buttonEl.style.display =\n",
              "          google.colab.kernel.accessAllowed ? 'block' : 'none';\n",
              "\n",
              "        async function convertToInteractive(key) {\n",
              "          const element = document.querySelector('#df-624ffc71-63d5-4a6a-8a07-e5f7ce56277a');\n",
              "          const dataTable =\n",
              "            await google.colab.kernel.invokeFunction('convertToInteractive',\n",
              "                                                     [key], {});\n",
              "          if (!dataTable) return;\n",
              "\n",
              "          const docLinkHtml = 'Like what you see? Visit the ' +\n",
              "            '<a target=\"_blank\" href=https://colab.research.google.com/notebooks/data_table.ipynb>data table notebook</a>'\n",
              "            + ' to learn more about interactive tables.';\n",
              "          element.innerHTML = '';\n",
              "          dataTable['output_type'] = 'display_data';\n",
              "          await google.colab.output.renderOutput(dataTable, element);\n",
              "          const docLink = document.createElement('div');\n",
              "          docLink.innerHTML = docLinkHtml;\n",
              "          element.appendChild(docLink);\n",
              "        }\n",
              "      </script>\n",
              "    </div>\n",
              "  </div>\n",
              "  "
            ]
          },
          "metadata": {},
          "execution_count": 154
        }
      ]
    },
    {
      "cell_type": "code",
      "source": [
        "##Plotting the percentage of malware apps w.r.t. each categories\n",
        "plt.figure(figsize=(15,8))\n",
        "cat_per_malware.groupby('Category')['Malware Percentage'].sum().sort_values(ascending=True).plot(kind='bar')\n",
        "plt.xlabel('Category')\n",
        "plt.ylabel('Percentage of malware apps')\n",
        "plt.xticks(rotation=90)\n",
        "plt.show()"
      ],
      "metadata": {
        "colab": {
          "base_uri": "https://localhost:8080/",
          "height": 581
        },
        "id": "Gw2oZZD4TInX",
        "outputId": "9399b34e-1a61-4d27-f3c9-c0ef22b39bc5"
      },
      "execution_count": 155,
      "outputs": [
        {
          "output_type": "display_data",
          "data": {
            "text/plain": [
              "<Figure size 1080x576 with 1 Axes>"
            ],
            "image/png": "[encoded data removed]"
          },
          "metadata": {
            "needs_background": "light"
          }
        }
      ]
    },
    {
      "cell_type": "markdown",
      "source": [
        "*We can observe that Transportation, Medical, Travels and sports are some of the features with highest number of malware apps whereas Comics, Linraries, Cards & Business contains less percentage of malware apps*"
      ],
      "metadata": {
        "id": "8vKBcjbLT7WG"
      }
    },
    {
      "cell_type": "markdown",
      "source": [
        "**Handling Categorical Features**"
      ],
      "metadata": {
        "id": "4-XHLktxU-n_"
      }
    },
    {
      "cell_type": "markdown",
      "source": [
        "Handling Price Column, as this column have only two values paid & unpaid we can encode it as Paid = 1 and Unpaid = 0"
      ],
      "metadata": {
        "id": "LBgBLQqeVIhS"
      }
    },
    {
      "cell_type": "code",
      "source": [
        "df['Price'] = df['Price'].apply(lambda x: 1 if x == 'Paid' else 0)"
      ],
      "metadata": {
        "id": "wKqLORQrVGUm"
      },
      "execution_count": 156,
      "outputs": []
    },
    {
      "cell_type": "code",
      "source": [
        "df.rename(columns = {'Price':'Paid/Unpaid'}, inplace=True)"
      ],
      "metadata": {
        "id": "RHFl01iFVECo"
      },
      "execution_count": 157,
      "outputs": []
    },
    {
      "cell_type": "code",
      "source": [
        "df.head()"
      ],
      "metadata": {
        "colab": {
          "base_uri": "https://localhost:8080/",
          "height": 664
        },
        "id": "T8bxviGfWAb0",
        "outputId": "ec45a075-3845-4a5e-d505-0e5c442015da"
      },
      "execution_count": 158,
      "outputs": [
        {
          "output_type": "execute_result",
          "data": {
            "text/plain": [
              "                              App                                   Package  \\\n",
              "0         Canada Post Corporation                    com.canadapost.android   \n",
              "1                       Word Farm                 com.realcasualgames.words   \n",
              "2            Fortunes of War FREE                        fortunesofwar.free   \n",
              "3  Better Keyboard: Avatar Purple  com.cc.betterkeyboard.skins.avatarpurple   \n",
              "5         Ms Claus Live Wallpaper           tmc.christmaslady.livewallpaper   \n",
              "\n",
              "           Category                                        Description  \\\n",
              "0          Business  Canada Post Mobile App gives you access to som...   \n",
              "1    Brain & Puzzle  Speed and strategy combine in this exciting wo...   \n",
              "2    Cards & Casino  Fortunes of War is a fast-paced, easy to learn...   \n",
              "3  Libraries & Demo  Skin for Better Keyboard featuring a glossy fe...   \n",
              "5   Personalization  Ms Claus Live Wallpaper<p>Find more Free apps ...   \n",
              "\n",
              "   Rating  Number of ratings  Paid/Unpaid  \\\n",
              "0     3.1                 77            0   \n",
              "1     4.3                199            0   \n",
              "2     4.1                243            0   \n",
              "3     3.6               2589            0   \n",
              "5     4.5                 16            0   \n",
              "\n",
              "                                        Related apps  \\\n",
              "0  {com.adaffix.pub.ca.android, com.kevinquan.gas...   \n",
              "1  {air.com.zubawing.FastWordLite, com.joybits.do...   \n",
              "2  {com.kevinquan.condado, hu.monsta.pazaak, net....   \n",
              "3  {eu.gdumoulin.betterandroid.skins.transparent....   \n",
              "5  {tmc.christmassanta.livewallpaper, tmc.winterh...   \n",
              "\n",
              "   Dangerous permissions count  Safe permissions count  ...  \\\n",
              "0                          7.0                       1  ...   \n",
              "1                          3.0                       2  ...   \n",
              "2                          1.0                       1  ...   \n",
              "3                          0.0                       0  ...   \n",
              "5                          3.0                       1  ...   \n",
              "\n",
              "   Your personal information : read calendar events (D)  \\\n",
              "0                                                  0      \n",
              "1                                                  0      \n",
              "2                                                  0      \n",
              "3                                                  0      \n",
              "5                                                  0      \n",
              "\n",
              "   Your personal information : read contact data (D)  \\\n",
              "0                                                  1   \n",
              "1                                                  0   \n",
              "2                                                  0   \n",
              "3                                                  0   \n",
              "5                                                  0   \n",
              "\n",
              "   Your personal information : read sensitive log data (D)  \\\n",
              "0                                                  0         \n",
              "1                                                  0         \n",
              "2                                                  0         \n",
              "3                                                  0         \n",
              "5                                                  0         \n",
              "\n",
              "   Your personal information : read user defined dictionary (D)  \\\n",
              "0                                                  0              \n",
              "1                                                  0              \n",
              "2                                                  0              \n",
              "3                                                  0              \n",
              "5                                                  0              \n",
              "\n",
              "   Your personal information : retrieve system internal state (S)  \\\n",
              "0                                                  0                \n",
              "1                                                  0                \n",
              "2                                                  0                \n",
              "3                                                  0                \n",
              "5                                                  0                \n",
              "\n",
              "   Your personal information : set alarm in alarm clock (S)  \\\n",
              "0                                                  0          \n",
              "1                                                  0          \n",
              "2                                                  0          \n",
              "3                                                  0          \n",
              "5                                                  0          \n",
              "\n",
              "   Your personal information : write Browser's history and bookmarks (D)  \\\n",
              "0                                                  0                       \n",
              "1                                                  0                       \n",
              "2                                                  0                       \n",
              "3                                                  0                       \n",
              "5                                                  0                       \n",
              "\n",
              "   Your personal information : write contact data (D)  \\\n",
              "0                                                  1    \n",
              "1                                                  0    \n",
              "2                                                  0    \n",
              "3                                                  0    \n",
              "5                                                  0    \n",
              "\n",
              "   Your personal information : write to user defined dictionary (S)  Class  \n",
              "0                                                  0                     0  \n",
              "1                                                  0                     0  \n",
              "2                                                  0                     0  \n",
              "3                                                  0                     0  \n",
              "5                                                  0                     0  \n",
              "\n",
              "[5 rows x 162 columns]"
            ],
            "text/html": [
              "\n",
              "  <div id=\"df-68a9fa25-06d0-4aa4-9722-dbd29af74e10\">\n",
              "    <div class=\"colab-df-container\">\n",
              "      <div>\n",
              "<style scoped>\n",
              "    .dataframe tbody tr th:only-of-type {\n",
              "        vertical-align: middle;\n",
              "    }\n",
              "\n",
              "    .dataframe tbody tr th {\n",
              "        vertical-align: top;\n",
              "    }\n",
              "\n",
              "    .dataframe thead th {\n",
              "        text-align: right;\n",
              "    }\n",
              "</style>\n",
              "<table border=\"1\" class=\"dataframe\">\n",
              "  <thead>\n",
              "    <tr style=\"text-align: right;\">\n",
              "      <th></th>\n",
              "      <th>App</th>\n",
              "      <th>Package</th>\n",
              "      <th>Category</th>\n",
              "      <th>Description</th>\n",
              "      <th>Rating</th>\n",
              "      <th>Number of ratings</th>\n",
              "      <th>Paid/Unpaid</th>\n",
              "      <th>Related apps</th>\n",
              "      <th>Dangerous permissions count</th>\n",
              "      <th>Safe permissions count</th>\n",
              "      <th>...</th>\n",
              "      <th>Your personal information : read calendar events (D)</th>\n",
              "      <th>Your personal information : read contact data (D)</th>\n",
              "      <th>Your personal information : read sensitive log data (D)</th>\n",
              "      <th>Your personal information : read user defined dictionary (D)</th>\n",
              "      <th>Your personal information : retrieve system internal state (S)</th>\n",
              "      <th>Your personal information : set alarm in alarm clock (S)</th>\n",
              "      <th>Your personal information : write Browser's history and bookmarks (D)</th>\n",
              "      <th>Your personal information : write contact data (D)</th>\n",
              "      <th>Your personal information : write to user defined dictionary (S)</th>\n",
              "      <th>Class</th>\n",
              "    </tr>\n",
              "  </thead>\n",
              "  <tbody>\n",
              "    <tr>\n",
              "      <th>0</th>\n",
              "      <td>Canada Post Corporation</td>\n",
              "      <td>com.canadapost.android</td>\n",
              "      <td>Business</td>\n",
              "      <td>Canada Post Mobile App gives you access to som...</td>\n",
              "      <td>3.1</td>\n",
              "      <td>77</td>\n",
              "      <td>0</td>\n",
              "      <td>{com.adaffix.pub.ca.android, com.kevinquan.gas...</td>\n",
              "      <td>7.0</td>\n",
              "      <td>1</td>\n",
              "      <td>...</td>\n",
              "      <td>0</td>\n",
              "      <td>1</td>\n",
              "      <td>0</td>\n",
              "      <td>0</td>\n",
              "      <td>0</td>\n",
              "      <td>0</td>\n",
              "      <td>0</td>\n",
              "      <td>1</td>\n",
              "      <td>0</td>\n",
              "      <td>0</td>\n",
              "    </tr>\n",
              "    <tr>\n",
              "      <th>1</th>\n",
              "      <td>Word Farm</td>\n",
              "      <td>com.realcasualgames.words</td>\n",
              "      <td>Brain &amp; Puzzle</td>\n",
              "      <td>Speed and strategy combine in this exciting wo...</td>\n",
              "      <td>4.3</td>\n",
              "      <td>199</td>\n",
              "      <td>0</td>\n",
              "      <td>{air.com.zubawing.FastWordLite, com.joybits.do...</td>\n",
              "      <td>3.0</td>\n",
              "      <td>2</td>\n",
              "      <td>...</td>\n",
              "      <td>0</td>\n",
              "      <td>0</td>\n",
              "      <td>0</td>\n",
              "      <td>0</td>\n",
              "      <td>0</td>\n",
              "      <td>0</td>\n",
              "      <td>0</td>\n",
              "      <td>0</td>\n",
              "      <td>0</td>\n",
              "      <td>0</td>\n",
              "    </tr>\n",
              "    <tr>\n",
              "      <th>2</th>\n",
              "      <td>Fortunes of War FREE</td>\n",
              "      <td>fortunesofwar.free</td>\n",
              "      <td>Cards &amp; Casino</td>\n",
              "      <td>Fortunes of War is a fast-paced, easy to learn...</td>\n",
              "      <td>4.1</td>\n",
              "      <td>243</td>\n",
              "      <td>0</td>\n",
              "      <td>{com.kevinquan.condado, hu.monsta.pazaak, net....</td>\n",
              "      <td>1.0</td>\n",
              "      <td>1</td>\n",
              "      <td>...</td>\n",
              "      <td>0</td>\n",
              "      <td>0</td>\n",
              "      <td>0</td>\n",
              "      <td>0</td>\n",
              "      <td>0</td>\n",
              "      <td>0</td>\n",
              "      <td>0</td>\n",
              "      <td>0</td>\n",
              "      <td>0</td>\n",
              "      <td>0</td>\n",
              "    </tr>\n",
              "    <tr>\n",
              "      <th>3</th>\n",
              "      <td>Better Keyboard: Avatar Purple</td>\n",
              "      <td>com.cc.betterkeyboard.skins.avatarpurple</td>\n",
              "      <td>Libraries &amp; Demo</td>\n",
              "      <td>Skin for Better Keyboard featuring a glossy fe...</td>\n",
              "      <td>3.6</td>\n",
              "      <td>2589</td>\n",
              "      <td>0</td>\n",
              "      <td>{eu.gdumoulin.betterandroid.skins.transparent....</td>\n",
              "      <td>0.0</td>\n",
              "      <td>0</td>\n",
              "      <td>...</td>\n",
              "      <td>0</td>\n",
              "      <td>0</td>\n",
              "      <td>0</td>\n",
              "      <td>0</td>\n",
              "      <td>0</td>\n",
              "      <td>0</td>\n",
              "      <td>0</td>\n",
              "      <td>0</td>\n",
              "      <td>0</td>\n",
              "      <td>0</td>\n",
              "    </tr>\n",
              "    <tr>\n",
              "      <th>5</th>\n",
              "      <td>Ms Claus Live Wallpaper</td>\n",
              "      <td>tmc.christmaslady.livewallpaper</td>\n",
              "      <td>Personalization</td>\n",
              "      <td>Ms Claus Live Wallpaper&lt;p&gt;Find more Free apps ...</td>\n",
              "      <td>4.5</td>\n",
              "      <td>16</td>\n",
              "      <td>0</td>\n",
              "      <td>{tmc.christmassanta.livewallpaper, tmc.winterh...</td>\n",
              "      <td>3.0</td>\n",
              "      <td>1</td>\n",
              "      <td>...</td>\n",
              "      <td>0</td>\n",
              "      <td>0</td>\n",
              "      <td>0</td>\n",
              "      <td>0</td>\n",
              "      <td>0</td>\n",
              "      <td>0</td>\n",
              "      <td>0</td>\n",
              "      <td>0</td>\n",
              "      <td>0</td>\n",
              "      <td>0</td>\n",
              "    </tr>\n",
              "  </tbody>\n",
              "</table>\n",
              "<p>5 rows × 162 columns</p>\n",
              "</div>\n",
              "      <button class=\"colab-df-convert\" onclick=\"convertToInteractive('df-68a9fa25-06d0-4aa4-9722-dbd29af74e10')\"\n",
              "              title=\"Convert this dataframe to an interactive table.\"\n",
              "              style=\"display:none;\">\n",
              "        \n",
              "  <svg xmlns=\"http://www.w3.org/2000/svg\" height=\"24px\"viewBox=\"0 0 24 24\"\n",
              "       width=\"24px\">\n",
              "    <path d=\"M0 0h24v24H0V0z\" fill=\"none\"/>\n",
              "    <path d=\"M18.56 5.44l.94 2.06.94-2.06 2.06-.94-2.06-.94-.94-2.06-.94 2.06-2.06.94zm-11 1L8.5 8.5l.94-2.06 2.06-.94-2.06-.94L8.5 2.5l-.94 2.06-2.06.94zm10 10l.94 2.06.94-2.06 2.06-.94-2.06-.94-.94-2.06-.94 2.06-2.06.94z\"/><path d=\"M17.41 7.96l-1.37-1.37c-.4-.4-.92-.59-1.43-.59-.52 0-1.04.2-1.43.59L10.3 9.45l-7.72 7.72c-.78.78-.78 2.05 0 2.83L4 21.41c.39.39.9.59 1.41.59.51 0 1.02-.2 1.41-.59l7.78-7.78 2.81-2.81c.8-.78.8-2.07 0-2.86zM5.41 20L4 18.59l7.72-7.72 1.47 1.35L5.41 20z\"/>\n",
              "  </svg>\n",
              "      </button>\n",
              "      \n",
              "  <style>\n",
              "    .colab-df-container {\n",
              "      display:flex;\n",
              "      flex-wrap:wrap;\n",
              "      gap: 12px;\n",
              "    }\n",
              "\n",
              "    .colab-df-convert {\n",
              "      background-color: #E8F0FE;\n",
              "      border: none;\n",
              "      border-radius: 50%;\n",
              "      cursor: pointer;\n",
              "      display: none;\n",
              "      fill: #1967D2;\n",
              "      height: 32px;\n",
              "      padding: 0 0 0 0;\n",
              "      width: 32px;\n",
              "    }\n",
              "\n",
              "    .colab-df-convert:hover {\n",
              "      background-color: #E2EBFA;\n",
              "      box-shadow: 0px 1px 2px rgba(60, 64, 67, 0.3), 0px 1px 3px 1px rgba(60, 64, 67, 0.15);\n",
              "      fill: #174EA6;\n",
              "    }\n",
              "\n",
              "    [theme=dark] .colab-df-convert {\n",
              "      background-color: #3B4455;\n",
              "      fill: #D2E3FC;\n",
              "    }\n",
              "\n",
              "    [theme=dark] .colab-df-convert:hover {\n",
              "      background-color: #434B5C;\n",
              "      box-shadow: 0px 1px 3px 1px rgba(0, 0, 0, 0.15);\n",
              "      filter: drop-shadow(0px 1px 2px rgba(0, 0, 0, 0.3));\n",
              "      fill: #FFFFFF;\n",
              "    }\n",
              "  </style>\n",
              "\n",
              "      <script>\n",
              "        const buttonEl =\n",
              "          document.querySelector('#df-68a9fa25-06d0-4aa4-9722-dbd29af74e10 button.colab-df-convert');\n",
              "        buttonEl.style.display =\n",
              "          google.colab.kernel.accessAllowed ? 'block' : 'none';\n",
              "\n",
              "        async function convertToInteractive(key) {\n",
              "          const element = document.querySelector('#df-68a9fa25-06d0-4aa4-9722-dbd29af74e10');\n",
              "          const dataTable =\n",
              "            await google.colab.kernel.invokeFunction('convertToInteractive',\n",
              "                                                     [key], {});\n",
              "          if (!dataTable) return;\n",
              "\n",
              "          const docLinkHtml = 'Like what you see? Visit the ' +\n",
              "            '<a target=\"_blank\" href=https://colab.research.google.com/notebooks/data_table.ipynb>data table notebook</a>'\n",
              "            + ' to learn more about interactive tables.';\n",
              "          element.innerHTML = '';\n",
              "          dataTable['output_type'] = 'display_data';\n",
              "          await google.colab.output.renderOutput(dataTable, element);\n",
              "          const docLink = document.createElement('div');\n",
              "          docLink.innerHTML = docLinkHtml;\n",
              "          element.appendChild(docLink);\n",
              "        }\n",
              "      </script>\n",
              "    </div>\n",
              "  </div>\n",
              "  "
            ]
          },
          "metadata": {},
          "execution_count": 158
        }
      ]
    },
    {
      "cell_type": "markdown",
      "source": [
        "Handling Category column, as we know that there are 30 unique features in this column one hot encoding would end up with the curse of dimensionality. So to avoid this problem, we can use mean encoding."
      ],
      "metadata": {
        "id": "qwD6UhK7WFjZ"
      }
    },
    {
      "cell_type": "code",
      "source": [
        "##Taking mean value of Class w.r.t. each category\n",
        "df.groupby('Category')['Class'].mean()"
      ],
      "metadata": {
        "colab": {
          "base_uri": "https://localhost:8080/"
        },
        "id": "pL91xYWxWaHL",
        "outputId": "3cde51c8-1104-4a8f-a6be-e808d663274e"
      },
      "execution_count": 159,
      "outputs": [
        {
          "output_type": "execute_result",
          "data": {
            "text/plain": [
              "Category\n",
              "Arcade & Action      0.664220\n",
              "Books & Reference    0.702765\n",
              "Brain & Puzzle       0.659218\n",
              "Business             0.428732\n",
              "Cards & Casino       0.328105\n",
              "Casual               0.525295\n",
              "Comics               0.108929\n",
              "Communication        0.459432\n",
              "Education            0.587561\n",
              "Entertainment        0.778275\n",
              "Finance              0.479188\n",
              "Health & Fitness     0.464211\n",
              "Libraries & Demo     0.165455\n",
              "Lifestyle            0.596546\n",
              "Media & Video        0.467133\n",
              "Medical              0.987903\n",
              "Music & Audio        0.814159\n",
              "News & Magazines     0.920482\n",
              "Personalization      0.665951\n",
              "Photography          0.877863\n",
              "Productivity         0.806397\n",
              "Racing               0.724000\n",
              "Shopping             0.912651\n",
              "Social               0.799419\n",
              "Sports               0.961806\n",
              "Sports Games         0.752577\n",
              "Tools                0.872803\n",
              "Transportation       0.989924\n",
              "Travel & Local       0.982641\n",
              "Weather              0.793333\n",
              "Name: Class, dtype: float64"
            ]
          },
          "metadata": {},
          "execution_count": 159
        }
      ]
    },
    {
      "cell_type": "code",
      "source": [
        "##Replacing the mean value of category in place of category name\n",
        "mean_of_category = df.groupby('Category')['Class'].mean().to_dict()\n",
        "df['Category'] = df['Category'].map(mean_of_category)"
      ],
      "metadata": {
        "id": "ppZzlfGQW_Az"
      },
      "execution_count": 160,
      "outputs": []
    },
    {
      "cell_type": "code",
      "source": [
        "df.head()"
      ],
      "metadata": {
        "colab": {
          "base_uri": "https://localhost:8080/",
          "height": 664
        },
        "id": "v_Md_CGNXc52",
        "outputId": "74034fd2-937a-4830-a330-97ba143aa134"
      },
      "execution_count": 161,
      "outputs": [
        {
          "output_type": "execute_result",
          "data": {
            "text/plain": [
              "                              App                                   Package  \\\n",
              "0         Canada Post Corporation                    com.canadapost.android   \n",
              "1                       Word Farm                 com.realcasualgames.words   \n",
              "2            Fortunes of War FREE                        fortunesofwar.free   \n",
              "3  Better Keyboard: Avatar Purple  com.cc.betterkeyboard.skins.avatarpurple   \n",
              "5         Ms Claus Live Wallpaper           tmc.christmaslady.livewallpaper   \n",
              "\n",
              "   Category                                        Description  Rating  \\\n",
              "0  0.428732  Canada Post Mobile App gives you access to som...     3.1   \n",
              "1  0.659218  Speed and strategy combine in this exciting wo...     4.3   \n",
              "2  0.328105  Fortunes of War is a fast-paced, easy to learn...     4.1   \n",
              "3  0.165455  Skin for Better Keyboard featuring a glossy fe...     3.6   \n",
              "5  0.665951  Ms Claus Live Wallpaper<p>Find more Free apps ...     4.5   \n",
              "\n",
              "   Number of ratings  Paid/Unpaid  \\\n",
              "0                 77            0   \n",
              "1                199            0   \n",
              "2                243            0   \n",
              "3               2589            0   \n",
              "5                 16            0   \n",
              "\n",
              "                                        Related apps  \\\n",
              "0  {com.adaffix.pub.ca.android, com.kevinquan.gas...   \n",
              "1  {air.com.zubawing.FastWordLite, com.joybits.do...   \n",
              "2  {com.kevinquan.condado, hu.monsta.pazaak, net....   \n",
              "3  {eu.gdumoulin.betterandroid.skins.transparent....   \n",
              "5  {tmc.christmassanta.livewallpaper, tmc.winterh...   \n",
              "\n",
              "   Dangerous permissions count  Safe permissions count  ...  \\\n",
              "0                          7.0                       1  ...   \n",
              "1                          3.0                       2  ...   \n",
              "2                          1.0                       1  ...   \n",
              "3                          0.0                       0  ...   \n",
              "5                          3.0                       1  ...   \n",
              "\n",
              "   Your personal information : read calendar events (D)  \\\n",
              "0                                                  0      \n",
              "1                                                  0      \n",
              "2                                                  0      \n",
              "3                                                  0      \n",
              "5                                                  0      \n",
              "\n",
              "   Your personal information : read contact data (D)  \\\n",
              "0                                                  1   \n",
              "1                                                  0   \n",
              "2                                                  0   \n",
              "3                                                  0   \n",
              "5                                                  0   \n",
              "\n",
              "   Your personal information : read sensitive log data (D)  \\\n",
              "0                                                  0         \n",
              "1                                                  0         \n",
              "2                                                  0         \n",
              "3                                                  0         \n",
              "5                                                  0         \n",
              "\n",
              "   Your personal information : read user defined dictionary (D)  \\\n",
              "0                                                  0              \n",
              "1                                                  0              \n",
              "2                                                  0              \n",
              "3                                                  0              \n",
              "5                                                  0              \n",
              "\n",
              "   Your personal information : retrieve system internal state (S)  \\\n",
              "0                                                  0                \n",
              "1                                                  0                \n",
              "2                                                  0                \n",
              "3                                                  0                \n",
              "5                                                  0                \n",
              "\n",
              "   Your personal information : set alarm in alarm clock (S)  \\\n",
              "0                                                  0          \n",
              "1                                                  0          \n",
              "2                                                  0          \n",
              "3                                                  0          \n",
              "5                                                  0          \n",
              "\n",
              "   Your personal information : write Browser's history and bookmarks (D)  \\\n",
              "0                                                  0                       \n",
              "1                                                  0                       \n",
              "2                                                  0                       \n",
              "3                                                  0                       \n",
              "5                                                  0                       \n",
              "\n",
              "   Your personal information : write contact data (D)  \\\n",
              "0                                                  1    \n",
              "1                                                  0    \n",
              "2                                                  0    \n",
              "3                                                  0    \n",
              "5                                                  0    \n",
              "\n",
              "   Your personal information : write to user defined dictionary (S)  Class  \n",
              "0                                                  0                     0  \n",
              "1                                                  0                     0  \n",
              "2                                                  0                     0  \n",
              "3                                                  0                     0  \n",
              "5                                                  0                     0  \n",
              "\n",
              "[5 rows x 162 columns]"
            ],
            "text/html": [
              "\n",
              "  <div id=\"df-9fd7171e-f6ce-4c6b-b513-a40deb88266e\">\n",
              "    <div class=\"colab-df-container\">\n",
              "      <div>\n",
              "<style scoped>\n",
              "    .dataframe tbody tr th:only-of-type {\n",
              "        vertical-align: middle;\n",
              "    }\n",
              "\n",
              "    .dataframe tbody tr th {\n",
              "        vertical-align: top;\n",
              "    }\n",
              "\n",
              "    .dataframe thead th {\n",
              "        text-align: right;\n",
              "    }\n",
              "</style>\n",
              "<table border=\"1\" class=\"dataframe\">\n",
              "  <thead>\n",
              "    <tr style=\"text-align: right;\">\n",
              "      <th></th>\n",
              "      <th>App</th>\n",
              "      <th>Package</th>\n",
              "      <th>Category</th>\n",
              "      <th>Description</th>\n",
              "      <th>Rating</th>\n",
              "      <th>Number of ratings</th>\n",
              "      <th>Paid/Unpaid</th>\n",
              "      <th>Related apps</th>\n",
              "      <th>Dangerous permissions count</th>\n",
              "      <th>Safe permissions count</th>\n",
              "      <th>...</th>\n",
              "      <th>Your personal information : read calendar events (D)</th>\n",
              "      <th>Your personal information : read contact data (D)</th>\n",
              "      <th>Your personal information : read sensitive log data (D)</th>\n",
              "      <th>Your personal information : read user defined dictionary (D)</th>\n",
              "      <th>Your personal information : retrieve system internal state (S)</th>\n",
              "      <th>Your personal information : set alarm in alarm clock (S)</th>\n",
              "      <th>Your personal information : write Browser's history and bookmarks (D)</th>\n",
              "      <th>Your personal information : write contact data (D)</th>\n",
              "      <th>Your personal information : write to user defined dictionary (S)</th>\n",
              "      <th>Class</th>\n",
              "    </tr>\n",
              "  </thead>\n",
              "  <tbody>\n",
              "    <tr>\n",
              "      <th>0</th>\n",
              "      <td>Canada Post Corporation</td>\n",
              "      <td>com.canadapost.android</td>\n",
              "      <td>0.428732</td>\n",
              "      <td>Canada Post Mobile App gives you access to som...</td>\n",
              "      <td>3.1</td>\n",
              "      <td>77</td>\n",
              "      <td>0</td>\n",
              "      <td>{com.adaffix.pub.ca.android, com.kevinquan.gas...</td>\n",
              "      <td>7.0</td>\n",
              "      <td>1</td>\n",
              "      <td>...</td>\n",
              "      <td>0</td>\n",
              "      <td>1</td>\n",
              "      <td>0</td>\n",
              "      <td>0</td>\n",
              "      <td>0</td>\n",
              "      <td>0</td>\n",
              "      <td>0</td>\n",
              "      <td>1</td>\n",
              "      <td>0</td>\n",
              "      <td>0</td>\n",
              "    </tr>\n",
              "    <tr>\n",
              "      <th>1</th>\n",
              "      <td>Word Farm</td>\n",
              "      <td>com.realcasualgames.words</td>\n",
              "      <td>0.659218</td>\n",
              "      <td>Speed and strategy combine in this exciting wo...</td>\n",
              "      <td>4.3</td>\n",
              "      <td>199</td>\n",
              "      <td>0</td>\n",
              "      <td>{air.com.zubawing.FastWordLite, com.joybits.do...</td>\n",
              "      <td>3.0</td>\n",
              "      <td>2</td>\n",
              "      <td>...</td>\n",
              "      <td>0</td>\n",
              "      <td>0</td>\n",
              "      <td>0</td>\n",
              "      <td>0</td>\n",
              "      <td>0</td>\n",
              "      <td>0</td>\n",
              "      <td>0</td>\n",
              "      <td>0</td>\n",
              "      <td>0</td>\n",
              "      <td>0</td>\n",
              "    </tr>\n",
              "    <tr>\n",
              "      <th>2</th>\n",
              "      <td>Fortunes of War FREE</td>\n",
              "      <td>fortunesofwar.free</td>\n",
              "      <td>0.328105</td>\n",
              "      <td>Fortunes of War is a fast-paced, easy to learn...</td>\n",
              "      <td>4.1</td>\n",
              "      <td>243</td>\n",
              "      <td>0</td>\n",
              "      <td>{com.kevinquan.condado, hu.monsta.pazaak, net....</td>\n",
              "      <td>1.0</td>\n",
              "      <td>1</td>\n",
              "      <td>...</td>\n",
              "      <td>0</td>\n",
              "      <td>0</td>\n",
              "      <td>0</td>\n",
              "      <td>0</td>\n",
              "      <td>0</td>\n",
              "      <td>0</td>\n",
              "      <td>0</td>\n",
              "      <td>0</td>\n",
              "      <td>0</td>\n",
              "      <td>0</td>\n",
              "    </tr>\n",
              "    <tr>\n",
              "      <th>3</th>\n",
              "      <td>Better Keyboard: Avatar Purple</td>\n",
              "      <td>com.cc.betterkeyboard.skins.avatarpurple</td>\n",
              "      <td>0.165455</td>\n",
              "      <td>Skin for Better Keyboard featuring a glossy fe...</td>\n",
              "      <td>3.6</td>\n",
              "      <td>2589</td>\n",
              "      <td>0</td>\n",
              "      <td>{eu.gdumoulin.betterandroid.skins.transparent....</td>\n",
              "      <td>0.0</td>\n",
              "      <td>0</td>\n",
              "      <td>...</td>\n",
              "      <td>0</td>\n",
              "      <td>0</td>\n",
              "      <td>0</td>\n",
              "      <td>0</td>\n",
              "      <td>0</td>\n",
              "      <td>0</td>\n",
              "      <td>0</td>\n",
              "      <td>0</td>\n",
              "      <td>0</td>\n",
              "      <td>0</td>\n",
              "    </tr>\n",
              "    <tr>\n",
              "      <th>5</th>\n",
              "      <td>Ms Claus Live Wallpaper</td>\n",
              "      <td>tmc.christmaslady.livewallpaper</td>\n",
              "      <td>0.665951</td>\n",
              "      <td>Ms Claus Live Wallpaper&lt;p&gt;Find more Free apps ...</td>\n",
              "      <td>4.5</td>\n",
              "      <td>16</td>\n",
              "      <td>0</td>\n",
              "      <td>{tmc.christmassanta.livewallpaper, tmc.winterh...</td>\n",
              "      <td>3.0</td>\n",
              "      <td>1</td>\n",
              "      <td>...</td>\n",
              "      <td>0</td>\n",
              "      <td>0</td>\n",
              "      <td>0</td>\n",
              "      <td>0</td>\n",
              "      <td>0</td>\n",
              "      <td>0</td>\n",
              "      <td>0</td>\n",
              "      <td>0</td>\n",
              "      <td>0</td>\n",
              "      <td>0</td>\n",
              "    </tr>\n",
              "  </tbody>\n",
              "</table>\n",
              "<p>5 rows × 162 columns</p>\n",
              "</div>\n",
              "      <button class=\"colab-df-convert\" onclick=\"convertToInteractive('df-9fd7171e-f6ce-4c6b-b513-a40deb88266e')\"\n",
              "              title=\"Convert this dataframe to an interactive table.\"\n",
              "              style=\"display:none;\">\n",
              "        \n",
              "  <svg xmlns=\"http://www.w3.org/2000/svg\" height=\"24px\"viewBox=\"0 0 24 24\"\n",
              "       width=\"24px\">\n",
              "    <path d=\"M0 0h24v24H0V0z\" fill=\"none\"/>\n",
              "    <path d=\"M18.56 5.44l.94 2.06.94-2.06 2.06-.94-2.06-.94-.94-2.06-.94 2.06-2.06.94zm-11 1L8.5 8.5l.94-2.06 2.06-.94-2.06-.94L8.5 2.5l-.94 2.06-2.06.94zm10 10l.94 2.06.94-2.06 2.06-.94-2.06-.94-.94-2.06-.94 2.06-2.06.94z\"/><path d=\"M17.41 7.96l-1.37-1.37c-.4-.4-.92-.59-1.43-.59-.52 0-1.04.2-1.43.59L10.3 9.45l-7.72 7.72c-.78.78-.78 2.05 0 2.83L4 21.41c.39.39.9.59 1.41.59.51 0 1.02-.2 1.41-.59l7.78-7.78 2.81-2.81c.8-.78.8-2.07 0-2.86zM5.41 20L4 18.59l7.72-7.72 1.47 1.35L5.41 20z\"/>\n",
              "  </svg>\n",
              "      </button>\n",
              "      \n",
              "  <style>\n",
              "    .colab-df-container {\n",
              "      display:flex;\n",
              "      flex-wrap:wrap;\n",
              "      gap: 12px;\n",
              "    }\n",
              "\n",
              "    .colab-df-convert {\n",
              "      background-color: #E8F0FE;\n",
              "      border: none;\n",
              "      border-radius: 50%;\n",
              "      cursor: pointer;\n",
              "      display: none;\n",
              "      fill: #1967D2;\n",
              "      height: 32px;\n",
              "      padding: 0 0 0 0;\n",
              "      width: 32px;\n",
              "    }\n",
              "\n",
              "    .colab-df-convert:hover {\n",
              "      background-color: #E2EBFA;\n",
              "      box-shadow: 0px 1px 2px rgba(60, 64, 67, 0.3), 0px 1px 3px 1px rgba(60, 64, 67, 0.15);\n",
              "      fill: #174EA6;\n",
              "    }\n",
              "\n",
              "    [theme=dark] .colab-df-convert {\n",
              "      background-color: #3B4455;\n",
              "      fill: #D2E3FC;\n",
              "    }\n",
              "\n",
              "    [theme=dark] .colab-df-convert:hover {\n",
              "      background-color: #434B5C;\n",
              "      box-shadow: 0px 1px 3px 1px rgba(0, 0, 0, 0.15);\n",
              "      filter: drop-shadow(0px 1px 2px rgba(0, 0, 0, 0.3));\n",
              "      fill: #FFFFFF;\n",
              "    }\n",
              "  </style>\n",
              "\n",
              "      <script>\n",
              "        const buttonEl =\n",
              "          document.querySelector('#df-9fd7171e-f6ce-4c6b-b513-a40deb88266e button.colab-df-convert');\n",
              "        buttonEl.style.display =\n",
              "          google.colab.kernel.accessAllowed ? 'block' : 'none';\n",
              "\n",
              "        async function convertToInteractive(key) {\n",
              "          const element = document.querySelector('#df-9fd7171e-f6ce-4c6b-b513-a40deb88266e');\n",
              "          const dataTable =\n",
              "            await google.colab.kernel.invokeFunction('convertToInteractive',\n",
              "                                                     [key], {});\n",
              "          if (!dataTable) return;\n",
              "\n",
              "          const docLinkHtml = 'Like what you see? Visit the ' +\n",
              "            '<a target=\"_blank\" href=https://colab.research.google.com/notebooks/data_table.ipynb>data table notebook</a>'\n",
              "            + ' to learn more about interactive tables.';\n",
              "          element.innerHTML = '';\n",
              "          dataTable['output_type'] = 'display_data';\n",
              "          await google.colab.output.renderOutput(dataTable, element);\n",
              "          const docLink = document.createElement('div');\n",
              "          docLink.innerHTML = docLinkHtml;\n",
              "          element.appendChild(docLink);\n",
              "        }\n",
              "      </script>\n",
              "    </div>\n",
              "  </div>\n",
              "  "
            ]
          },
          "metadata": {},
          "execution_count": 161
        }
      ]
    },
    {
      "cell_type": "markdown",
      "source": [
        "Handling Related Apps Column"
      ],
      "metadata": {
        "id": "zKDuB1GlYcPQ"
      }
    },
    {
      "cell_type": "code",
      "source": [
        "## Converting related apps column to list\n",
        "df['Related apps'] = df['Related apps'].str.strip('{}').str.split(',')"
      ],
      "metadata": {
        "id": "gEk2s4-NZlax"
      },
      "execution_count": 167,
      "outputs": []
    },
    {
      "cell_type": "code",
      "source": [
        "df['Related apps'] = df['Related apps'].apply(lambda x: len(x))"
      ],
      "metadata": {
        "id": "LsX_K9fDaT_O"
      },
      "execution_count": 170,
      "outputs": []
    },
    {
      "cell_type": "code",
      "source": [
        "df.head()"
      ],
      "metadata": {
        "colab": {
          "base_uri": "https://localhost:8080/",
          "height": 664
        },
        "id": "2lEPVGUWadq3",
        "outputId": "d85adaa4-5b7c-4e52-b68a-8ede28e82664"
      },
      "execution_count": 171,
      "outputs": [
        {
          "output_type": "execute_result",
          "data": {
            "text/plain": [
              "                              App                                   Package  \\\n",
              "0         Canada Post Corporation                    com.canadapost.android   \n",
              "1                       Word Farm                 com.realcasualgames.words   \n",
              "2            Fortunes of War FREE                        fortunesofwar.free   \n",
              "3  Better Keyboard: Avatar Purple  com.cc.betterkeyboard.skins.avatarpurple   \n",
              "5         Ms Claus Live Wallpaper           tmc.christmaslady.livewallpaper   \n",
              "\n",
              "   Category                                        Description  Rating  \\\n",
              "0  0.428732  Canada Post Mobile App gives you access to som...     3.1   \n",
              "1  0.659218  Speed and strategy combine in this exciting wo...     4.3   \n",
              "2  0.328105  Fortunes of War is a fast-paced, easy to learn...     4.1   \n",
              "3  0.165455  Skin for Better Keyboard featuring a glossy fe...     3.6   \n",
              "5  0.665951  Ms Claus Live Wallpaper<p>Find more Free apps ...     4.5   \n",
              "\n",
              "   Number of ratings  Paid/Unpaid  Related apps  Dangerous permissions count  \\\n",
              "0                 77            0             4                          7.0   \n",
              "1                199            0             4                          3.0   \n",
              "2                243            0             4                          1.0   \n",
              "3               2589            0             4                          0.0   \n",
              "5                 16            0             4                          3.0   \n",
              "\n",
              "   Safe permissions count  ...  \\\n",
              "0                       1  ...   \n",
              "1                       2  ...   \n",
              "2                       1  ...   \n",
              "3                       0  ...   \n",
              "5                       1  ...   \n",
              "\n",
              "   Your personal information : read calendar events (D)  \\\n",
              "0                                                  0      \n",
              "1                                                  0      \n",
              "2                                                  0      \n",
              "3                                                  0      \n",
              "5                                                  0      \n",
              "\n",
              "   Your personal information : read contact data (D)  \\\n",
              "0                                                  1   \n",
              "1                                                  0   \n",
              "2                                                  0   \n",
              "3                                                  0   \n",
              "5                                                  0   \n",
              "\n",
              "   Your personal information : read sensitive log data (D)  \\\n",
              "0                                                  0         \n",
              "1                                                  0         \n",
              "2                                                  0         \n",
              "3                                                  0         \n",
              "5                                                  0         \n",
              "\n",
              "   Your personal information : read user defined dictionary (D)  \\\n",
              "0                                                  0              \n",
              "1                                                  0              \n",
              "2                                                  0              \n",
              "3                                                  0              \n",
              "5                                                  0              \n",
              "\n",
              "   Your personal information : retrieve system internal state (S)  \\\n",
              "0                                                  0                \n",
              "1                                                  0                \n",
              "2                                                  0                \n",
              "3                                                  0                \n",
              "5                                                  0                \n",
              "\n",
              "   Your personal information : set alarm in alarm clock (S)  \\\n",
              "0                                                  0          \n",
              "1                                                  0          \n",
              "2                                                  0          \n",
              "3                                                  0          \n",
              "5                                                  0          \n",
              "\n",
              "   Your personal information : write Browser's history and bookmarks (D)  \\\n",
              "0                                                  0                       \n",
              "1                                                  0                       \n",
              "2                                                  0                       \n",
              "3                                                  0                       \n",
              "5                                                  0                       \n",
              "\n",
              "   Your personal information : write contact data (D)  \\\n",
              "0                                                  1    \n",
              "1                                                  0    \n",
              "2                                                  0    \n",
              "3                                                  0    \n",
              "5                                                  0    \n",
              "\n",
              "   Your personal information : write to user defined dictionary (S)  Class  \n",
              "0                                                  0                     0  \n",
              "1                                                  0                     0  \n",
              "2                                                  0                     0  \n",
              "3                                                  0                     0  \n",
              "5                                                  0                     0  \n",
              "\n",
              "[5 rows x 162 columns]"
            ],
            "text/html": [
              "\n",
              "  <div id=\"df-7d134ba6-1ad7-4831-89ce-774bd7b1f03a\">\n",
              "    <div class=\"colab-df-container\">\n",
              "      <div>\n",
              "<style scoped>\n",
              "    .dataframe tbody tr th:only-of-type {\n",
              "        vertical-align: middle;\n",
              "    }\n",
              "\n",
              "    .dataframe tbody tr th {\n",
              "        vertical-align: top;\n",
              "    }\n",
              "\n",
              "    .dataframe thead th {\n",
              "        text-align: right;\n",
              "    }\n",
              "</style>\n",
              "<table border=\"1\" class=\"dataframe\">\n",
              "  <thead>\n",
              "    <tr style=\"text-align: right;\">\n",
              "      <th></th>\n",
              "      <th>App</th>\n",
              "      <th>Package</th>\n",
              "      <th>Category</th>\n",
              "      <th>Description</th>\n",
              "      <th>Rating</th>\n",
              "      <th>Number of ratings</th>\n",
              "      <th>Paid/Unpaid</th>\n",
              "      <th>Related apps</th>\n",
              "      <th>Dangerous permissions count</th>\n",
              "      <th>Safe permissions count</th>\n",
              "      <th>...</th>\n",
              "      <th>Your personal information : read calendar events (D)</th>\n",
              "      <th>Your personal information : read contact data (D)</th>\n",
              "      <th>Your personal information : read sensitive log data (D)</th>\n",
              "      <th>Your personal information : read user defined dictionary (D)</th>\n",
              "      <th>Your personal information : retrieve system internal state (S)</th>\n",
              "      <th>Your personal information : set alarm in alarm clock (S)</th>\n",
              "      <th>Your personal information : write Browser's history and bookmarks (D)</th>\n",
              "      <th>Your personal information : write contact data (D)</th>\n",
              "      <th>Your personal information : write to user defined dictionary (S)</th>\n",
              "      <th>Class</th>\n",
              "    </tr>\n",
              "  </thead>\n",
              "  <tbody>\n",
              "    <tr>\n",
              "      <th>0</th>\n",
              "      <td>Canada Post Corporation</td>\n",
              "      <td>com.canadapost.android</td>\n",
              "      <td>0.428732</td>\n",
              "      <td>Canada Post Mobile App gives you access to som...</td>\n",
              "      <td>3.1</td>\n",
              "      <td>77</td>\n",
              "      <td>0</td>\n",
              "      <td>4</td>\n",
              "      <td>7.0</td>\n",
              "      <td>1</td>\n",
              "      <td>...</td>\n",
              "      <td>0</td>\n",
              "      <td>1</td>\n",
              "      <td>0</td>\n",
              "      <td>0</td>\n",
              "      <td>0</td>\n",
              "      <td>0</td>\n",
              "      <td>0</td>\n",
              "      <td>1</td>\n",
              "      <td>0</td>\n",
              "      <td>0</td>\n",
              "    </tr>\n",
              "    <tr>\n",
              "      <th>1</th>\n",
              "      <td>Word Farm</td>\n",
              "      <td>com.realcasualgames.words</td>\n",
              "      <td>0.659218</td>\n",
              "      <td>Speed and strategy combine in this exciting wo...</td>\n",
              "      <td>4.3</td>\n",
              "      <td>199</td>\n",
              "      <td>0</td>\n",
              "      <td>4</td>\n",
              "      <td>3.0</td>\n",
              "      <td>2</td>\n",
              "      <td>...</td>\n",
              "      <td>0</td>\n",
              "      <td>0</td>\n",
              "      <td>0</td>\n",
              "      <td>0</td>\n",
              "      <td>0</td>\n",
              "      <td>0</td>\n",
              "      <td>0</td>\n",
              "      <td>0</td>\n",
              "      <td>0</td>\n",
              "      <td>0</td>\n",
              "    </tr>\n",
              "    <tr>\n",
              "      <th>2</th>\n",
              "      <td>Fortunes of War FREE</td>\n",
              "      <td>fortunesofwar.free</td>\n",
              "      <td>0.328105</td>\n",
              "      <td>Fortunes of War is a fast-paced, easy to learn...</td>\n",
              "      <td>4.1</td>\n",
              "      <td>243</td>\n",
              "      <td>0</td>\n",
              "      <td>4</td>\n",
              "      <td>1.0</td>\n",
              "      <td>1</td>\n",
              "      <td>...</td>\n",
              "      <td>0</td>\n",
              "      <td>0</td>\n",
              "      <td>0</td>\n",
              "      <td>0</td>\n",
              "      <td>0</td>\n",
              "      <td>0</td>\n",
              "      <td>0</td>\n",
              "      <td>0</td>\n",
              "      <td>0</td>\n",
              "      <td>0</td>\n",
              "    </tr>\n",
              "    <tr>\n",
              "      <th>3</th>\n",
              "      <td>Better Keyboard: Avatar Purple</td>\n",
              "      <td>com.cc.betterkeyboard.skins.avatarpurple</td>\n",
              "      <td>0.165455</td>\n",
              "      <td>Skin for Better Keyboard featuring a glossy fe...</td>\n",
              "      <td>3.6</td>\n",
              "      <td>2589</td>\n",
              "      <td>0</td>\n",
              "      <td>4</td>\n",
              "      <td>0.0</td>\n",
              "      <td>0</td>\n",
              "      <td>...</td>\n",
              "      <td>0</td>\n",
              "      <td>0</td>\n",
              "      <td>0</td>\n",
              "      <td>0</td>\n",
              "      <td>0</td>\n",
              "      <td>0</td>\n",
              "      <td>0</td>\n",
              "      <td>0</td>\n",
              "      <td>0</td>\n",
              "      <td>0</td>\n",
              "    </tr>\n",
              "    <tr>\n",
              "      <th>5</th>\n",
              "      <td>Ms Claus Live Wallpaper</td>\n",
              "      <td>tmc.christmaslady.livewallpaper</td>\n",
              "      <td>0.665951</td>\n",
              "      <td>Ms Claus Live Wallpaper&lt;p&gt;Find more Free apps ...</td>\n",
              "      <td>4.5</td>\n",
              "      <td>16</td>\n",
              "      <td>0</td>\n",
              "      <td>4</td>\n",
              "      <td>3.0</td>\n",
              "      <td>1</td>\n",
              "      <td>...</td>\n",
              "      <td>0</td>\n",
              "      <td>0</td>\n",
              "      <td>0</td>\n",
              "      <td>0</td>\n",
              "      <td>0</td>\n",
              "      <td>0</td>\n",
              "      <td>0</td>\n",
              "      <td>0</td>\n",
              "      <td>0</td>\n",
              "      <td>0</td>\n",
              "    </tr>\n",
              "  </tbody>\n",
              "</table>\n",
              "<p>5 rows × 162 columns</p>\n",
              "</div>\n",
              "      <button class=\"colab-df-convert\" onclick=\"convertToInteractive('df-7d134ba6-1ad7-4831-89ce-774bd7b1f03a')\"\n",
              "              title=\"Convert this dataframe to an interactive table.\"\n",
              "              style=\"display:none;\">\n",
              "        \n",
              "  <svg xmlns=\"http://www.w3.org/2000/svg\" height=\"24px\"viewBox=\"0 0 24 24\"\n",
              "       width=\"24px\">\n",
              "    <path d=\"M0 0h24v24H0V0z\" fill=\"none\"/>\n",
              "    <path d=\"M18.56 5.44l.94 2.06.94-2.06 2.06-.94-2.06-.94-.94-2.06-.94 2.06-2.06.94zm-11 1L8.5 8.5l.94-2.06 2.06-.94-2.06-.94L8.5 2.5l-.94 2.06-2.06.94zm10 10l.94 2.06.94-2.06 2.06-.94-2.06-.94-.94-2.06-.94 2.06-2.06.94z\"/><path d=\"M17.41 7.96l-1.37-1.37c-.4-.4-.92-.59-1.43-.59-.52 0-1.04.2-1.43.59L10.3 9.45l-7.72 7.72c-.78.78-.78 2.05 0 2.83L4 21.41c.39.39.9.59 1.41.59.51 0 1.02-.2 1.41-.59l7.78-7.78 2.81-2.81c.8-.78.8-2.07 0-2.86zM5.41 20L4 18.59l7.72-7.72 1.47 1.35L5.41 20z\"/>\n",
              "  </svg>\n",
              "      </button>\n",
              "      \n",
              "  <style>\n",
              "    .colab-df-container {\n",
              "      display:flex;\n",
              "      flex-wrap:wrap;\n",
              "      gap: 12px;\n",
              "    }\n",
              "\n",
              "    .colab-df-convert {\n",
              "      background-color: #E8F0FE;\n",
              "      border: none;\n",
              "      border-radius: 50%;\n",
              "      cursor: pointer;\n",
              "      display: none;\n",
              "      fill: #1967D2;\n",
              "      height: 32px;\n",
              "      padding: 0 0 0 0;\n",
              "      width: 32px;\n",
              "    }\n",
              "\n",
              "    .colab-df-convert:hover {\n",
              "      background-color: #E2EBFA;\n",
              "      box-shadow: 0px 1px 2px rgba(60, 64, 67, 0.3), 0px 1px 3px 1px rgba(60, 64, 67, 0.15);\n",
              "      fill: #174EA6;\n",
              "    }\n",
              "\n",
              "    [theme=dark] .colab-df-convert {\n",
              "      background-color: #3B4455;\n",
              "      fill: #D2E3FC;\n",
              "    }\n",
              "\n",
              "    [theme=dark] .colab-df-convert:hover {\n",
              "      background-color: #434B5C;\n",
              "      box-shadow: 0px 1px 3px 1px rgba(0, 0, 0, 0.15);\n",
              "      filter: drop-shadow(0px 1px 2px rgba(0, 0, 0, 0.3));\n",
              "      fill: #FFFFFF;\n",
              "    }\n",
              "  </style>\n",
              "\n",
              "      <script>\n",
              "        const buttonEl =\n",
              "          document.querySelector('#df-7d134ba6-1ad7-4831-89ce-774bd7b1f03a button.colab-df-convert');\n",
              "        buttonEl.style.display =\n",
              "          google.colab.kernel.accessAllowed ? 'block' : 'none';\n",
              "\n",
              "        async function convertToInteractive(key) {\n",
              "          const element = document.querySelector('#df-7d134ba6-1ad7-4831-89ce-774bd7b1f03a');\n",
              "          const dataTable =\n",
              "            await google.colab.kernel.invokeFunction('convertToInteractive',\n",
              "                                                     [key], {});\n",
              "          if (!dataTable) return;\n",
              "\n",
              "          const docLinkHtml = 'Like what you see? Visit the ' +\n",
              "            '<a target=\"_blank\" href=https://colab.research.google.com/notebooks/data_table.ipynb>data table notebook</a>'\n",
              "            + ' to learn more about interactive tables.';\n",
              "          element.innerHTML = '';\n",
              "          dataTable['output_type'] = 'display_data';\n",
              "          await google.colab.output.renderOutput(dataTable, element);\n",
              "          const docLink = document.createElement('div');\n",
              "          docLink.innerHTML = docLinkHtml;\n",
              "          element.appendChild(docLink);\n",
              "        }\n",
              "      </script>\n",
              "    </div>\n",
              "  </div>\n",
              "  "
            ]
          },
          "metadata": {},
          "execution_count": 171
        }
      ]
    },
    {
      "cell_type": "markdown",
      "source": [
        "**Plotting a correlation diagram of numeric features**"
      ],
      "metadata": {
        "id": "tXRqGMouUmwF"
      }
    },
    {
      "cell_type": "code",
      "source": [
        "corr_cols = ['Rating', 'Number of ratings', 'Dangerous permissions count', 'Safe permissions count', 'Paid/Unpaid', 'Related apps', 'Category', 'Class']\n",
        "plt.figure(figsize=(15,12))\n",
        "sns.heatmap(df[corr_cols].corr(), cmap='RdYlGn', annot=True)"
      ],
      "metadata": {
        "id": "v-LYrCvjsSXu",
        "colab": {
          "base_uri": "https://localhost:8080/",
          "height": 860
        },
        "outputId": "a9158440-40ff-4834-c1c7-e4a398d4a62b"
      },
      "execution_count": 173,
      "outputs": [
        {
          "output_type": "execute_result",
          "data": {
            "text/plain": [
              "<matplotlib.axes._subplots.AxesSubplot at 0x7f4339e25dd0>"
            ]
          },
          "metadata": {},
          "execution_count": 173
        },
        {
          "output_type": "display_data",
          "data": {
            "text/plain": [
              "<Figure size 1080x864 with 2 Axes>"
            ],
            "image/png": "[encoded data removed]"
          },
          "metadata": {
            "needs_background": "light"
          }
        }
      ]
    },
    {
      "cell_type": "code",
      "source": [
        ""
      ],
      "metadata": {
        "id": "TGZFcBpwbBrs"
      },
      "execution_count": null,
      "outputs": []
    }
  ]
}